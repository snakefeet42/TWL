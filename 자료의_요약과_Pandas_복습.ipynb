{
  "nbformat": 4,
  "nbformat_minor": 0,
  "metadata": {
    "colab": {
      "name": "자료의 요약과 Pandas 예제.jy복습",
      "version": "0.3.2",
      "provenance": [],
      "private_outputs": true,
      "collapsed_sections": []
    },
    "kernelspec": {
      "name": "python3",
      "display_name": "Python 3"
    }
  },
  "cells": [
    {
      "metadata": {
        "id": "fVXOhP5oNNTo",
        "colab_type": "code",
        "colab": {}
      },
      "cell_type": "code",
      "source": [
        "#이게 무슨 코드인지 모르겠음... 뭔가 내 계정과 판다스-자료-콜랩을 연결하는 코드인가봉가ㅠㅠ\n",
        "\n",
        "!pip install --upgrade -q gspread\n",
        "\n",
        "import pandas as pd\n",
        "\n",
        "from google.colab import auth\n",
        "\n",
        "auth.authenticate_user()\n",
        "\n",
        "import gspread \n",
        "from oauth2client.client import GoogleCredentials\n",
        "\n",
        "\n",
        "def get_sheet(title, sheet_name):\n",
        "  gc = gspread.authorize(GoogleCredentials.get_application_default())\n",
        "  return gc.open(title).worksheet(sheet_name)"
      ],
      "execution_count": 0,
      "outputs": []
    },
    {
      "metadata": {
        "id": "fXONrKPrN2RY",
        "colab_type": "code",
        "colab": {}
      },
      "cell_type": "code",
      "source": [
        ""
      ],
      "execution_count": 0,
      "outputs": []
    },
    {
      "metadata": {
        "id": "uKIFNKkBOIT-",
        "colab_type": "text"
      },
      "cell_type": "markdown",
      "source": [
        "# 자료의 요약 시트 불러오기"
      ]
    },
    {
      "metadata": {
        "id": "EPMzPAQ5OMDz",
        "colab_type": "code",
        "colab": {}
      },
      "cell_type": "code",
      "source": [
        "def get_df(sheet_name):\n",
        "  sheet = get_sheet('자료의 요약', sheet_name)\n",
        "  \n",
        "  rows = sheet.get_all_values()\n",
        "  df = pd.DataFrame.from_records(rows)\n",
        "  \n",
        "  df.columns = df.iloc[0]\n",
        "  df = df.reindex(df.index.drop(0))\n",
        "  return df"
      ],
      "execution_count": 0,
      "outputs": []
    },
    {
      "metadata": {
        "id": "aaxmhyPiaBkT",
        "colab_type": "code",
        "colab": {}
      },
      "cell_type": "code",
      "source": [
        "sheet = get_sheet('자료의 요약', '혈액형')\n",
        "\n",
        "rows = sheet.get_all_values()\n",
        "df = pd.DataFrame.from_records(rows)\n",
        "\n",
        "df.columns = df.iloc[0]\n",
        "df = df.reindex(df.index.drop(0))"
      ],
      "execution_count": 0,
      "outputs": []
    },
    {
      "metadata": {
        "id": "-AVSjUVKa3Qx",
        "colab_type": "code",
        "colab": {}
      },
      "cell_type": "code",
      "source": [
        ""
      ],
      "execution_count": 0,
      "outputs": []
    },
    {
      "metadata": {
        "id": "0ocUXksyayBt",
        "colab_type": "text"
      },
      "cell_type": "markdown",
      "source": [
        "# 혈액형"
      ]
    },
    {
      "metadata": {
        "id": "Z1ysJ0YqazjF",
        "colab_type": "code",
        "colab": {}
      },
      "cell_type": "code",
      "source": [
        "df_blood = get_df('혈액형')\n",
        "\n",
        "print(df_blood.shape)\n",
        "df_blood.head()"
      ],
      "execution_count": 0,
      "outputs": []
    },
    {
      "metadata": {
        "id": "62Yy_BvncIaz",
        "colab_type": "code",
        "colab": {}
      },
      "cell_type": "code",
      "source": [
        "df_blood.info()"
      ],
      "execution_count": 0,
      "outputs": []
    },
    {
      "metadata": {
        "id": "SJVO0qajfCas",
        "colab_type": "code",
        "colab": {}
      },
      "cell_type": "code",
      "source": [
        "df_blood"
      ],
      "execution_count": 0,
      "outputs": []
    },
    {
      "metadata": {
        "id": "bcFLdQERfQXO",
        "colab_type": "text"
      },
      "cell_type": "markdown",
      "source": [
        "# 조선왕"
      ]
    },
    {
      "metadata": {
        "id": "q7YOMCV4fRhE",
        "colab_type": "code",
        "colab": {}
      },
      "cell_type": "code",
      "source": [
        "df_king = get_df('조선왕')\n",
        "print(df_king.shape)\n",
        "df_king.head()"
      ],
      "execution_count": 0,
      "outputs": []
    },
    {
      "metadata": {
        "id": "EMOjjfunfWR6",
        "colab_type": "code",
        "colab": {}
      },
      "cell_type": "code",
      "source": [
        "df_king.info()"
      ],
      "execution_count": 0,
      "outputs": []
    },
    {
      "metadata": {
        "id": "UMmy7U4cff2t",
        "colab_type": "code",
        "colab": {}
      },
      "cell_type": "code",
      "source": [
        "df_king.describe()"
      ],
      "execution_count": 0,
      "outputs": []
    },
    {
      "metadata": {
        "id": "XGNY6i-efj_k",
        "colab_type": "code",
        "colab": {}
      },
      "cell_type": "code",
      "source": [
        "df_king['life'] = df_king['life'].astype(int)\n",
        "df_king['period'] = df_king['period'].astype(int)\n",
        "df_king.describe()"
      ],
      "execution_count": 0,
      "outputs": []
    },
    {
      "metadata": {
        "id": "9sgssnskf2by",
        "colab_type": "code",
        "colab": {}
      },
      "cell_type": "code",
      "source": [
        "df_king.isnull().sum()"
      ],
      "execution_count": 0,
      "outputs": []
    },
    {
      "metadata": {
        "id": "UF7OrWhfgDAS",
        "colab_type": "code",
        "colab": {}
      },
      "cell_type": "code",
      "source": [
        "df_king.sort_values(by='period', ascending=True)  #ascending(오름차순) = false(내림차순으로 보여줘, True는 오름차순)"
      ],
      "execution_count": 0,
      "outputs": []
    },
    {
      "metadata": {
        "id": "PWZMkBFLgJXR",
        "colab_type": "code",
        "colab": {}
      },
      "cell_type": "code",
      "source": [
        "df_king.mean()"
      ],
      "execution_count": 0,
      "outputs": []
    },
    {
      "metadata": {
        "id": "cOq-zfYDgymm",
        "colab_type": "code",
        "colab": {}
      },
      "cell_type": "code",
      "source": [
        "df_king.std()"
      ],
      "execution_count": 0,
      "outputs": []
    },
    {
      "metadata": {
        "id": "HaWiBC-ig1B2",
        "colab_type": "code",
        "colab": {}
      },
      "cell_type": "code",
      "source": [
        "df_king.max()"
      ],
      "execution_count": 0,
      "outputs": []
    },
    {
      "metadata": {
        "id": "qIW5cXRkg24k",
        "colab_type": "code",
        "colab": {}
      },
      "cell_type": "code",
      "source": [
        "df_king['period'].max()"
      ],
      "execution_count": 0,
      "outputs": []
    },
    {
      "metadata": {
        "id": "60yBkKxgg8OK",
        "colab_type": "code",
        "colab": {}
      },
      "cell_type": "code",
      "source": [
        "df_king['life'].plot()"
      ],
      "execution_count": 0,
      "outputs": []
    },
    {
      "metadata": {
        "id": "4WYghXJJhAeq",
        "colab_type": "code",
        "colab": {}
      },
      "cell_type": "code",
      "source": [
        "df_king['life'].hist()"
      ],
      "execution_count": 0,
      "outputs": []
    },
    {
      "metadata": {
        "id": "FY0MiMEchKV1",
        "colab_type": "code",
        "colab": {}
      },
      "cell_type": "code",
      "source": [
        "df_king[''].hist(stacked=True, bins=10) #stack: 여러개의 히스토그램을 하나에 겹치는 것, bin: 셀의 크기"
      ],
      "execution_count": 0,
      "outputs": []
    },
    {
      "metadata": {
        "id": "JCIkcu4GhS6l",
        "colab_type": "code",
        "colab": {}
      },
      "cell_type": "code",
      "source": [
        "df_titanic = get_df('타이타닉')\n",
        "print(df_titanic.shape)\n",
        "df_titanic.head()"
      ],
      "execution_count": 0,
      "outputs": []
    },
    {
      "metadata": {
        "id": "CyXcPGsZi5qG",
        "colab_type": "code",
        "colab": {}
      },
      "cell_type": "code",
      "source": [
        "df_titanic.columns"
      ],
      "execution_count": 0,
      "outputs": []
    },
    {
      "metadata": {
        "id": "47R13Ha9jSZr",
        "colab_type": "code",
        "colab": {}
      },
      "cell_type": "code",
      "source": [
        "df_titanic.info()"
      ],
      "execution_count": 0,
      "outputs": []
    },
    {
      "metadata": {
        "id": "9GJzNfhHjYXz",
        "colab_type": "code",
        "colab": {}
      },
      "cell_type": "code",
      "source": [
        "df_titanic.describe()"
      ],
      "execution_count": 0,
      "outputs": []
    },
    {
      "metadata": {
        "id": "2jqc-3wejdaq",
        "colab_type": "code",
        "colab": {}
      },
      "cell_type": "code",
      "source": [
        "df_titanic['Class'].value_counts()"
      ],
      "execution_count": 0,
      "outputs": []
    },
    {
      "metadata": {
        "id": "UBYRj0zfjkmY",
        "colab_type": "code",
        "colab": {}
      },
      "cell_type": "code",
      "source": [
        "df_titanic['생존여부'].value_counts()"
      ],
      "execution_count": 0,
      "outputs": []
    },
    {
      "metadata": {
        "id": "kBFmQJuQj9Bp",
        "colab_type": "code",
        "colab": {}
      },
      "cell_type": "code",
      "source": [
        "df_titanic['Class'].hist()"
      ],
      "execution_count": 0,
      "outputs": []
    },
    {
      "metadata": {
        "id": "Lox0_TyFkJuG",
        "colab_type": "code",
        "colab": {}
      },
      "cell_type": "code",
      "source": [
        ""
      ],
      "execution_count": 0,
      "outputs": []
    }
  ]
}