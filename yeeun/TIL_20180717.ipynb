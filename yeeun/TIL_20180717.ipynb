{
 "cells": [
  {
   "cell_type": "markdown",
   "metadata": {},
   "source": [
    "# Pandas로 국민청원 데이터 분석하기"
   ]
  },
  {
   "cell_type": "markdown",
   "metadata": {},
   "source": [
    "## Pandas와 NumPy를 import해 옵니다."
   ]
  },
  {
   "cell_type": "code",
   "execution_count": 1,
   "metadata": {},
   "outputs": [
    {
     "name": "stdout",
     "output_type": "stream",
     "text": [
      "0.23.1\n",
      "1.14.5\n"
     ]
    }
   ],
   "source": [
    "import pandas as pd\n",
    "import numpy as np\n",
    "print(pd.__version__)\n",
    "print(np.__version__)"
   ]
  },
  {
   "cell_type": "markdown",
   "metadata": {},
   "source": [
    "## csv 데이터를 불러 옵니다."
   ]
  },
  {
   "cell_type": "code",
   "execution_count": 2,
   "metadata": {
    "collapsed": true
   },
   "outputs": [],
   "source": [
    "df = pd.read_csv('petition.csv', parse_dates=['start', 'end'])"
   ]
  },
  {
   "cell_type": "markdown",
   "metadata": {},
   "source": [
    "## 읽어온 데이터가 몇 행 몇 열인지 봅니다."
   ]
  },
  {
   "cell_type": "code",
   "execution_count": 3,
   "metadata": {},
   "outputs": [
    {
     "data": {
      "text/plain": [
       "(210424, 8)"
      ]
     },
     "execution_count": 3,
     "metadata": {},
     "output_type": "execute_result"
    }
   ],
   "source": [
    "df.shape"
   ]
  },
  {
   "cell_type": "markdown",
   "metadata": {},
   "source": [
    "## 일부 데이터 미리 보기\n",
    "* 상단 5개의 데이터를 불러옵니다."
   ]
  },
  {
   "cell_type": "code",
   "execution_count": 4,
   "metadata": {},
   "outputs": [
    {
     "data": {
      "text/html": [
       "<div>\n",
       "<style scoped>\n",
       "    .dataframe tbody tr th:only-of-type {\n",
       "        vertical-align: middle;\n",
       "    }\n",
       "\n",
       "    .dataframe tbody tr th {\n",
       "        vertical-align: top;\n",
       "    }\n",
       "\n",
       "    .dataframe thead th {\n",
       "        text-align: right;\n",
       "    }\n",
       "</style>\n",
       "<table border=\"1\" class=\"dataframe\">\n",
       "  <thead>\n",
       "    <tr style=\"text-align: right;\">\n",
       "      <th></th>\n",
       "      <th>article_id</th>\n",
       "      <th>start</th>\n",
       "      <th>end</th>\n",
       "      <th>answered</th>\n",
       "      <th>votes</th>\n",
       "      <th>category</th>\n",
       "      <th>title</th>\n",
       "      <th>content</th>\n",
       "    </tr>\n",
       "  </thead>\n",
       "  <tbody>\n",
       "    <tr>\n",
       "      <th>0</th>\n",
       "      <td>21</td>\n",
       "      <td>2017-08-19</td>\n",
       "      <td>2017-11-17</td>\n",
       "      <td>0</td>\n",
       "      <td>9</td>\n",
       "      <td>안전/환경</td>\n",
       "      <td>스텔라 데이지호에 대한 제안입니다.</td>\n",
       "      <td>스텔라 데이지호에 대한 제안입니다.\\n3월31일 스텔라 데이지호가 침몰하고 5달째가...</td>\n",
       "    </tr>\n",
       "    <tr>\n",
       "      <th>1</th>\n",
       "      <td>22</td>\n",
       "      <td>2017-08-19</td>\n",
       "      <td>2017-11-17</td>\n",
       "      <td>0</td>\n",
       "      <td>17</td>\n",
       "      <td>기타</td>\n",
       "      <td>비리제보처를 만들어주세요.</td>\n",
       "      <td>현 정부에 국민들이 가장 원하는 것은 부패척결입니다.  우리 사회에 각종 비리들이 ...</td>\n",
       "    </tr>\n",
       "    <tr>\n",
       "      <th>2</th>\n",
       "      <td>23</td>\n",
       "      <td>2017-08-19</td>\n",
       "      <td>2017-09-03</td>\n",
       "      <td>0</td>\n",
       "      <td>0</td>\n",
       "      <td>미래</td>\n",
       "      <td>제2의 개성공단</td>\n",
       "      <td>만일 하시는 대통령님 및 각 부처 장관님,주무관님들 안녕하세요!!\\n전남 목포에서 ...</td>\n",
       "    </tr>\n",
       "    <tr>\n",
       "      <th>3</th>\n",
       "      <td>24</td>\n",
       "      <td>2017-08-19</td>\n",
       "      <td>2017-08-26</td>\n",
       "      <td>0</td>\n",
       "      <td>53</td>\n",
       "      <td>일자리</td>\n",
       "      <td>공공기관 무조건적인 정규직전환을 반대합니다.</td>\n",
       "      <td>현정부에서 정규직 일자리를 늘리는 것에 찬성합니다. 그런데 공공기관 비정규직들은 인...</td>\n",
       "    </tr>\n",
       "    <tr>\n",
       "      <th>4</th>\n",
       "      <td>25</td>\n",
       "      <td>2017-08-19</td>\n",
       "      <td>2017-09-03</td>\n",
       "      <td>0</td>\n",
       "      <td>0</td>\n",
       "      <td>미래</td>\n",
       "      <td>제2의 개성공단</td>\n",
       "      <td>만일 하시는 대통령님 및 각 부처 장관님,주무관님들 안녕하세요!!\\n전남 목포에서 ...</td>\n",
       "    </tr>\n",
       "  </tbody>\n",
       "</table>\n",
       "</div>"
      ],
      "text/plain": [
       "   article_id      start        end  answered  votes category  \\\n",
       "0          21 2017-08-19 2017-11-17         0      9    안전/환경   \n",
       "1          22 2017-08-19 2017-11-17         0     17       기타   \n",
       "2          23 2017-08-19 2017-09-03         0      0       미래   \n",
       "3          24 2017-08-19 2017-08-26         0     53      일자리   \n",
       "4          25 2017-08-19 2017-09-03         0      0       미래   \n",
       "\n",
       "                      title                                            content  \n",
       "0       스텔라 데이지호에 대한 제안입니다.  스텔라 데이지호에 대한 제안입니다.\\n3월31일 스텔라 데이지호가 침몰하고 5달째가...  \n",
       "1            비리제보처를 만들어주세요.  현 정부에 국민들이 가장 원하는 것은 부패척결입니다.  우리 사회에 각종 비리들이 ...  \n",
       "2                  제2의 개성공단  만일 하시는 대통령님 및 각 부처 장관님,주무관님들 안녕하세요!!\\n전남 목포에서 ...  \n",
       "3  공공기관 무조건적인 정규직전환을 반대합니다.  현정부에서 정규직 일자리를 늘리는 것에 찬성합니다. 그런데 공공기관 비정규직들은 인...  \n",
       "4                  제2의 개성공단  만일 하시는 대통령님 및 각 부처 장관님,주무관님들 안녕하세요!!\\n전남 목포에서 ...  "
      ]
     },
     "execution_count": 4,
     "metadata": {},
     "output_type": "execute_result"
    }
   ],
   "source": [
    "df.head()"
   ]
  },
  {
   "cell_type": "markdown",
   "metadata": {},
   "source": [
    "* 하단 3개의 데이터를 불러옵니다."
   ]
  },
  {
   "cell_type": "code",
   "execution_count": 5,
   "metadata": {},
   "outputs": [
    {
     "data": {
      "text/html": [
       "<div>\n",
       "<style scoped>\n",
       "    .dataframe tbody tr th:only-of-type {\n",
       "        vertical-align: middle;\n",
       "    }\n",
       "\n",
       "    .dataframe tbody tr th {\n",
       "        vertical-align: top;\n",
       "    }\n",
       "\n",
       "    .dataframe thead th {\n",
       "        text-align: right;\n",
       "    }\n",
       "</style>\n",
       "<table border=\"1\" class=\"dataframe\">\n",
       "  <thead>\n",
       "    <tr style=\"text-align: right;\">\n",
       "      <th></th>\n",
       "      <th>article_id</th>\n",
       "      <th>start</th>\n",
       "      <th>end</th>\n",
       "      <th>answered</th>\n",
       "      <th>votes</th>\n",
       "      <th>category</th>\n",
       "      <th>title</th>\n",
       "      <th>content</th>\n",
       "    </tr>\n",
       "  </thead>\n",
       "  <tbody>\n",
       "    <tr>\n",
       "      <th>210421</th>\n",
       "      <td>271765</td>\n",
       "      <td>2018-06-15</td>\n",
       "      <td>2018-07-15</td>\n",
       "      <td>0</td>\n",
       "      <td>3</td>\n",
       "      <td>일자리</td>\n",
       "      <td>판교 롯데마트에서</td>\n",
       "      <td>모 음식코너에서  시식을  위해  주 5일  일하는  50대  여성  알바  근로자...</td>\n",
       "    </tr>\n",
       "    <tr>\n",
       "      <th>210422</th>\n",
       "      <td>271766</td>\n",
       "      <td>2018-06-15</td>\n",
       "      <td>2018-07-15</td>\n",
       "      <td>0</td>\n",
       "      <td>12</td>\n",
       "      <td>인권/성평등</td>\n",
       "      <td>여탕에 남자아이들이 들어오자못하게 해주세요.</td>\n",
       "      <td>안녕하세요.청원자입니다.저는 보다시피 고 2입니다. 제가 어제 목욕탕(사우나)를 같...</td>\n",
       "    </tr>\n",
       "    <tr>\n",
       "      <th>210423</th>\n",
       "      <td>271767</td>\n",
       "      <td>2018-06-15</td>\n",
       "      <td>2018-07-15</td>\n",
       "      <td>0</td>\n",
       "      <td>2</td>\n",
       "      <td>미래</td>\n",
       "      <td>인천과 강원도 원주와 태백에도 중앙정부행정기관 청사를 설치해주세요</td>\n",
       "      <td>인천광역시 서구 원창동과 강원도 원주시 무실동과 강원도 정선에도 강원도 태백시 동점...</td>\n",
       "    </tr>\n",
       "  </tbody>\n",
       "</table>\n",
       "</div>"
      ],
      "text/plain": [
       "        article_id      start        end  answered  votes category  \\\n",
       "210421      271765 2018-06-15 2018-07-15         0      3      일자리   \n",
       "210422      271766 2018-06-15 2018-07-15         0     12   인권/성평등   \n",
       "210423      271767 2018-06-15 2018-07-15         0      2       미래   \n",
       "\n",
       "                                       title  \\\n",
       "210421                             판교 롯데마트에서   \n",
       "210422              여탕에 남자아이들이 들어오자못하게 해주세요.   \n",
       "210423  인천과 강원도 원주와 태백에도 중앙정부행정기관 청사를 설치해주세요   \n",
       "\n",
       "                                                  content  \n",
       "210421  모 음식코너에서  시식을  위해  주 5일  일하는  50대  여성  알바  근로자...  \n",
       "210422  안녕하세요.청원자입니다.저는 보다시피 고 2입니다. 제가 어제 목욕탕(사우나)를 같...  \n",
       "210423  인천광역시 서구 원창동과 강원도 원주시 무실동과 강원도 정선에도 강원도 태백시 동점...  "
      ]
     },
     "execution_count": 5,
     "metadata": {},
     "output_type": "execute_result"
    }
   ],
   "source": [
    "df.tail(3)"
   ]
  },
  {
   "cell_type": "markdown",
   "metadata": {},
   "source": [
    "## 결측치가 있는지 확인해 봅니다."
   ]
  },
  {
   "cell_type": "code",
   "execution_count": 6,
   "metadata": {},
   "outputs": [
    {
     "data": {
      "text/plain": [
       "article_id    0\n",
       "start         0\n",
       "end           0\n",
       "answered      0\n",
       "votes         0\n",
       "category      0\n",
       "title         0\n",
       "content       1\n",
       "dtype: int64"
      ]
     },
     "execution_count": 6,
     "metadata": {},
     "output_type": "execute_result"
    }
   ],
   "source": [
    "df.isnull().sum()"
   ]
  },
  {
   "cell_type": "markdown",
   "metadata": {},
   "source": [
    "## 데이터 요약하기\n",
    "* 어떤 컬럼이 있고 어떤 타입인지 출력해 봅니다."
   ]
  },
  {
   "cell_type": "code",
   "execution_count": 7,
   "metadata": {},
   "outputs": [
    {
     "name": "stdout",
     "output_type": "stream",
     "text": [
      "<class 'pandas.core.frame.DataFrame'>\n",
      "RangeIndex: 210424 entries, 0 to 210423\n",
      "Data columns (total 8 columns):\n",
      "article_id    210424 non-null int64\n",
      "start         210424 non-null datetime64[ns]\n",
      "end           210424 non-null datetime64[ns]\n",
      "answered      210424 non-null int64\n",
      "votes         210424 non-null int64\n",
      "category      210424 non-null object\n",
      "title         210424 non-null object\n",
      "content       210423 non-null object\n",
      "dtypes: datetime64[ns](2), int64(3), object(3)\n",
      "memory usage: 12.8+ MB\n"
     ]
    }
   ],
   "source": [
    "df.info()"
   ]
  },
  {
   "cell_type": "markdown",
   "metadata": {},
   "source": [
    "* 데이터 타입만 따로 뽑아 봅니다."
   ]
  },
  {
   "cell_type": "code",
   "execution_count": 8,
   "metadata": {},
   "outputs": [
    {
     "data": {
      "text/plain": [
       "article_id             int64\n",
       "start         datetime64[ns]\n",
       "end           datetime64[ns]\n",
       "answered               int64\n",
       "votes                  int64\n",
       "category              object\n",
       "title                 object\n",
       "content               object\n",
       "dtype: object"
      ]
     },
     "execution_count": 8,
     "metadata": {},
     "output_type": "execute_result"
    }
   ],
   "source": [
    "df.dtypes"
   ]
  },
  {
   "cell_type": "markdown",
   "metadata": {},
   "source": [
    "* 컬럼명만 따로 추출해 봅니다."
   ]
  },
  {
   "cell_type": "code",
   "execution_count": 9,
   "metadata": {},
   "outputs": [
    {
     "data": {
      "text/plain": [
       "Index(['article_id', 'start', 'end', 'answered', 'votes', 'category', 'title',\n",
       "       'content'],\n",
       "      dtype='object')"
      ]
     },
     "execution_count": 9,
     "metadata": {},
     "output_type": "execute_result"
    }
   ],
   "source": [
    "col = df.columns\n",
    "col"
   ]
  },
  {
   "cell_type": "markdown",
   "metadata": {},
   "source": [
    "* 수치형 데이터에 대한 요약을 봅니다."
   ]
  },
  {
   "cell_type": "code",
   "execution_count": 10,
   "metadata": {},
   "outputs": [
    {
     "data": {
      "text/html": [
       "<div>\n",
       "<style scoped>\n",
       "    .dataframe tbody tr th:only-of-type {\n",
       "        vertical-align: middle;\n",
       "    }\n",
       "\n",
       "    .dataframe tbody tr th {\n",
       "        vertical-align: top;\n",
       "    }\n",
       "\n",
       "    .dataframe thead th {\n",
       "        text-align: right;\n",
       "    }\n",
       "</style>\n",
       "<table border=\"1\" class=\"dataframe\">\n",
       "  <thead>\n",
       "    <tr style=\"text-align: right;\">\n",
       "      <th></th>\n",
       "      <th>article_id</th>\n",
       "      <th>answered</th>\n",
       "      <th>votes</th>\n",
       "    </tr>\n",
       "  </thead>\n",
       "  <tbody>\n",
       "    <tr>\n",
       "      <th>count</th>\n",
       "      <td>210424.000000</td>\n",
       "      <td>210424.000000</td>\n",
       "      <td>210424.000000</td>\n",
       "    </tr>\n",
       "    <tr>\n",
       "      <th>mean</th>\n",
       "      <td>126356.643358</td>\n",
       "      <td>0.000128</td>\n",
       "      <td>146.814508</td>\n",
       "    </tr>\n",
       "    <tr>\n",
       "      <th>std</th>\n",
       "      <td>79120.580606</td>\n",
       "      <td>0.011327</td>\n",
       "      <td>4595.002647</td>\n",
       "    </tr>\n",
       "    <tr>\n",
       "      <th>min</th>\n",
       "      <td>21.000000</td>\n",
       "      <td>0.000000</td>\n",
       "      <td>0.000000</td>\n",
       "    </tr>\n",
       "    <tr>\n",
       "      <th>25%</th>\n",
       "      <td>54617.750000</td>\n",
       "      <td>0.000000</td>\n",
       "      <td>1.000000</td>\n",
       "    </tr>\n",
       "    <tr>\n",
       "      <th>50%</th>\n",
       "      <td>126121.500000</td>\n",
       "      <td>0.000000</td>\n",
       "      <td>3.000000</td>\n",
       "    </tr>\n",
       "    <tr>\n",
       "      <th>75%</th>\n",
       "      <td>192984.500000</td>\n",
       "      <td>0.000000</td>\n",
       "      <td>10.000000</td>\n",
       "    </tr>\n",
       "    <tr>\n",
       "      <th>max</th>\n",
       "      <td>271767.000000</td>\n",
       "      <td>1.000000</td>\n",
       "      <td>714875.000000</td>\n",
       "    </tr>\n",
       "  </tbody>\n",
       "</table>\n",
       "</div>"
      ],
      "text/plain": [
       "          article_id       answered          votes\n",
       "count  210424.000000  210424.000000  210424.000000\n",
       "mean   126356.643358       0.000128     146.814508\n",
       "std     79120.580606       0.011327    4595.002647\n",
       "min        21.000000       0.000000       0.000000\n",
       "25%     54617.750000       0.000000       1.000000\n",
       "50%    126121.500000       0.000000       3.000000\n",
       "75%    192984.500000       0.000000      10.000000\n",
       "max    271767.000000       1.000000  714875.000000"
      ]
     },
     "execution_count": 10,
     "metadata": {},
     "output_type": "execute_result"
    }
   ],
   "source": [
    "df.describe(include=[np.int64])   "
   ]
  },
  {
   "cell_type": "markdown",
   "metadata": {},
   "source": [
    "* 카테고리(object) 형태의 데이터에 대한 요약을 봅니다."
   ]
  },
  {
   "cell_type": "code",
   "execution_count": 11,
   "metadata": {},
   "outputs": [
    {
     "data": {
      "text/html": [
       "<div>\n",
       "<style scoped>\n",
       "    .dataframe tbody tr th:only-of-type {\n",
       "        vertical-align: middle;\n",
       "    }\n",
       "\n",
       "    .dataframe tbody tr th {\n",
       "        vertical-align: top;\n",
       "    }\n",
       "\n",
       "    .dataframe thead th {\n",
       "        text-align: right;\n",
       "    }\n",
       "</style>\n",
       "<table border=\"1\" class=\"dataframe\">\n",
       "  <thead>\n",
       "    <tr style=\"text-align: right;\">\n",
       "      <th></th>\n",
       "      <th>category</th>\n",
       "      <th>title</th>\n",
       "      <th>content</th>\n",
       "    </tr>\n",
       "  </thead>\n",
       "  <tbody>\n",
       "    <tr>\n",
       "      <th>count</th>\n",
       "      <td>210424</td>\n",
       "      <td>210424</td>\n",
       "      <td>210423</td>\n",
       "    </tr>\n",
       "    <tr>\n",
       "      <th>unique</th>\n",
       "      <td>17</td>\n",
       "      <td>175539</td>\n",
       "      <td>195348</td>\n",
       "    </tr>\n",
       "    <tr>\n",
       "      <th>top</th>\n",
       "      <td>정치개혁</td>\n",
       "      <td>이명박 출국금지</td>\n",
       "      <td>이명박 출국금지</td>\n",
       "    </tr>\n",
       "    <tr>\n",
       "      <th>freq</th>\n",
       "      <td>38835</td>\n",
       "      <td>3018</td>\n",
       "      <td>597</td>\n",
       "    </tr>\n",
       "  </tbody>\n",
       "</table>\n",
       "</div>"
      ],
      "text/plain": [
       "       category     title   content\n",
       "count    210424    210424    210423\n",
       "unique       17    175539    195348\n",
       "top        정치개혁  이명박 출국금지  이명박 출국금지\n",
       "freq      38835      3018       597"
      ]
     },
     "execution_count": 11,
     "metadata": {},
     "output_type": "execute_result"
    }
   ],
   "source": [
    "df.describe(include=[np.object])"
   ]
  },
  {
   "cell_type": "markdown",
   "metadata": {},
   "source": [
    "## 답변대상 청원 보기\n",
    "20만건 이상 투표를 받으면 답변 대상 청원이 됩니다.<br/>20만건 이상 투표를 받은 청원의 갯수를 세어보세요."
   ]
  },
  {
   "cell_type": "code",
   "execution_count": 12,
   "metadata": {},
   "outputs": [
    {
     "data": {
      "text/plain": [
       "(43, 8)"
      ]
     },
     "execution_count": 12,
     "metadata": {},
     "output_type": "execute_result"
    }
   ],
   "source": [
    "df_hotvote = df[df['votes'] >= 200000]\n",
    "df_hotvote.shape"
   ]
  },
  {
   "cell_type": "markdown",
   "metadata": {},
   "source": [
    "* 20만건 이상 투표를 받은 상위 5개의 청원을 head()를 통해 출력해 보세요."
   ]
  },
  {
   "cell_type": "code",
   "execution_count": 13,
   "metadata": {
    "scrolled": true
   },
   "outputs": [
    {
     "data": {
      "text/html": [
       "<div>\n",
       "<style scoped>\n",
       "    .dataframe tbody tr th:only-of-type {\n",
       "        vertical-align: middle;\n",
       "    }\n",
       "\n",
       "    .dataframe tbody tr th {\n",
       "        vertical-align: top;\n",
       "    }\n",
       "\n",
       "    .dataframe thead th {\n",
       "        text-align: right;\n",
       "    }\n",
       "</style>\n",
       "<table border=\"1\" class=\"dataframe\">\n",
       "  <thead>\n",
       "    <tr style=\"text-align: right;\">\n",
       "      <th></th>\n",
       "      <th>article_id</th>\n",
       "      <th>start</th>\n",
       "      <th>end</th>\n",
       "      <th>answered</th>\n",
       "      <th>votes</th>\n",
       "      <th>category</th>\n",
       "      <th>title</th>\n",
       "      <th>content</th>\n",
       "    </tr>\n",
       "  </thead>\n",
       "  <tbody>\n",
       "    <tr>\n",
       "      <th>1752</th>\n",
       "      <td>1785</td>\n",
       "      <td>2017-09-03</td>\n",
       "      <td>2017-11-02</td>\n",
       "      <td>1</td>\n",
       "      <td>296330</td>\n",
       "      <td>인권/성평등</td>\n",
       "      <td>청소년이란 이유로 보호법을 악용하는 잔인무도한 청소년들이 늘어나고있습니다. 반드시 ...</td>\n",
       "      <td>안녕하십니까. 청소년보호법이란 명목하에 나쁜짓을 일삼는 청소년들이 너무나 많아지고 ...</td>\n",
       "    </tr>\n",
       "    <tr>\n",
       "      <th>10894</th>\n",
       "      <td>10949</td>\n",
       "      <td>2017-09-06</td>\n",
       "      <td>2017-12-05</td>\n",
       "      <td>1</td>\n",
       "      <td>615354</td>\n",
       "      <td>미래</td>\n",
       "      <td>조두순 출소반대</td>\n",
       "      <td>제발 조두순 재심다시해서 무기징역으로 해야됩니다!!!</td>\n",
       "    </tr>\n",
       "    <tr>\n",
       "      <th>18111</th>\n",
       "      <td>18278</td>\n",
       "      <td>2017-09-30</td>\n",
       "      <td>2017-10-30</td>\n",
       "      <td>1</td>\n",
       "      <td>235372</td>\n",
       "      <td>인권/성평등</td>\n",
       "      <td>낙태죄 폐지와 자연유산 유도약(미프진) 합법화 및 도입을 부탁드립니다.</td>\n",
       "      <td>안녕하세요. 존경하는 대통령님 의원님\\n낙태죄 폐지를 청원합니다.\\n현재 대한민국은...</td>\n",
       "    </tr>\n",
       "    <tr>\n",
       "      <th>25032</th>\n",
       "      <td>26024</td>\n",
       "      <td>2017-11-04</td>\n",
       "      <td>2017-12-04</td>\n",
       "      <td>1</td>\n",
       "      <td>216774</td>\n",
       "      <td>안전/환경</td>\n",
       "      <td>'주취감형(술을 먹으면 형벌 감형)' 폐지를 건의(청원)합니다.</td>\n",
       "      <td>'주취감형'이란, 술을 먹고 범행을 저지를 때, 심신미약 (이성이 없고 우발적)이라...</td>\n",
       "    </tr>\n",
       "    <tr>\n",
       "      <th>43992</th>\n",
       "      <td>45581</td>\n",
       "      <td>2017-11-17</td>\n",
       "      <td>2017-12-17</td>\n",
       "      <td>1</td>\n",
       "      <td>281985</td>\n",
       "      <td>보건복지</td>\n",
       "      <td>권역외상센터 (이국종 교수님) 추가적, 제도적, 환경적, 인력 지원</td>\n",
       "      <td>청원사항)\\n중증외상분야의 추가적, 제도적, 환경적, 인력 지원 방안마련\\n현 의료...</td>\n",
       "    </tr>\n",
       "  </tbody>\n",
       "</table>\n",
       "</div>"
      ],
      "text/plain": [
       "       article_id      start        end  answered   votes category  \\\n",
       "1752         1785 2017-09-03 2017-11-02         1  296330   인권/성평등   \n",
       "10894       10949 2017-09-06 2017-12-05         1  615354       미래   \n",
       "18111       18278 2017-09-30 2017-10-30         1  235372   인권/성평등   \n",
       "25032       26024 2017-11-04 2017-12-04         1  216774    안전/환경   \n",
       "43992       45581 2017-11-17 2017-12-17         1  281985     보건복지   \n",
       "\n",
       "                                                   title  \\\n",
       "1752   청소년이란 이유로 보호법을 악용하는 잔인무도한 청소년들이 늘어나고있습니다. 반드시 ...   \n",
       "10894                                           조두순 출소반대   \n",
       "18111            낙태죄 폐지와 자연유산 유도약(미프진) 합법화 및 도입을 부탁드립니다.   \n",
       "25032                '주취감형(술을 먹으면 형벌 감형)' 폐지를 건의(청원)합니다.   \n",
       "43992              권역외상센터 (이국종 교수님) 추가적, 제도적, 환경적, 인력 지원   \n",
       "\n",
       "                                                 content  \n",
       "1752   안녕하십니까. 청소년보호법이란 명목하에 나쁜짓을 일삼는 청소년들이 너무나 많아지고 ...  \n",
       "10894                      제발 조두순 재심다시해서 무기징역으로 해야됩니다!!!  \n",
       "18111  안녕하세요. 존경하는 대통령님 의원님\\n낙태죄 폐지를 청원합니다.\\n현재 대한민국은...  \n",
       "25032  '주취감형'이란, 술을 먹고 범행을 저지를 때, 심신미약 (이성이 없고 우발적)이라...  \n",
       "43992  청원사항)\\n중증외상분야의 추가적, 제도적, 환경적, 인력 지원 방안마련\\n현 의료...  "
      ]
     },
     "execution_count": 13,
     "metadata": {},
     "output_type": "execute_result"
    }
   ],
   "source": [
    "df_hotvote.head()"
   ]
  },
  {
   "cell_type": "markdown",
   "metadata": {},
   "source": [
    "* 20만건 이상 투표를 받은 청원을 별도의 컬럼을 만들어 줍니다. 컬럼 이름은 `answer`로 합니다."
   ]
  },
  {
   "cell_type": "code",
   "execution_count": 14,
   "metadata": {
    "collapsed": true
   },
   "outputs": [],
   "source": [
    "df['answer'] = df['votes'] >= 200000"
   ]
  },
  {
   "cell_type": "markdown",
   "metadata": {},
   "source": [
    "* df 데이터프레임의 크기를 다시 찍어 보세요. 컬럼 하나가 늘었나요?"
   ]
  },
  {
   "cell_type": "code",
   "execution_count": 15,
   "metadata": {},
   "outputs": [
    {
     "data": {
      "text/plain": [
       "(210424, 9)"
      ]
     },
     "execution_count": 15,
     "metadata": {},
     "output_type": "execute_result"
    }
   ],
   "source": [
    "df.shape"
   ]
  },
  {
   "cell_type": "markdown",
   "metadata": {},
   "source": [
    "* 새로 생성해 준 answer의 타입은 boolean 타입입니다. int로 변경해 보세요."
   ]
  },
  {
   "cell_type": "code",
   "execution_count": 16,
   "metadata": {},
   "outputs": [
    {
     "data": {
      "text/plain": [
       "dtype('int32')"
      ]
     },
     "execution_count": 16,
     "metadata": {},
     "output_type": "execute_result"
    }
   ],
   "source": [
    "df['answer'] = df['answer'].astype(int)\n",
    "df['answer'].dtype"
   ]
  },
  {
   "cell_type": "markdown",
   "metadata": {},
   "source": [
    "* 답변대상 청원중 아직 답변되지 않은 청원의 수를 계산해 보세요."
   ]
  },
  {
   "cell_type": "code",
   "execution_count": 17,
   "metadata": {},
   "outputs": [
    {
     "data": {
      "text/plain": [
       "210381"
      ]
     },
     "execution_count": 17,
     "metadata": {},
     "output_type": "execute_result"
    }
   ],
   "source": [
    "noanswer = len(df) - len(df_hotvote)\n",
    "noanswer"
   ]
  },
  {
   "cell_type": "markdown",
   "metadata": {},
   "source": [
    "## 답변 대상 청원 중 투표를 가장 많이 받은 것"
   ]
  },
  {
   "cell_type": "code",
   "execution_count": 20,
   "metadata": {},
   "outputs": [
    {
     "data": {
      "text/html": [
       "<div>\n",
       "<style scoped>\n",
       "    .dataframe tbody tr th:only-of-type {\n",
       "        vertical-align: middle;\n",
       "    }\n",
       "\n",
       "    .dataframe tbody tr th {\n",
       "        vertical-align: top;\n",
       "    }\n",
       "\n",
       "    .dataframe thead th {\n",
       "        text-align: right;\n",
       "    }\n",
       "</style>\n",
       "<table border=\"1\" class=\"dataframe\">\n",
       "  <thead>\n",
       "    <tr style=\"text-align: right;\">\n",
       "      <th></th>\n",
       "      <th>article_id</th>\n",
       "      <th>start</th>\n",
       "      <th>end</th>\n",
       "      <th>answered</th>\n",
       "      <th>votes</th>\n",
       "      <th>category</th>\n",
       "      <th>title</th>\n",
       "      <th>content</th>\n",
       "      <th>answer</th>\n",
       "    </tr>\n",
       "  </thead>\n",
       "  <tbody>\n",
       "    <tr>\n",
       "      <th>208597</th>\n",
       "      <td>269548</td>\n",
       "      <td>2018-06-13</td>\n",
       "      <td>2018-07-13</td>\n",
       "      <td>0</td>\n",
       "      <td>714875</td>\n",
       "      <td>외교/통일/국방</td>\n",
       "      <td>제주도 불법 난민 신청 문제에 따른 난민법, 무사증 입국, 난민신청허가 폐지/개헌 ...</td>\n",
       "      <td>2012년 난민법 제정으로 인해 외국인은 한달 무비자로 입국할 수 있으나 난민신청자...</td>\n",
       "      <td>1</td>\n",
       "    </tr>\n",
       "  </tbody>\n",
       "</table>\n",
       "</div>"
      ],
      "text/plain": [
       "        article_id      start        end  answered   votes  category  \\\n",
       "208597      269548 2018-06-13 2018-07-13         0  714875  외교/통일/국방   \n",
       "\n",
       "                                                    title  \\\n",
       "208597  제주도 불법 난민 신청 문제에 따른 난민법, 무사증 입국, 난민신청허가 폐지/개헌 ...   \n",
       "\n",
       "                                                  content  answer  \n",
       "208597  2012년 난민법 제정으로 인해 외국인은 한달 무비자로 입국할 수 있으나 난민신청자...       1  "
      ]
     },
     "execution_count": 20,
     "metadata": {},
     "output_type": "execute_result"
    }
   ],
   "source": [
    "df.sort_values('votes', ascending=False).head(1)"
   ]
  },
  {
   "cell_type": "markdown",
   "metadata": {},
   "source": [
    "## 어느 분야의 청원이 가장 많이 들어왔는지?\n",
    "pandas의 value_counts로 특정 컬럼의 데이터를 그룹화하여 카운된 숫자를 볼 수 있습니다.<br/>\n",
    "어느 분야의 청원이 가장 많이 들어왔는지 찾아보세요."
   ]
  },
  {
   "cell_type": "code",
   "execution_count": 23,
   "metadata": {},
   "outputs": [
    {
     "data": {
      "text/plain": [
       "정치개혁           38835\n",
       "기타             25985\n",
       "인권/성평등         21089\n",
       "안전/환경          16264\n",
       "육아/교육          14384\n",
       "외교/통일/국방       13881\n",
       "보건복지           11623\n",
       "행정             10919\n",
       "일자리            10503\n",
       "문화/예술/체육/언론    10437\n",
       "교통/건축/국토        9906\n",
       "미래              9406\n",
       "경제민주화           8404\n",
       "성장동력            4001\n",
       "반려동물            2113\n",
       "저출산/고령화대책       1763\n",
       "농산어촌             911\n",
       "Name: category, dtype: int64"
      ]
     },
     "execution_count": 23,
     "metadata": {},
     "output_type": "execute_result"
    }
   ],
   "source": [
    "df['category'].value_counts()"
   ]
  },
  {
   "cell_type": "markdown",
   "metadata": {},
   "source": [
    "## 각 청원이 얼마 동안 집계되었는지?\n",
    "청원이 가장 많이 들어 온 날은 언제인지 정렬해 보세요."
   ]
  },
  {
   "cell_type": "code",
   "execution_count": 25,
   "metadata": {},
   "outputs": [
    {
     "data": {
      "text/plain": [
       "2017-11-11    9623\n",
       "2017-09-05    5952\n",
       "2018-01-11    3368\n",
       "2018-02-06    2631\n",
       "2017-11-09    2487\n",
       "Name: start, dtype: int64"
      ]
     },
     "execution_count": 25,
     "metadata": {},
     "output_type": "execute_result"
    }
   ],
   "source": [
    "df['start'].value_counts().head()"
   ]
  },
  {
   "cell_type": "markdown",
   "metadata": {},
   "source": [
    "## 피봇 테이블로 투표를 가장 많이 받은 분야를 찾아보세요."
   ]
  },
  {
   "cell_type": "code",
   "execution_count": null,
   "metadata": {
    "collapsed": true
   },
   "outputs": [],
   "source": [
    "pd.pivot_table(df, values='votes', )"
   ]
  },
  {
   "cell_type": "markdown",
   "metadata": {},
   "source": [
    "## 투표를 가장 많이 받은 날은 언제일까요?"
   ]
  },
  {
   "cell_type": "code",
   "execution_count": null,
   "metadata": {
    "collapsed": true
   },
   "outputs": [],
   "source": []
  },
  {
   "cell_type": "markdown",
   "metadata": {},
   "source": [
    "## 청원을 많이 받은 날 VS 투표를 많이 받은 날에 대해 각각 상위 5개 목록을 추출해 봅니다. \n",
    "이때, title, content는 안 나와도 됩니다."
   ]
  },
  {
   "cell_type": "code",
   "execution_count": null,
   "metadata": {
    "collapsed": true
   },
   "outputs": [],
   "source": []
  },
  {
   "cell_type": "code",
   "execution_count": null,
   "metadata": {
    "collapsed": true
   },
   "outputs": [],
   "source": []
  },
  {
   "cell_type": "markdown",
   "metadata": {},
   "source": [
    "## 시계열 데이터 보기\n",
    "* 월별 청원수를 집계해 보세요."
   ]
  },
  {
   "cell_type": "markdown",
   "metadata": {},
   "source": [
    "* 청원이 가장 많이 들어온 달은 언제인가요?\n",
    "* 요일별 청원 수는 어떻게 되나요?"
   ]
  },
  {
   "cell_type": "markdown",
   "metadata": {},
   "source": [
    "특정 단어가 들어가는 청원을 찾아보세요."
   ]
  },
  {
   "cell_type": "code",
   "execution_count": 13,
   "metadata": {},
   "outputs": [
    {
     "data": {
      "text/plain": [
       "(7773, 8)"
      ]
     },
     "execution_count": 13,
     "metadata": {},
     "output_type": "execute_result"
    }
   ],
   "source": [
    "crypto = df[( df.title.str.find('가상화폐') != -1 ) | ( df.content.str.find('가상화폐') != -1  )]\n",
    "crypto.shape"
   ]
  },
  {
   "cell_type": "code",
   "execution_count": null,
   "metadata": {
    "collapsed": true
   },
   "outputs": [],
   "source": [
    "# 정규표현식 사용을 위해 import\n",
    "import re\n",
    "p = r'.*(돌봄|아이|초등|보육).*'\n",
    "care = df[df['title'].str.match(p) |\n",
    "           df['content'].str.match(p, flags=re.MULTILINE)]\n",
    "care.shape"
   ]
  },
  {
   "cell_type": "code",
   "execution_count": 80,
   "metadata": {},
   "outputs": [
    {
     "name": "stdout",
     "output_type": "stream",
     "text": [
      "(39, 8)\n"
     ]
    },
    {
     "data": {
      "text/html": [
       "<div>\n",
       "<style scoped>\n",
       "    .dataframe tbody tr th:only-of-type {\n",
       "        vertical-align: middle;\n",
       "    }\n",
       "\n",
       "    .dataframe tbody tr th {\n",
       "        vertical-align: top;\n",
       "    }\n",
       "\n",
       "    .dataframe thead th {\n",
       "        text-align: right;\n",
       "    }\n",
       "</style>\n",
       "<table border=\"1\" class=\"dataframe\">\n",
       "  <thead>\n",
       "    <tr style=\"text-align: right;\">\n",
       "      <th></th>\n",
       "      <th>article_id</th>\n",
       "      <th>start</th>\n",
       "      <th>end</th>\n",
       "      <th>answered</th>\n",
       "      <th>votes</th>\n",
       "      <th>category</th>\n",
       "      <th>title</th>\n",
       "      <th>content</th>\n",
       "    </tr>\n",
       "  </thead>\n",
       "  <tbody>\n",
       "    <tr>\n",
       "      <th>81769</th>\n",
       "      <td>92222</td>\n",
       "      <td>2018-01-12</td>\n",
       "      <td>2018-02-11</td>\n",
       "      <td>0</td>\n",
       "      <td>0</td>\n",
       "      <td>정치개혁</td>\n",
       "      <td>BJ응애 라는 사람처럼 코인 도박시장에 빠진사람들을 구해주세요.</td>\n",
       "      <td>코인 거래소 시장은 도박 그이상의 도박시장입니다. 그 이상 그 이하도 아닙니다.\\n...</td>\n",
       "    </tr>\n",
       "    <tr>\n",
       "      <th>181564</th>\n",
       "      <td>227327</td>\n",
       "      <td>2018-05-08</td>\n",
       "      <td>2018-06-07</td>\n",
       "      <td>0</td>\n",
       "      <td>58</td>\n",
       "      <td>인권/성평등</td>\n",
       "      <td>인터넷BJ, 일반여성 길거리 섭외후 만취상태 여성 성적유린 및 여성 몰래 성관계 (...</td>\n",
       "      <td>이 글을 여성단체나, 페미니스트, 등등 모든 남성, 여성분들이 많이 읽었으면 합니다...</td>\n",
       "    </tr>\n",
       "    <tr>\n",
       "      <th>177928</th>\n",
       "      <td>222252</td>\n",
       "      <td>2018-05-03</td>\n",
       "      <td>2018-06-02</td>\n",
       "      <td>0</td>\n",
       "      <td>15</td>\n",
       "      <td>문화/예술/체육/언론</td>\n",
       "      <td>아프리카TV 전수조사해주세요.심각합니다,이래도 가만히 있어야합니까? 인터넷방송BJ직...</td>\n",
       "      <td>팝콘티비 = 나우콤 = 아프리카TV 게이트 현직 BJ들,전직 BJ들,관계자,가담자,...</td>\n",
       "    </tr>\n",
       "    <tr>\n",
       "      <th>53695</th>\n",
       "      <td>55795</td>\n",
       "      <td>2017-12-01</td>\n",
       "      <td>2017-12-31</td>\n",
       "      <td>0</td>\n",
       "      <td>2</td>\n",
       "      <td>기타</td>\n",
       "      <td>12월에 출범하는 인터넷BJ 정책협의체에 관하여</td>\n",
       "      <td>존경하는 대통령님 및 그외 청와대 종사하니는 여러분 안녕하십니까 대한민국의 미래를 ...</td>\n",
       "    </tr>\n",
       "    <tr>\n",
       "      <th>177960</th>\n",
       "      <td>222292</td>\n",
       "      <td>2018-05-04</td>\n",
       "      <td>2018-06-03</td>\n",
       "      <td>0</td>\n",
       "      <td>13</td>\n",
       "      <td>문화/예술/체육/언론</td>\n",
       "      <td>인터넷방송 정말로 심각합니다.인터넷방송BJ직업법안만들어주세요.</td>\n",
       "      <td>나우콤 = 아프리카TV 게이트 현직 BJ들,전직 BJ들,관계자,가담자,운영자,기획팀...</td>\n",
       "    </tr>\n",
       "    <tr>\n",
       "      <th>102430</th>\n",
       "      <td>122242</td>\n",
       "      <td>2018-01-30</td>\n",
       "      <td>2018-03-01</td>\n",
       "      <td>0</td>\n",
       "      <td>4</td>\n",
       "      <td>문화/예술/체육/언론</td>\n",
       "      <td>인터넷 개인방송 (BJ) 1일 별풍선 상한선 1백만원 하향 조치 반대</td>\n",
       "      <td>BJ님들도 다양한 방법으로 시청자에게 힘이 되어주는 직업인데 그들의 수입을 강제적으...</td>\n",
       "    </tr>\n",
       "    <tr>\n",
       "      <th>194034</th>\n",
       "      <td>245140</td>\n",
       "      <td>2018-05-27</td>\n",
       "      <td>2018-06-26</td>\n",
       "      <td>0</td>\n",
       "      <td>13</td>\n",
       "      <td>기타</td>\n",
       "      <td>인터넷 개인방송 헌팅BJ들 지금 처벌하지 않으면 나중에 사회 큰 문제입니다.</td>\n",
       "      <td>팝콘티비나 이런 성인방송 플랫폼에서 개인헌팅하는 BJ들이 매일 밖에 나가서 방송을 ...</td>\n",
       "    </tr>\n",
       "    <tr>\n",
       "      <th>200732</th>\n",
       "      <td>259082</td>\n",
       "      <td>2018-06-01</td>\n",
       "      <td>2018-07-01</td>\n",
       "      <td>0</td>\n",
       "      <td>4</td>\n",
       "      <td>문화/예술/체육/언론</td>\n",
       "      <td>아프리카TV에 가슴꼴 보이게 방송하는 여자BJ를 처벌해주세요</td>\n",
       "      <td>아프리카TV에 보면 항상 가슴꼴을 드러내놓고 방송하는 여자BJ들 눈앞에서\\n안보였으...</td>\n",
       "    </tr>\n",
       "    <tr>\n",
       "      <th>179083</th>\n",
       "      <td>223780</td>\n",
       "      <td>2018-05-04</td>\n",
       "      <td>2018-06-03</td>\n",
       "      <td>0</td>\n",
       "      <td>9</td>\n",
       "      <td>문화/예술/체육/언론</td>\n",
       "      <td>별풍선 제안한 BJ,아프리카TV 게이트.정말 심각합니다. 학부모님분들 이래도 가만이...</td>\n",
       "      <td>안녕하세요 아프리카TV/팝콘티비/유튜브/트위치 시청을 했던 시청자입니다.\\n올해 들...</td>\n",
       "    </tr>\n",
       "    <tr>\n",
       "      <th>65494</th>\n",
       "      <td>69611</td>\n",
       "      <td>2017-12-19</td>\n",
       "      <td>2018-01-18</td>\n",
       "      <td>0</td>\n",
       "      <td>14</td>\n",
       "      <td>인권/성평등</td>\n",
       "      <td>BJ들의 공공장소 라이브 방송 금지법을 청원합니다</td>\n",
       "      <td>존경하는 대통령님 안녕하십니까?\\n고등학생 입니다.\\n최근 인터넷 방송이 성행하면서...</td>\n",
       "    </tr>\n",
       "  </tbody>\n",
       "</table>\n",
       "</div>"
      ],
      "text/plain": [
       "        article_id      start        end  answered  votes     category  \\\n",
       "81769        92222 2018-01-12 2018-02-11         0      0         정치개혁   \n",
       "181564      227327 2018-05-08 2018-06-07         0     58       인권/성평등   \n",
       "177928      222252 2018-05-03 2018-06-02         0     15  문화/예술/체육/언론   \n",
       "53695        55795 2017-12-01 2017-12-31         0      2           기타   \n",
       "177960      222292 2018-05-04 2018-06-03         0     13  문화/예술/체육/언론   \n",
       "102430      122242 2018-01-30 2018-03-01         0      4  문화/예술/체육/언론   \n",
       "194034      245140 2018-05-27 2018-06-26         0     13           기타   \n",
       "200732      259082 2018-06-01 2018-07-01         0      4  문화/예술/체육/언론   \n",
       "179083      223780 2018-05-04 2018-06-03         0      9  문화/예술/체육/언론   \n",
       "65494        69611 2017-12-19 2018-01-18         0     14       인권/성평등   \n",
       "\n",
       "                                                    title  \\\n",
       "81769                 BJ응애 라는 사람처럼 코인 도박시장에 빠진사람들을 구해주세요.   \n",
       "181564  인터넷BJ, 일반여성 길거리 섭외후 만취상태 여성 성적유린 및 여성 몰래 성관계 (...   \n",
       "177928  아프리카TV 전수조사해주세요.심각합니다,이래도 가만히 있어야합니까? 인터넷방송BJ직...   \n",
       "53695                          12월에 출범하는 인터넷BJ 정책협의체에 관하여   \n",
       "177960                 인터넷방송 정말로 심각합니다.인터넷방송BJ직업법안만들어주세요.   \n",
       "102430             인터넷 개인방송 (BJ) 1일 별풍선 상한선 1백만원 하향 조치 반대   \n",
       "194034         인터넷 개인방송 헌팅BJ들 지금 처벌하지 않으면 나중에 사회 큰 문제입니다.   \n",
       "200732                  아프리카TV에 가슴꼴 보이게 방송하는 여자BJ를 처벌해주세요   \n",
       "179083  별풍선 제안한 BJ,아프리카TV 게이트.정말 심각합니다. 학부모님분들 이래도 가만이...   \n",
       "65494                         BJ들의 공공장소 라이브 방송 금지법을 청원합니다   \n",
       "\n",
       "                                                  content  \n",
       "81769   코인 거래소 시장은 도박 그이상의 도박시장입니다. 그 이상 그 이하도 아닙니다.\\n...  \n",
       "181564  이 글을 여성단체나, 페미니스트, 등등 모든 남성, 여성분들이 많이 읽었으면 합니다...  \n",
       "177928  팝콘티비 = 나우콤 = 아프리카TV 게이트 현직 BJ들,전직 BJ들,관계자,가담자,...  \n",
       "53695   존경하는 대통령님 및 그외 청와대 종사하니는 여러분 안녕하십니까 대한민국의 미래를 ...  \n",
       "177960  나우콤 = 아프리카TV 게이트 현직 BJ들,전직 BJ들,관계자,가담자,운영자,기획팀...  \n",
       "102430  BJ님들도 다양한 방법으로 시청자에게 힘이 되어주는 직업인데 그들의 수입을 강제적으...  \n",
       "194034  팝콘티비나 이런 성인방송 플랫폼에서 개인헌팅하는 BJ들이 매일 밖에 나가서 방송을 ...  \n",
       "200732  아프리카TV에 보면 항상 가슴꼴을 드러내놓고 방송하는 여자BJ들 눈앞에서\\n안보였으...  \n",
       "179083  안녕하세요 아프리카TV/팝콘티비/유튜브/트위치 시청을 했던 시청자입니다.\\n올해 들...  \n",
       "65494   존경하는 대통령님 안녕하십니까?\\n고등학생 입니다.\\n최근 인터넷 방송이 성행하면서...  "
      ]
     },
     "execution_count": 80,
     "metadata": {},
     "output_type": "execute_result"
    }
   ],
   "source": [
    "# 정규표현식 사용을 위해 import\n",
    "import re\n",
    "p = r'.*(BJ).*'\n",
    "care = df[df['title'].str.match(p) &\n",
    "           df['content'].str.match(p, flags=re.MULTILINE)]\n",
    "print(care.shape)\n",
    "care.sample(10)"
   ]
  },
  {
   "cell_type": "code",
   "execution_count": 72,
   "metadata": {},
   "outputs": [
    {
     "data": {
      "text/html": [
       "<div>\n",
       "<style scoped>\n",
       "    .dataframe tbody tr th:only-of-type {\n",
       "        vertical-align: middle;\n",
       "    }\n",
       "\n",
       "    .dataframe tbody tr th {\n",
       "        vertical-align: top;\n",
       "    }\n",
       "\n",
       "    .dataframe thead th {\n",
       "        text-align: right;\n",
       "    }\n",
       "</style>\n",
       "<table border=\"1\" class=\"dataframe\">\n",
       "  <thead>\n",
       "    <tr style=\"text-align: right;\">\n",
       "      <th></th>\n",
       "      <th>article_id</th>\n",
       "      <th>start</th>\n",
       "      <th>end</th>\n",
       "      <th>answered</th>\n",
       "      <th>votes</th>\n",
       "      <th>category</th>\n",
       "      <th>title</th>\n",
       "      <th>content</th>\n",
       "    </tr>\n",
       "  </thead>\n",
       "  <tbody>\n",
       "    <tr>\n",
       "      <th>171061</th>\n",
       "      <td>212091</td>\n",
       "      <td>2018-04-25</td>\n",
       "      <td>2018-05-25</td>\n",
       "      <td>0</td>\n",
       "      <td>281</td>\n",
       "      <td>문화/예술/체육/언론</td>\n",
       "      <td>번역가 '박지훈'을 퇴출시켜주세요</td>\n",
       "      <td>많은 할리우드 영화들을 비롯한 외국 영화를 번역가 박지훈이 번역하는데 오역을 남발함...</td>\n",
       "    </tr>\n",
       "    <tr>\n",
       "      <th>171858</th>\n",
       "      <td>213106</td>\n",
       "      <td>2018-04-26</td>\n",
       "      <td>2018-05-26</td>\n",
       "      <td>0</td>\n",
       "      <td>56</td>\n",
       "      <td>기타</td>\n",
       "      <td>어</td>\n",
       "      <td>어벤져스 인피니티워 영화 오역\\n이게 뭡니까?\\n번역가 박지훈 논란 밝혀주시면 감사...</td>\n",
       "    </tr>\n",
       "    <tr>\n",
       "      <th>205710</th>\n",
       "      <td>265782</td>\n",
       "      <td>2018-06-07</td>\n",
       "      <td>2018-07-07</td>\n",
       "      <td>0</td>\n",
       "      <td>9</td>\n",
       "      <td>문화/예술/체육/언론</td>\n",
       "      <td>박지훈 번역가 퇴출하자</td>\n",
       "      <td>현재 여러 외국 영화들은 이 박지훈 번역가로 통해 번역이 됩니다. 그러나 번역의 질...</td>\n",
       "    </tr>\n",
       "    <tr>\n",
       "      <th>171201</th>\n",
       "      <td>212254</td>\n",
       "      <td>2018-04-25</td>\n",
       "      <td>2018-05-25</td>\n",
       "      <td>0</td>\n",
       "      <td>8477</td>\n",
       "      <td>문화/예술/체육/언론</td>\n",
       "      <td>박지훈 번역가의 작품(번역)참여를 반대합니다</td>\n",
       "      <td>지금까지 영화에서 수많은 오역과 발번역을 하여 각종 비난과 퇴출운동이 일어나고 있는...</td>\n",
       "    </tr>\n",
       "    <tr>\n",
       "      <th>207969</th>\n",
       "      <td>268777</td>\n",
       "      <td>2018-06-11</td>\n",
       "      <td>2018-07-11</td>\n",
       "      <td>0</td>\n",
       "      <td>23</td>\n",
       "      <td>문화/예술/체육/언론</td>\n",
       "      <td>[쥬라기월드] [어벤져스] 사태의 재발 방지를 위해 영화 등급분류 제도 개선을 청원...</td>\n",
       "      <td>며칠 전 영화 [쥬라기 월드: 폴른 킹덤]이 세계 최초로 개봉을 하였습니다.\\n그런...</td>\n",
       "    </tr>\n",
       "    <tr>\n",
       "      <th>204507</th>\n",
       "      <td>264140</td>\n",
       "      <td>2018-06-06</td>\n",
       "      <td>2018-07-06</td>\n",
       "      <td>0</td>\n",
       "      <td>8</td>\n",
       "      <td>기타</td>\n",
       "      <td>디즈니 코리아 영화번역가 박지훈의 퇴출</td>\n",
       "      <td>문재인 대통령님께 정중히 부탁립니다 .4월25일에 어벤져스인피니티워가 개봉했는데요 ...</td>\n",
       "    </tr>\n",
       "    <tr>\n",
       "      <th>127545</th>\n",
       "      <td>152612</td>\n",
       "      <td>2018-02-27</td>\n",
       "      <td>2018-03-29</td>\n",
       "      <td>0</td>\n",
       "      <td>12</td>\n",
       "      <td>육아/교육</td>\n",
       "      <td>연예인들 대학입학  특혜도 조사해 주세요!</td>\n",
       "      <td>연예인들은 대학입학 과정에서 특혜가 너무 많습니다.  공정해야 할 대학입시에 돈 잘...</td>\n",
       "    </tr>\n",
       "    <tr>\n",
       "      <th>173862</th>\n",
       "      <td>215810</td>\n",
       "      <td>2018-04-30</td>\n",
       "      <td>2018-05-30</td>\n",
       "      <td>0</td>\n",
       "      <td>199</td>\n",
       "      <td>일자리</td>\n",
       "      <td>번역가 박지훈 번역계 추방</td>\n",
       "      <td>해외 영화 번역과 관련하여 그동안 말아드신게 많은 것 같습니다.\\n이제 보내주세요 ...</td>\n",
       "    </tr>\n",
       "    <tr>\n",
       "      <th>171741</th>\n",
       "      <td>212963</td>\n",
       "      <td>2018-04-26</td>\n",
       "      <td>2018-05-26</td>\n",
       "      <td>0</td>\n",
       "      <td>215</td>\n",
       "      <td>기타</td>\n",
       "      <td>어밴져스3 번역가 처벌요구</td>\n",
       "      <td>어밴저스3의 한국어 번역한 박지훈 번역가는 오역으로인해서 해고시켜주세요</td>\n",
       "    </tr>\n",
       "    <tr>\n",
       "      <th>171178</th>\n",
       "      <td>212223</td>\n",
       "      <td>2018-04-25</td>\n",
       "      <td>2018-05-25</td>\n",
       "      <td>0</td>\n",
       "      <td>130</td>\n",
       "      <td>문화/예술/체육/언론</td>\n",
       "      <td>박지훈 번역가의 작품 참여를 반대합니다</td>\n",
       "      <td>대한민국 번역가 사상 최악의 오역가\\n박지훈 번역가의 작품 참여(번역)를 반대합니다...</td>\n",
       "    </tr>\n",
       "  </tbody>\n",
       "</table>\n",
       "</div>"
      ],
      "text/plain": [
       "        article_id      start        end  answered  votes     category  \\\n",
       "171061      212091 2018-04-25 2018-05-25         0    281  문화/예술/체육/언론   \n",
       "171858      213106 2018-04-26 2018-05-26         0     56           기타   \n",
       "205710      265782 2018-06-07 2018-07-07         0      9  문화/예술/체육/언론   \n",
       "171201      212254 2018-04-25 2018-05-25         0   8477  문화/예술/체육/언론   \n",
       "207969      268777 2018-06-11 2018-07-11         0     23  문화/예술/체육/언론   \n",
       "204507      264140 2018-06-06 2018-07-06         0      8           기타   \n",
       "127545      152612 2018-02-27 2018-03-29         0     12        육아/교육   \n",
       "173862      215810 2018-04-30 2018-05-30         0    199          일자리   \n",
       "171741      212963 2018-04-26 2018-05-26         0    215           기타   \n",
       "171178      212223 2018-04-25 2018-05-25         0    130  문화/예술/체육/언론   \n",
       "\n",
       "                                                    title  \\\n",
       "171061                                 번역가 '박지훈'을 퇴출시켜주세요   \n",
       "171858                                                  어   \n",
       "205710                                       박지훈 번역가 퇴출하자   \n",
       "171201                           박지훈 번역가의 작품(번역)참여를 반대합니다   \n",
       "207969  [쥬라기월드] [어벤져스] 사태의 재발 방지를 위해 영화 등급분류 제도 개선을 청원...   \n",
       "204507                              디즈니 코리아 영화번역가 박지훈의 퇴출   \n",
       "127545                            연예인들 대학입학  특혜도 조사해 주세요!   \n",
       "173862                                     번역가 박지훈 번역계 추방   \n",
       "171741                                     어밴져스3 번역가 처벌요구   \n",
       "171178                              박지훈 번역가의 작품 참여를 반대합니다   \n",
       "\n",
       "                                                  content  \n",
       "171061  많은 할리우드 영화들을 비롯한 외국 영화를 번역가 박지훈이 번역하는데 오역을 남발함...  \n",
       "171858  어벤져스 인피니티워 영화 오역\\n이게 뭡니까?\\n번역가 박지훈 논란 밝혀주시면 감사...  \n",
       "205710  현재 여러 외국 영화들은 이 박지훈 번역가로 통해 번역이 됩니다. 그러나 번역의 질...  \n",
       "171201  지금까지 영화에서 수많은 오역과 발번역을 하여 각종 비난과 퇴출운동이 일어나고 있는...  \n",
       "207969  며칠 전 영화 [쥬라기 월드: 폴른 킹덤]이 세계 최초로 개봉을 하였습니다.\\n그런...  \n",
       "204507  문재인 대통령님께 정중히 부탁립니다 .4월25일에 어벤져스인피니티워가 개봉했는데요 ...  \n",
       "127545  연예인들은 대학입학 과정에서 특혜가 너무 많습니다.  공정해야 할 대학입시에 돈 잘...  \n",
       "173862  해외 영화 번역과 관련하여 그동안 말아드신게 많은 것 같습니다.\\n이제 보내주세요 ...  \n",
       "171741            어밴저스3의 한국어 번역한 박지훈 번역가는 오역으로인해서 해고시켜주세요  \n",
       "171178  대한민국 번역가 사상 최악의 오역가\\n박지훈 번역가의 작품 참여(번역)를 반대합니다...  "
      ]
     },
     "execution_count": 72,
     "metadata": {},
     "output_type": "execute_result"
    }
   ],
   "source": [
    "care.sample(10)"
   ]
  },
  {
   "cell_type": "code",
   "execution_count": 73,
   "metadata": {},
   "outputs": [
    {
     "data": {
      "text/html": [
       "<div>\n",
       "<style scoped>\n",
       "    .dataframe tbody tr th:only-of-type {\n",
       "        vertical-align: middle;\n",
       "    }\n",
       "\n",
       "    .dataframe tbody tr th {\n",
       "        vertical-align: top;\n",
       "    }\n",
       "\n",
       "    .dataframe thead th {\n",
       "        text-align: right;\n",
       "    }\n",
       "</style>\n",
       "<table border=\"1\" class=\"dataframe\">\n",
       "  <thead>\n",
       "    <tr style=\"text-align: right;\">\n",
       "      <th></th>\n",
       "      <th>article_id</th>\n",
       "      <th>start</th>\n",
       "      <th>end</th>\n",
       "      <th>answered</th>\n",
       "      <th>votes</th>\n",
       "      <th>category</th>\n",
       "      <th>title</th>\n",
       "      <th>content</th>\n",
       "    </tr>\n",
       "  </thead>\n",
       "  <tbody>\n",
       "    <tr>\n",
       "      <th>127545</th>\n",
       "      <td>152612</td>\n",
       "      <td>2018-02-27</td>\n",
       "      <td>2018-03-29</td>\n",
       "      <td>0</td>\n",
       "      <td>12</td>\n",
       "      <td>육아/교육</td>\n",
       "      <td>연예인들 대학입학  특혜도 조사해 주세요!</td>\n",
       "      <td>연예인들은 대학입학 과정에서 특혜가 너무 많습니다.  공정해야 할 대학입시에 돈 잘...</td>\n",
       "    </tr>\n",
       "    <tr>\n",
       "      <th>171061</th>\n",
       "      <td>212091</td>\n",
       "      <td>2018-04-25</td>\n",
       "      <td>2018-05-25</td>\n",
       "      <td>0</td>\n",
       "      <td>281</td>\n",
       "      <td>문화/예술/체육/언론</td>\n",
       "      <td>번역가 '박지훈'을 퇴출시켜주세요</td>\n",
       "      <td>많은 할리우드 영화들을 비롯한 외국 영화를 번역가 박지훈이 번역하는데 오역을 남발함...</td>\n",
       "    </tr>\n",
       "    <tr>\n",
       "      <th>171178</th>\n",
       "      <td>212223</td>\n",
       "      <td>2018-04-25</td>\n",
       "      <td>2018-05-25</td>\n",
       "      <td>0</td>\n",
       "      <td>130</td>\n",
       "      <td>문화/예술/체육/언론</td>\n",
       "      <td>박지훈 번역가의 작품 참여를 반대합니다</td>\n",
       "      <td>대한민국 번역가 사상 최악의 오역가\\n박지훈 번역가의 작품 참여(번역)를 반대합니다...</td>\n",
       "    </tr>\n",
       "    <tr>\n",
       "      <th>171201</th>\n",
       "      <td>212254</td>\n",
       "      <td>2018-04-25</td>\n",
       "      <td>2018-05-25</td>\n",
       "      <td>0</td>\n",
       "      <td>8477</td>\n",
       "      <td>문화/예술/체육/언론</td>\n",
       "      <td>박지훈 번역가의 작품(번역)참여를 반대합니다</td>\n",
       "      <td>지금까지 영화에서 수많은 오역과 발번역을 하여 각종 비난과 퇴출운동이 일어나고 있는...</td>\n",
       "    </tr>\n",
       "    <tr>\n",
       "      <th>171741</th>\n",
       "      <td>212963</td>\n",
       "      <td>2018-04-26</td>\n",
       "      <td>2018-05-26</td>\n",
       "      <td>0</td>\n",
       "      <td>215</td>\n",
       "      <td>기타</td>\n",
       "      <td>어밴져스3 번역가 처벌요구</td>\n",
       "      <td>어밴저스3의 한국어 번역한 박지훈 번역가는 오역으로인해서 해고시켜주세요</td>\n",
       "    </tr>\n",
       "    <tr>\n",
       "      <th>171858</th>\n",
       "      <td>213106</td>\n",
       "      <td>2018-04-26</td>\n",
       "      <td>2018-05-26</td>\n",
       "      <td>0</td>\n",
       "      <td>56</td>\n",
       "      <td>기타</td>\n",
       "      <td>어</td>\n",
       "      <td>어벤져스 인피니티워 영화 오역\\n이게 뭡니까?\\n번역가 박지훈 논란 밝혀주시면 감사...</td>\n",
       "    </tr>\n",
       "    <tr>\n",
       "      <th>173862</th>\n",
       "      <td>215810</td>\n",
       "      <td>2018-04-30</td>\n",
       "      <td>2018-05-30</td>\n",
       "      <td>0</td>\n",
       "      <td>199</td>\n",
       "      <td>일자리</td>\n",
       "      <td>번역가 박지훈 번역계 추방</td>\n",
       "      <td>해외 영화 번역과 관련하여 그동안 말아드신게 많은 것 같습니다.\\n이제 보내주세요 ...</td>\n",
       "    </tr>\n",
       "    <tr>\n",
       "      <th>204507</th>\n",
       "      <td>264140</td>\n",
       "      <td>2018-06-06</td>\n",
       "      <td>2018-07-06</td>\n",
       "      <td>0</td>\n",
       "      <td>8</td>\n",
       "      <td>기타</td>\n",
       "      <td>디즈니 코리아 영화번역가 박지훈의 퇴출</td>\n",
       "      <td>문재인 대통령님께 정중히 부탁립니다 .4월25일에 어벤져스인피니티워가 개봉했는데요 ...</td>\n",
       "    </tr>\n",
       "    <tr>\n",
       "      <th>205710</th>\n",
       "      <td>265782</td>\n",
       "      <td>2018-06-07</td>\n",
       "      <td>2018-07-07</td>\n",
       "      <td>0</td>\n",
       "      <td>9</td>\n",
       "      <td>문화/예술/체육/언론</td>\n",
       "      <td>박지훈 번역가 퇴출하자</td>\n",
       "      <td>현재 여러 외국 영화들은 이 박지훈 번역가로 통해 번역이 됩니다. 그러나 번역의 질...</td>\n",
       "    </tr>\n",
       "    <tr>\n",
       "      <th>207969</th>\n",
       "      <td>268777</td>\n",
       "      <td>2018-06-11</td>\n",
       "      <td>2018-07-11</td>\n",
       "      <td>0</td>\n",
       "      <td>23</td>\n",
       "      <td>문화/예술/체육/언론</td>\n",
       "      <td>[쥬라기월드] [어벤져스] 사태의 재발 방지를 위해 영화 등급분류 제도 개선을 청원...</td>\n",
       "      <td>며칠 전 영화 [쥬라기 월드: 폴른 킹덤]이 세계 최초로 개봉을 하였습니다.\\n그런...</td>\n",
       "    </tr>\n",
       "  </tbody>\n",
       "</table>\n",
       "</div>"
      ],
      "text/plain": [
       "        article_id      start        end  answered  votes     category  \\\n",
       "127545      152612 2018-02-27 2018-03-29         0     12        육아/교육   \n",
       "171061      212091 2018-04-25 2018-05-25         0    281  문화/예술/체육/언론   \n",
       "171178      212223 2018-04-25 2018-05-25         0    130  문화/예술/체육/언론   \n",
       "171201      212254 2018-04-25 2018-05-25         0   8477  문화/예술/체육/언론   \n",
       "171741      212963 2018-04-26 2018-05-26         0    215           기타   \n",
       "171858      213106 2018-04-26 2018-05-26         0     56           기타   \n",
       "173862      215810 2018-04-30 2018-05-30         0    199          일자리   \n",
       "204507      264140 2018-06-06 2018-07-06         0      8           기타   \n",
       "205710      265782 2018-06-07 2018-07-07         0      9  문화/예술/체육/언론   \n",
       "207969      268777 2018-06-11 2018-07-11         0     23  문화/예술/체육/언론   \n",
       "\n",
       "                                                    title  \\\n",
       "127545                            연예인들 대학입학  특혜도 조사해 주세요!   \n",
       "171061                                 번역가 '박지훈'을 퇴출시켜주세요   \n",
       "171178                              박지훈 번역가의 작품 참여를 반대합니다   \n",
       "171201                           박지훈 번역가의 작품(번역)참여를 반대합니다   \n",
       "171741                                     어밴져스3 번역가 처벌요구   \n",
       "171858                                                  어   \n",
       "173862                                     번역가 박지훈 번역계 추방   \n",
       "204507                              디즈니 코리아 영화번역가 박지훈의 퇴출   \n",
       "205710                                       박지훈 번역가 퇴출하자   \n",
       "207969  [쥬라기월드] [어벤져스] 사태의 재발 방지를 위해 영화 등급분류 제도 개선을 청원...   \n",
       "\n",
       "                                                  content  \n",
       "127545  연예인들은 대학입학 과정에서 특혜가 너무 많습니다.  공정해야 할 대학입시에 돈 잘...  \n",
       "171061  많은 할리우드 영화들을 비롯한 외국 영화를 번역가 박지훈이 번역하는데 오역을 남발함...  \n",
       "171178  대한민국 번역가 사상 최악의 오역가\\n박지훈 번역가의 작품 참여(번역)를 반대합니다...  \n",
       "171201  지금까지 영화에서 수많은 오역과 발번역을 하여 각종 비난과 퇴출운동이 일어나고 있는...  \n",
       "171741            어밴저스3의 한국어 번역한 박지훈 번역가는 오역으로인해서 해고시켜주세요  \n",
       "171858  어벤져스 인피니티워 영화 오역\\n이게 뭡니까?\\n번역가 박지훈 논란 밝혀주시면 감사...  \n",
       "173862  해외 영화 번역과 관련하여 그동안 말아드신게 많은 것 같습니다.\\n이제 보내주세요 ...  \n",
       "204507  문재인 대통령님께 정중히 부탁립니다 .4월25일에 어벤져스인피니티워가 개봉했는데요 ...  \n",
       "205710  현재 여러 외국 영화들은 이 박지훈 번역가로 통해 번역이 됩니다. 그러나 번역의 질...  \n",
       "207969  며칠 전 영화 [쥬라기 월드: 폴른 킹덤]이 세계 최초로 개봉을 하였습니다.\\n그런...  "
      ]
     },
     "execution_count": 73,
     "metadata": {},
     "output_type": "execute_result"
    }
   ],
   "source": [
    "care"
   ]
  },
  {
   "cell_type": "markdown",
   "metadata": {},
   "source": [
    "## 위 분석 외에 각자 해보고 싶은 분석을 해보세요."
   ]
  },
  {
   "cell_type": "code",
   "execution_count": 156,
   "metadata": {
    "collapsed": true
   },
   "outputs": [],
   "source": [
    "import wordcloud as wc"
   ]
  },
  {
   "cell_type": "markdown",
   "metadata": {},
   "source": [
    "# 시각화\n",
    "참고 : http://plotnine.readthedocs.io/en/stable/\n",
    "[has2k1/plotnine-examples: Jupyter Notebooks that are part of the plotnine documentation](https://github.com/has2k1/plotnine-examples)\n",
    "\n",
    "#### 한글폰트 사용하기\n",
    "* 한글이 깨져보이는 것을 해결하기 위해 한글폰트를 사용해야 한다.\n",
    "* 여기에서는 나눔바른고딕을 사용하도록 한다. \n",
    "    * 이때 폰트가 로컬 컴퓨터에 설치되어 있어야한다. \n",
    "    * 나눔고딕은 무료로 사용할 수 있는 폰트다. \n",
    "    * 참고 : [네이버 나눔글꼴 라이선스](https://help.naver.com/support/contents/contents.nhn?serviceNo=1074&categoryNo=3497)\n",
    "* 한글을 사용하기 위해서는 ggplot에서 theme에 폰트를 지정해 주면된다.\n",
    "* 아래의 문서를 참고하면 **element_text**와 관련된 옵션을 볼 수 있다.\n",
    "* 참고 : [plotnine.themes.element_text — plotnine 0.3.0 documentation](http://plotnine.readthedocs.io/en/stable/generated/plotnine.themes.element_text.html)"
   ]
  },
  {
   "cell_type": "code",
   "execution_count": null,
   "metadata": {
    "collapsed": true
   },
   "outputs": [],
   "source": [
    "from plotnine import *\n",
    "\n",
    "(ggplot(df)\n",
    " + aes('category')\n",
    " + geom_bar(fill='green')\n",
    " + theme(text=element_text(family='NanumBarunGothic'),\n",
    "        axis_text_x=element_text(rotation=60))\n",
    ")"
   ]
  }
 ],
 "metadata": {
  "kernelspec": {
   "display_name": "Python 3",
   "language": "python",
   "name": "python3"
  },
  "language_info": {
   "codemirror_mode": {
    "name": "ipython",
    "version": 3
   },
   "file_extension": ".py",
   "mimetype": "text/x-python",
   "name": "python",
   "nbconvert_exporter": "python",
   "pygments_lexer": "ipython3",
   "version": "3.6.1"
  }
 },
 "nbformat": 4,
 "nbformat_minor": 2
}
