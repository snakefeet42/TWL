{
 "cells": [
  {
   "cell_type": "code",
   "execution_count": 31,
   "metadata": {},
   "outputs": [],
   "source": [
    "import matplotlib.pyplot as plt\n",
    "import numpy as np\n",
    "from PIL import Image"
   ]
  },
  {
   "cell_type": "markdown",
   "metadata": {},
   "source": [
    "# 데이터 시각화 이론"
   ]
  },
  {
   "cell_type": "markdown",
   "metadata": {},
   "source": [
    "- 시각화의 스타일은 정보를 제공하는 목적, 대상에 따라 다르게:\n",
    "- 플로우 강조(제작자의 어젠다 강조) vs 플로우 비강조(독자가 적극적으로, 독립적으로 해석할 수 있게)\n",
    "- 성능 개선은 엔지니어만의 일이 아님; 디자이너는 엔지니어가 생각 못하는 방식으로 성능 개선 달성 가능: 아이폰 메모장 앱의 사례\n",
    "- 참고자료\n",
    "    - [펠트론 annual report](http://feltron.com/)\n",
    "    - [인포그래픽 수업 우수사례 텀블러](https://curiosity-box-unboxing.tumblr.com/)\n",
    "    - [^Exploratory Data Analysis (John Tukey)]\n",
    "    - [^Semiology of graphics (Jacques Bertin)]\n",
    "    \n",
    "\n",
    "[^Exploratory Data Analysis (John Tukey)]:“탐색적 데이터 분석\"이라는 용어를 처음 소개한 책. 데이터의 특성을 잘 드러내기 위한 다양한 시각적 표현들(box plot, stem-and-leaf plot)이나 수학적 변환(ladder of powers) 등을 소개합니다. 탐색적 데이터 분석을 하는 단계에서의 태도나 접근법(“올바른 방법인가” 보다는 “현재 맥락에서 유용한가”를 생각하기 등)을 잘 담아낸 점이 특히 유익합니다.\n",
    "[^Semiology of graphics (Jacques Bertin)]: (정보디자인 분야의 바이블과 같은 책입니다. 조형요소의 의미와 사용에 관한 모든 원리에 대해 자세히 설명되어 있음. 김진영님 추천)\n",
    "[^The functional art by Alberto Cairo (시각 인지 원리에서 부터 실제 디자인 작업시 고려사항들을 많은 예시를 통해 쉽게 전달하고 있어 비전공자에게도 적절. 김진영님 추천)\n",
    "<The Visual Display of Quantitative Information> by Edward Tufte\n",
    "\n",
    "정보시각화(information visualization)와 관련하여 가장 널리 읽히는 책 중 하나. Edward Tufte의 연작이 모두 유익합니다. Data-ink ratio, Lie factor, The Smallest Effective Difference 등 널리 쓰이는 기준과 원칙들을 제시하는 책.\n",
    "\n",
    "\n",
    "<Information Visualization: Perception for Design> by Colin Ware\n",
    "\n",
    "시지각의 원리를 뇌과학/인지과학 수준에서 설명하고 디자인에 응용하는 방법을 설명하는 교과서입니다. 상당수의 디자인 개론 수업에서 단순히 외우고 지나가는 원칙들(색채학의 여러 원리들, 게슈탈트 법칙 등)의 기저에 놓인 원리를 설명합니다. ~~더럽게 길어서 아무도 안읽는다~~\n",
    "\n",
    "\n",
    "<Visual Thinking for Design> by Colin Ware\n",
    "\n",
    "상기 Information Visualization 책의 쉬운 요약 버전. 훨씬 얇고 실용적입니다.\n",
    "\n",
    "\n",
    "<Designing with the Mind in Mind> by Jeff Johnson\n",
    "\n",
    "Colin Ware의 책과 유사한 내용이지만 데이터 시각화보다는 인터페이스 설계에 초점을 맞춘 입문서. 번역서는 <마음을 생각하는 디자인>\n",
    "\n",
    "\n",
    "<Grammar of Graphics> by Leland Wilkinson\n",
    "\n",
    "컴퓨터로 범용적이고 유연한 그래픽 시스템을 설계할 때 필요한 원칙을 제시합니다. R의 ggplot 패키지(ggplot의 gg는 grammar of graphics), Python의 plotnine 패키지 등에 큰 영향을 준 책입니다.\n",
    "\n",
    "\n",
    "<The Design of Everyday Things> by Donald Norman\n",
    "\n",
    "사용자 경험 디자인(UX Design)이라는 말을 처음 만들어낸 도널드 노먼의 대표작. 30주년 기념판은 그 사이에 펴낸 여러 저작들의 내용을 고르게 소개하는 방향으로 크게 수정되었습니다. 다만 번역서 <디자인과 인간 심리>는 초판 기준이라 이후의 주장들이 반영되어 있지 않습니다. 번역서를 보는 경우 <이모셔널 디자인> 및 <생각있는 디자인>을 함께 읽어보시길 추천합니다.\n",
    "\n",
    "\n",
    "<The Humane Interface> by Jef Raskin\n",
    "\n",
    "초기 매킨토시 디자인에 참여했던 인터랙션 디자이너 제프 라스킨의 대표작. “사용자 중심” 보다 “인간 중심\"을 강조하는 인터랙션 디자인 원칙을 소개하고 이 원칙에 기반하여 설계된 THE(The Humane Environment)를 소개. 번역서는 <인간 중심 인터페이스>\n",
    "\n",
    "\n",
    "<Supersizing the Mind> by Andy Clark\n",
    "\n",
    "체화된 인지(embodied/embedded cognition) 논의 중 능동적 외재주의 관점을 소개하는 개론서. 데이터 시각화와 관련하여 인지의 확장, 컴퓨터-인간 인터페이스 등에 대해 여러 새로운 관점을 제시합니다."
   ]
  },
  {
   "cell_type": "markdown",
   "metadata": {},
   "source": [
    "## 연합뉴스 미디어랩 로또 시각화 사례"
   ]
  },
  {
   "cell_type": "markdown",
   "metadata": {},
   "source": [
    "<img src=\"./lotto_0628_final.jpg\" />"
   ]
  },
  {
   "cell_type": "markdown",
   "metadata": {},
   "source": [
    "### 비판\n",
    "- 정보량은 많지만 어디에 집중해야 할지 모르겠다. 레벨 디자인 실패. 산만함\n",
    "- 의도가 무엇인가?: vs 편견 없이 정확한 정보를 전달\n",
    "- 강조색은 배경색과 가장 뚜렷히 구분되는 색. 붉은색을 강조색으로 의도했으나 흰색이 강조색이 됨\n",
    "- 중요하지 않은 것이 강조됨: %기호\n",
    "- 중요한 정보가 제공되지 않음: 가장 눈에 띄는 1,2,3의 의미, 2등 당첨확률 +0의 의미\n",
    "- 폰트 크기의 일관성 부족\n",
    "- 배경 패턴이 중요한 정보에 집중하는 것을 방해함, 배경색도 \n",
    "- 데이터를 가공하는 것이 더 효과적일 때 단순히 정보 나열: 인구당 구매자 수 / 당첨자 수 등은 데이터를 가공해서 보여주는 것이 더 효과적이었을 것\n",
    "- 시.도의 색을 **레인보우 컬러**로 함: 배경색에 따라 임의의 시.도가 비의도적으로 강조됨. BAD IDEA!!!\n"
   ]
  },
  {
   "cell_type": "markdown",
   "metadata": {},
   "source": [
    "### 덜 비판\n",
    "- 의도 없이 정보 전달만을 목적으로 함\n",
    "- 디테일에 노력을 많이 기울임\n",
    "- 당첨확률에 확률 대신 비율을 제시한 것이 효과적"
   ]
  },
  {
   "cell_type": "code",
   "execution_count": null,
   "metadata": {
    "collapsed": true
   },
   "outputs": [],
   "source": []
  },
  {
   "cell_type": "markdown",
   "metadata": {},
   "source": [
    "## 데이터에 대한 이해 -> 시각화\n",
    "- 데이터 Level of measurement 고려하기: \n",
    "    - Nominal: 색과 순서가 전혀 무관하다는 것을 표현해야 함\n",
    "    - Ordinal, Interval, Ratio\n",
    "\n",
    "- Rainbow Pattern은 신중히 사용하기!: 보여줘야 하는 것이 나타나지 않거나 왜곡되기 쉬움!!"
   ]
  },
  {
   "cell_type": "code",
   "execution_count": null,
   "metadata": {
    "collapsed": true
   },
   "outputs": [],
   "source": [
    "## 시지각에 대한 이해 -> 시각화\n"
   ]
  }
 ],
 "metadata": {
  "kernelspec": {
   "display_name": "Python 3",
   "language": "python",
   "name": "python3"
  },
  "language_info": {
   "codemirror_mode": {
    "name": "ipython",
    "version": 3
   },
   "file_extension": ".py",
   "mimetype": "text/x-python",
   "name": "python",
   "nbconvert_exporter": "python",
   "pygments_lexer": "ipython3",
   "version": "3.6.1"
  }
 },
 "nbformat": 4,
 "nbformat_minor": 2
}
