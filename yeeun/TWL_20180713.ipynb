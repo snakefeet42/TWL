{
 "cells": [
  {
   "cell_type": "code",
   "execution_count": 0,
   "metadata": {
    "colab": {
     "autoexec": {
      "startup": false,
      "wait_interval": 0
     }
    },
    "colab_type": "code",
    "collapsed": true,
    "id": "FnGZcZccjfA3"
   },
   "outputs": [],
   "source": [
    "# !pip install --upgrade -q gspread\n",
    "\n",
    "# import pandas as pd\n",
    "\n",
    "# from google.colab import auth\n",
    "\n",
    "# auth.authenticate_user()\n",
    "\n",
    "# import gspread\n",
    "# from oauth2client.client import GoogleCredentials\n",
    "\n",
    "\n",
    "# def get_sheet(title, sheet_name):\n",
    "#   gc = gspread.authorize(GoogleCredentials.get_application_default())\n",
    "#   return gc.open(title).worksheet(sheet_name)"
   ]
  },
  {
   "cell_type": "code",
   "execution_count": 0,
   "metadata": {
    "colab": {
     "autoexec": {
      "startup": false,
      "wait_interval": 0
     }
    },
    "colab_type": "code",
    "collapsed": true,
    "id": "Z65L_pz7Em-6"
   },
   "outputs": [],
   "source": [
    "# 자료의 요약에 있는 특정 시트를 불러옵니다.\n",
    "# 1번 row를 0번 인덱스로 읽어오는 데, 0번 인덱스를 컬럼으로 지정해 주도록 했습니다.\n",
    "# 그러면 스프레드시트에서 봤던 것 처럼 데이터프레임이 생성됩니다.\n",
    "# def get_df(sheet_name):\n",
    "#   sheet = get_sheet('자료의 요약', sheet_name)\n",
    "\n",
    "#   # Create dataframe from the sheet\n",
    "#   rows = sheet.get_all_values()\n",
    "#   df = pd.DataFrame.from_records(rows)    \n",
    "\n",
    "#   df.columns = df.iloc[0]    # 0번째 행은 열 이름\n",
    "#   df = df.reindex(df.index.drop(0))\n",
    "#   return df"
   ]
  },
  {
   "cell_type": "code",
   "execution_count": 0,
   "metadata": {
    "colab": {
     "autoexec": {
      "startup": false,
      "wait_interval": 0
     }
    },
    "colab_type": "code",
    "collapsed": true,
    "id": "GRHMZJlXHGQX"
   },
   "outputs": [],
   "source": [
    "!pip install --upgrade -q gspread\n",
    "import pandas as pd\n",
    "import numpy as np\n",
    "import matplotlib.pyplot as plt \n",
    "import seaborn as sns "
   ]
  },
  {
   "cell_type": "code",
   "execution_count": 188,
   "metadata": {
    "collapsed": true
   },
   "outputs": [],
   "source": [
    "def get_df(sheet_name, index=None):\n",
    "    gc = pd.read_excel('자료의 요약.xlsx', sheet_name=sheet_name, header=0, index_col=index )\n",
    "    df = pd.DataFrame(gc)\n",
    "    return df"
   ]
  },
  {
   "cell_type": "markdown",
   "metadata": {
    "colab_type": "text",
    "id": "_W1m8VOCWRzL"
   },
   "source": [
    "## 통계학\n",
    "\n",
    "1. **자료 수집과정 설계**:   \n",
    "모집단 전수조사에는 시간적, 공간적 제약 존재  \n",
    "-> 표본을 통해 데이터 수집\n",
    "2. **자료의 요약과 해석**:  \n",
    "모집단의 특성 요약|  \n",
    "표본을 통해 모집단의 특성 추론  \n",
    "-> 통계량이 모수와 어느정도 일치할지에 대한 확률이 필연적으로 고려됨\n",
    "\n",
    "3. **결론을 이끌어 내거나 일반화**\n",
    "\n",
    "하는 전체적인 원리와 방법론을 제공\n",
    "\n",
    "## \\[PROS]통계가 필요한 이유\n",
    "1. 통계학을 적용한 자료는 신뢰성을 가짐\n",
    "2. 의사결정에 필요한 과학적 근거 자료를 제시\n",
    "3. 현상을 분석하여 실증자료를 제시\n",
    "> 연관성 파악, 요약,  예측, 불확실성 해소, 의사결정\n",
    "\n",
    "## \\[CONS]통계의 한계: 표본을 통한 추론통계의 한계\n",
    "1. 표본에서 결과를 얻음  \n",
    "-> 표본이 모집단을 잘 대표한다는 확실한 보장이 없음, 정확한 결론을 내리기 어려움\n",
    "2. 확률을 고려하지 않고서는 무의미\n",
    "3. 항상 틀릴 가능성 내포\n",
    "\n",
    "    **의 \\[CONS]: ~~자원의~~차원의 저주**  \n",
    "    모집단을 다 가지고 있는 것이 반드시 항상 좋은 것은 아닐 수 있음:  \n",
    "    차원(변수)가 증가하면 그것을 표현하기 위한 데이터 양이 기하급수적으로 증가  \n",
    "    *내용 추가바람*\n",
    "    변수가 많을 때 줄이는 방법  \n",
    "    1. na 많은 변수 치우기\n",
    "    2. 현업과 상의하여 변수 제거\n",
    "    3. PCA (???)\n",
    "    4. lasso (???)\n",
    "    \n",
    "\n",
    "\n"
   ]
  },
  {
   "cell_type": "markdown",
   "metadata": {
    "colab_type": "text",
    "id": "npi9CqN9nKzl"
   },
   "source": [
    "## 분석 프로세스: SAS의 SEMMA 방법론\n",
    "1. Sample: Generate a representative sample of the data\n",
    "2. **Explore**: vis.|basic desc. of the data  \n",
    "3. Modify: Select var.|transform var.s\n",
    "4. Model: Use variety of statistical and ML models\n",
    "5. Assess: Evaluate the accuracy|usefulness of the models"
   ]
  },
  {
   "cell_type": "markdown",
   "metadata": {
    "colab_type": "text",
    "id": "WQvf6gfcoVlK"
   },
   "source": [
    "### Exploratory Data Analysis\n"
   ]
  },
  {
   "cell_type": "markdown",
   "metadata": {
    "colab_type": "text",
    "id": "QA1i2lktp-yH"
   },
   "source": [
    "# 자료의 요약 시트 불러오기"
   ]
  },
  {
   "cell_type": "markdown",
   "metadata": {
    "colab_type": "text",
    "id": "Rg9jU-3pxkrD"
   },
   "source": [
    "# 혈액형"
   ]
  },
  {
   "cell_type": "code",
   "execution_count": 161,
   "metadata": {
    "colab": {
     "autoexec": {
      "startup": false,
      "wait_interval": 0
     }
    },
    "colab_type": "code",
    "id": "aqcIXpHqxj0T"
   },
   "outputs": [
    {
     "name": "stdout",
     "output_type": "stream",
     "text": [
      "(22, 1)\n"
     ]
    },
    {
     "data": {
      "text/html": [
       "<div>\n",
       "<style scoped>\n",
       "    .dataframe tbody tr th:only-of-type {\n",
       "        vertical-align: middle;\n",
       "    }\n",
       "\n",
       "    .dataframe tbody tr th {\n",
       "        vertical-align: top;\n",
       "    }\n",
       "\n",
       "    .dataframe thead th {\n",
       "        text-align: right;\n",
       "    }\n",
       "</style>\n",
       "<table border=\"1\" class=\"dataframe\">\n",
       "  <thead>\n",
       "    <tr style=\"text-align: right;\">\n",
       "      <th></th>\n",
       "      <th>혈액형</th>\n",
       "    </tr>\n",
       "  </thead>\n",
       "  <tbody>\n",
       "    <tr>\n",
       "      <th>0</th>\n",
       "      <td>A</td>\n",
       "    </tr>\n",
       "    <tr>\n",
       "      <th>1</th>\n",
       "      <td>A</td>\n",
       "    </tr>\n",
       "    <tr>\n",
       "      <th>2</th>\n",
       "      <td>B</td>\n",
       "    </tr>\n",
       "    <tr>\n",
       "      <th>3</th>\n",
       "      <td>AB</td>\n",
       "    </tr>\n",
       "    <tr>\n",
       "      <th>4</th>\n",
       "      <td>O</td>\n",
       "    </tr>\n",
       "  </tbody>\n",
       "</table>\n",
       "</div>"
      ],
      "text/plain": [
       "  혈액형\n",
       "0   A\n",
       "1   A\n",
       "2   B\n",
       "3  AB\n",
       "4   O"
      ]
     },
     "execution_count": 161,
     "metadata": {},
     "output_type": "execute_result"
    }
   ],
   "source": [
    "df_blood = get_df('혈액형')\n",
    "# 상위 5개의 데이터를 가져옵니다.\n",
    "print(df_blood.shape)\n",
    "df_blood.head()"
   ]
  },
  {
   "cell_type": "markdown",
   "metadata": {
    "colab_type": "text",
    "id": "hygptjZluCw4"
   },
   "source": []
  },
  {
   "cell_type": "markdown",
   "metadata": {
    "colab_type": "text",
    "id": "cTxrnkenp66k"
   },
   "source": [
    "# 조선왕"
   ]
  },
  {
   "cell_type": "code",
   "execution_count": 189,
   "metadata": {
    "colab": {
     "autoexec": {
      "startup": false,
      "wait_interval": 0
     }
    },
    "colab_type": "code",
    "id": "M0T5cLsllz1P"
   },
   "outputs": [
    {
     "name": "stdout",
     "output_type": "stream",
     "text": [
      "(27, 2)\n"
     ]
    },
    {
     "data": {
      "text/html": [
       "<div>\n",
       "<style scoped>\n",
       "    .dataframe tbody tr th:only-of-type {\n",
       "        vertical-align: middle;\n",
       "    }\n",
       "\n",
       "    .dataframe tbody tr th {\n",
       "        vertical-align: top;\n",
       "    }\n",
       "\n",
       "    .dataframe thead th {\n",
       "        text-align: right;\n",
       "    }\n",
       "</style>\n",
       "<table border=\"1\" class=\"dataframe\">\n",
       "  <thead>\n",
       "    <tr style=\"text-align: right;\">\n",
       "      <th></th>\n",
       "      <th>life</th>\n",
       "      <th>period</th>\n",
       "    </tr>\n",
       "    <tr>\n",
       "      <th>name</th>\n",
       "      <th></th>\n",
       "      <th></th>\n",
       "    </tr>\n",
       "  </thead>\n",
       "  <tbody>\n",
       "    <tr>\n",
       "      <th>태조</th>\n",
       "      <td>73</td>\n",
       "      <td>7</td>\n",
       "    </tr>\n",
       "    <tr>\n",
       "      <th>정종</th>\n",
       "      <td>62</td>\n",
       "      <td>2</td>\n",
       "    </tr>\n",
       "    <tr>\n",
       "      <th>태종</th>\n",
       "      <td>55</td>\n",
       "      <td>18</td>\n",
       "    </tr>\n",
       "    <tr>\n",
       "      <th>세종</th>\n",
       "      <td>53</td>\n",
       "      <td>32</td>\n",
       "    </tr>\n",
       "    <tr>\n",
       "      <th>문종</th>\n",
       "      <td>38</td>\n",
       "      <td>2</td>\n",
       "    </tr>\n",
       "  </tbody>\n",
       "</table>\n",
       "</div>"
      ],
      "text/plain": [
       "      life  period\n",
       "name              \n",
       "태조      73       7\n",
       "정종      62       2\n",
       "태종      55      18\n",
       "세종      53      32\n",
       "문종      38       2"
      ]
     },
     "execution_count": 189,
     "metadata": {},
     "output_type": "execute_result"
    }
   ],
   "source": [
    "df_king = get_df('조선왕', 0)\n",
    "# 상위 5개의 데이터를 가져옵니다.\n",
    "print(df_king.shape)\n",
    "df_king.head()"
   ]
  },
  {
   "cell_type": "code",
   "execution_count": 190,
   "metadata": {
    "colab": {
     "autoexec": {
      "startup": false,
      "wait_interval": 0
     }
    },
    "colab_type": "code",
    "id": "Ac3MgOQSmAg-"
   },
   "outputs": [
    {
     "name": "stdout",
     "output_type": "stream",
     "text": [
      "<class 'pandas.core.frame.DataFrame'>\n",
      "Index: 27 entries, 태조 to 순종\n",
      "Data columns (total 2 columns):\n",
      "life      27 non-null int64\n",
      "period    27 non-null int64\n",
      "dtypes: int64(2)\n",
      "memory usage: 648.0+ bytes\n"
     ]
    }
   ],
   "source": [
    "# 어떤 컬럼이 있고 데이터의 row, column 수, 데이터 타입을 볼 수 있다.\n",
    "df_king.info()"
   ]
  },
  {
   "cell_type": "code",
   "execution_count": 191,
   "metadata": {
    "colab": {
     "autoexec": {
      "startup": false,
      "wait_interval": 0
     }
    },
    "colab_type": "code",
    "id": "gImNQuVrnYlo"
   },
   "outputs": [
    {
     "data": {
      "text/html": [
       "<div>\n",
       "<style scoped>\n",
       "    .dataframe tbody tr th:only-of-type {\n",
       "        vertical-align: middle;\n",
       "    }\n",
       "\n",
       "    .dataframe tbody tr th {\n",
       "        vertical-align: top;\n",
       "    }\n",
       "\n",
       "    .dataframe thead th {\n",
       "        text-align: right;\n",
       "    }\n",
       "</style>\n",
       "<table border=\"1\" class=\"dataframe\">\n",
       "  <thead>\n",
       "    <tr style=\"text-align: right;\">\n",
       "      <th></th>\n",
       "      <th>life</th>\n",
       "      <th>period</th>\n",
       "    </tr>\n",
       "  </thead>\n",
       "  <tbody>\n",
       "    <tr>\n",
       "      <th>count</th>\n",
       "      <td>27.000000</td>\n",
       "      <td>27.000000</td>\n",
       "    </tr>\n",
       "    <tr>\n",
       "      <th>mean</th>\n",
       "      <td>46.111111</td>\n",
       "      <td>19.259259</td>\n",
       "    </tr>\n",
       "    <tr>\n",
       "      <th>std</th>\n",
       "      <td>16.678714</td>\n",
       "      <td>15.383789</td>\n",
       "    </tr>\n",
       "    <tr>\n",
       "      <th>min</th>\n",
       "      <td>16.000000</td>\n",
       "      <td>1.000000</td>\n",
       "    </tr>\n",
       "    <tr>\n",
       "      <th>25%</th>\n",
       "      <td>33.000000</td>\n",
       "      <td>5.500000</td>\n",
       "    </tr>\n",
       "    <tr>\n",
       "      <th>50%</th>\n",
       "      <td>48.000000</td>\n",
       "      <td>15.000000</td>\n",
       "    </tr>\n",
       "    <tr>\n",
       "      <th>75%</th>\n",
       "      <td>56.000000</td>\n",
       "      <td>29.500000</td>\n",
       "    </tr>\n",
       "    <tr>\n",
       "      <th>max</th>\n",
       "      <td>82.000000</td>\n",
       "      <td>52.000000</td>\n",
       "    </tr>\n",
       "  </tbody>\n",
       "</table>\n",
       "</div>"
      ],
      "text/plain": [
       "            life     period\n",
       "count  27.000000  27.000000\n",
       "mean   46.111111  19.259259\n",
       "std    16.678714  15.383789\n",
       "min    16.000000   1.000000\n",
       "25%    33.000000   5.500000\n",
       "50%    48.000000  15.000000\n",
       "75%    56.000000  29.500000\n",
       "max    82.000000  52.000000"
      ]
     },
     "execution_count": 191,
     "metadata": {},
     "output_type": "execute_result"
    }
   ],
   "source": [
    "df_king.describe()"
   ]
  },
  {
   "cell_type": "code",
   "execution_count": 192,
   "metadata": {
    "colab": {
     "autoexec": {
      "startup": false,
      "wait_interval": 0
     }
    },
    "colab_type": "code",
    "id": "04EQOy7CnJMh"
   },
   "outputs": [
    {
     "data": {
      "text/html": [
       "<div>\n",
       "<style scoped>\n",
       "    .dataframe tbody tr th:only-of-type {\n",
       "        vertical-align: middle;\n",
       "    }\n",
       "\n",
       "    .dataframe tbody tr th {\n",
       "        vertical-align: top;\n",
       "    }\n",
       "\n",
       "    .dataframe thead th {\n",
       "        text-align: right;\n",
       "    }\n",
       "</style>\n",
       "<table border=\"1\" class=\"dataframe\">\n",
       "  <thead>\n",
       "    <tr style=\"text-align: right;\">\n",
       "      <th></th>\n",
       "      <th>life</th>\n",
       "      <th>period</th>\n",
       "    </tr>\n",
       "  </thead>\n",
       "  <tbody>\n",
       "    <tr>\n",
       "      <th>count</th>\n",
       "      <td>27.000000</td>\n",
       "      <td>27.000000</td>\n",
       "    </tr>\n",
       "    <tr>\n",
       "      <th>mean</th>\n",
       "      <td>46.111111</td>\n",
       "      <td>19.259259</td>\n",
       "    </tr>\n",
       "    <tr>\n",
       "      <th>std</th>\n",
       "      <td>16.678714</td>\n",
       "      <td>15.383789</td>\n",
       "    </tr>\n",
       "    <tr>\n",
       "      <th>min</th>\n",
       "      <td>16.000000</td>\n",
       "      <td>1.000000</td>\n",
       "    </tr>\n",
       "    <tr>\n",
       "      <th>25%</th>\n",
       "      <td>33.000000</td>\n",
       "      <td>5.500000</td>\n",
       "    </tr>\n",
       "    <tr>\n",
       "      <th>50%</th>\n",
       "      <td>48.000000</td>\n",
       "      <td>15.000000</td>\n",
       "    </tr>\n",
       "    <tr>\n",
       "      <th>75%</th>\n",
       "      <td>56.000000</td>\n",
       "      <td>29.500000</td>\n",
       "    </tr>\n",
       "    <tr>\n",
       "      <th>max</th>\n",
       "      <td>82.000000</td>\n",
       "      <td>52.000000</td>\n",
       "    </tr>\n",
       "  </tbody>\n",
       "</table>\n",
       "</div>"
      ],
      "text/plain": [
       "            life     period\n",
       "count  27.000000  27.000000\n",
       "mean   46.111111  19.259259\n",
       "std    16.678714  15.383789\n",
       "min    16.000000   1.000000\n",
       "25%    33.000000   5.500000\n",
       "50%    48.000000  15.000000\n",
       "75%    56.000000  29.500000\n",
       "max    82.000000  52.000000"
      ]
     },
     "execution_count": 192,
     "metadata": {},
     "output_type": "execute_result"
    }
   ],
   "source": [
    "# 데이터 타입을 int로 변경해 준다.\n",
    "df_king['life'] = df_king['life'].astype(int)\n",
    "df_king['period'] = df_king['period'].astype(int)\n",
    "# 위와 describe() 했을 때의 정보가 다르다. \n",
    "# 수치형 데이터 일 때 count, mean, std, min/max, 사분위수를 보여준다.\n",
    "df_king.describe()"
   ]
  },
  {
   "cell_type": "code",
   "execution_count": 193,
   "metadata": {
    "colab": {
     "autoexec": {
      "startup": false,
      "wait_interval": 0
     }
    },
    "colab_type": "code",
    "id": "cjYrTRvareU8"
   },
   "outputs": [
    {
     "data": {
      "text/plain": [
       "life      0\n",
       "period    0\n",
       "dtype: int64"
      ]
     },
     "execution_count": 193,
     "metadata": {},
     "output_type": "execute_result"
    }
   ],
   "source": [
    "# 결측치를 보고 싶을 때 널값을 구해 본다.\n",
    "df_king.isnull().sum()"
   ]
  },
  {
   "cell_type": "code",
   "execution_count": 194,
   "metadata": {
    "colab": {
     "autoexec": {
      "startup": false,
      "wait_interval": 0
     }
    },
    "colab_type": "code",
    "id": "U10pHKZYsuPk"
   },
   "outputs": [
    {
     "data": {
      "text/html": [
       "<div>\n",
       "<style scoped>\n",
       "    .dataframe tbody tr th:only-of-type {\n",
       "        vertical-align: middle;\n",
       "    }\n",
       "\n",
       "    .dataframe tbody tr th {\n",
       "        vertical-align: top;\n",
       "    }\n",
       "\n",
       "    .dataframe thead th {\n",
       "        text-align: right;\n",
       "    }\n",
       "</style>\n",
       "<table border=\"1\" class=\"dataframe\">\n",
       "  <thead>\n",
       "    <tr style=\"text-align: right;\">\n",
       "      <th></th>\n",
       "      <th>life</th>\n",
       "      <th>period</th>\n",
       "    </tr>\n",
       "    <tr>\n",
       "      <th>name</th>\n",
       "      <th></th>\n",
       "      <th></th>\n",
       "    </tr>\n",
       "  </thead>\n",
       "  <tbody>\n",
       "    <tr>\n",
       "      <th>영조</th>\n",
       "      <td>82</td>\n",
       "      <td>52</td>\n",
       "    </tr>\n",
       "    <tr>\n",
       "      <th>숙종</th>\n",
       "      <td>59</td>\n",
       "      <td>46</td>\n",
       "    </tr>\n",
       "    <tr>\n",
       "      <th>고종</th>\n",
       "      <td>67</td>\n",
       "      <td>43</td>\n",
       "    </tr>\n",
       "    <tr>\n",
       "      <th>선조</th>\n",
       "      <td>56</td>\n",
       "      <td>41</td>\n",
       "    </tr>\n",
       "    <tr>\n",
       "      <th>중종</th>\n",
       "      <td>56</td>\n",
       "      <td>39</td>\n",
       "    </tr>\n",
       "  </tbody>\n",
       "</table>\n",
       "</div>"
      ],
      "text/plain": [
       "      life  period\n",
       "name              \n",
       "영조      82      52\n",
       "숙종      59      46\n",
       "고종      67      43\n",
       "선조      56      41\n",
       "중종      56      39"
      ]
     },
     "execution_count": 194,
     "metadata": {},
     "output_type": "execute_result"
    }
   ],
   "source": [
    "# 가장 오래 집권한 왕순으로 정렬해 보고 상위 5개의 데이터만 본다.\n",
    "df_king.sort_values(by='period', ascending=False).head(5)"
   ]
  },
  {
   "cell_type": "code",
   "execution_count": 195,
   "metadata": {
    "colab": {
     "autoexec": {
      "startup": false,
      "wait_interval": 0
     }
    },
    "colab_type": "code",
    "id": "qRQ6isGes-Xf"
   },
   "outputs": [
    {
     "data": {
      "text/plain": [
       "life      46.111111\n",
       "period    19.259259\n",
       "dtype: float64"
      ]
     },
     "execution_count": 195,
     "metadata": {},
     "output_type": "execute_result"
    }
   ],
   "source": [
    "# 평균값만 본다.\n",
    "df_king.mean()"
   ]
  },
  {
   "cell_type": "code",
   "execution_count": 196,
   "metadata": {
    "colab": {
     "autoexec": {
      "startup": false,
      "wait_interval": 0
     }
    },
    "colab_type": "code",
    "id": "meNs10dntD4M"
   },
   "outputs": [
    {
     "data": {
      "text/plain": [
       "life      16.678714\n",
       "period    15.383789\n",
       "dtype: float64"
      ]
     },
     "execution_count": 196,
     "metadata": {},
     "output_type": "execute_result"
    }
   ],
   "source": [
    "# 표준편차만 본다.\n",
    "df_king.std()"
   ]
  },
  {
   "cell_type": "code",
   "execution_count": 197,
   "metadata": {
    "colab": {
     "autoexec": {
      "startup": false,
      "wait_interval": 0
     }
    },
    "colab_type": "code",
    "id": "V_NNcznBtXfy"
   },
   "outputs": [
    {
     "data": {
      "text/plain": [
       "life      82\n",
       "period    52\n",
       "dtype: int32"
      ]
     },
     "execution_count": 197,
     "metadata": {},
     "output_type": "execute_result"
    }
   ],
   "source": [
    "# 최대값만 본다. 효종이 나온 이유는 한글 중에 가장 뒤에 있기 때문\n",
    "# life, period도 각 컬럼에서 최대값\n",
    "df_king.max()"
   ]
  },
  {
   "cell_type": "code",
   "execution_count": 198,
   "metadata": {
    "colab": {
     "autoexec": {
      "startup": false,
      "wait_interval": 0
     }
    },
    "colab_type": "code",
    "id": "36aLsY9otcle"
   },
   "outputs": [
    {
     "data": {
      "text/plain": [
       "52"
      ]
     },
     "execution_count": 198,
     "metadata": {},
     "output_type": "execute_result"
    }
   ],
   "source": [
    "df_king['period'].max()"
   ]
  },
  {
   "cell_type": "code",
   "execution_count": 199,
   "metadata": {},
   "outputs": [
    {
     "name": "stdout",
     "output_type": "stream",
     "text": [
      "agencyb\n",
      "agencyr\n",
      "ahn_b\n",
      "ahn_l\n",
      "ahn_m\n",
      "alger\n",
      "along\n",
      "antquab\n",
      "antquabi\n",
      "antquai\n",
      "arial\n",
      "arialbd\n",
      "arialbi\n",
      "ariali\n",
      "arialn\n",
      "arialnb\n",
      "arialnbi\n",
      "arialni\n",
      "arialuni\n",
      "ariblk\n",
      "arlrdbd\n",
      "art\n",
      "bahnschrift\n",
      "baskvill\n",
      "bauhs93\n",
      "bell\n",
      "bellb\n",
      "belli\n",
      "bernhc\n",
      "bkant\n",
      "bod_b\n",
      "bod_bi\n",
      "bod_blai\n",
      "bod_blar\n",
      "bod_cb\n",
      "bod_cbi\n",
      "bod_ci\n",
      "bod_cr\n",
      "bod_i\n",
      "bod_pstc\n",
      "bod_r\n",
      "bookos\n",
      "bookosb\n",
      "bookosbi\n",
      "bookosi\n",
      "bradhitc\n",
      "britanic\n",
      "brlnsb\n",
      "brlnsdb\n",
      "brlnsr\n",
      "broadw\n",
      "brushsci\n",
      "bssym7\n",
      "calibri\n",
      "calibrib\n",
      "calibrii\n",
      "calibril\n",
      "calibrili\n",
      "calibriz\n",
      "califb\n",
      "califi\n",
      "califr\n",
      "calist\n",
      "calistb\n",
      "calistbi\n",
      "calisti\n",
      "cambriab\n",
      "cambriai\n",
      "cambriaz\n",
      "candara\n",
      "candarab\n",
      "candarai\n",
      "candaraz\n",
      "castelar\n",
      "censcbk\n",
      "centaur\n",
      "century\n",
      "chiller\n",
      "colonna\n",
      "comic\n",
      "comicbd\n",
      "comici\n",
      "comicz\n",
      "consola\n",
      "consolab\n",
      "consolai\n",
      "consolaz\n",
      "constan\n",
      "constanb\n",
      "constani\n",
      "constanz\n",
      "coopbl\n",
      "coprgtb\n",
      "coprgtl\n",
      "corbel\n",
      "corbelb\n",
      "corbeli\n",
      "corbelz\n",
      "cour\n",
      "courbd\n",
      "courbi\n",
      "couri\n",
      "curlz___\n",
      "dubai-bold\n",
      "dubai-light\n",
      "dubai-medium\n",
      "dubai-regular\n",
      "dxrmbxb-kscpc-euc-h\n",
      "easop\n",
      "ebrima\n",
      "ebrimabd\n",
      "elephnt\n",
      "elephnti\n",
      "enbaskvl\n",
      "enbernf\n",
      "enblbk\n",
      "enbodb\n",
      "enbodbi\n",
      "enbodbk\n",
      "enbodbki\n",
      "enbrodwy\n",
      "enbrush\n",
      "encobk\n",
      "encobki\n",
      "encoscpt\n",
      "encr10b\n",
      "encr10bi\n",
      "encsch\n",
      "encschb\n",
      "encschbi\n",
      "encschi\n",
      "endomca\n",
      "enfreehd\n",
      "enfutubk\n",
      "engarm\n",
      "engarmb\n",
      "engarmbi\n",
      "engarmi\n",
      "engdos\n",
      "engdosb\n",
      "engdosbi\n",
      "engdosi\n",
      "engr\n",
      "enhobo\n",
      "enitcnbk\n",
      "enlibrty\n",
      "enmuhb\n",
      "enocra\n",
      "enocrb10\n",
      "enorat10\n",
      "enorbitb\n",
      "enpkav\n",
      "ens721li\n",
      "ensten\n",
      "ensw721l\n",
      "erasbd\n",
      "erasdemi\n",
      "eraslght\n",
      "erasmd\n",
      "felixti\n",
      "flat_officefontspreview\n",
      "forte\n",
      "frabk\n",
      "frabkit\n",
      "fradm\n",
      "fradmcn\n",
      "fradmit\n",
      "frahv\n",
      "frahvit\n",
      "framd\n",
      "framdcn\n",
      "framdit\n",
      "freescpt\n",
      "frscript\n",
      "ftltlt\n",
      "fzsong_super\n",
      "gabriola\n",
      "gadugi\n",
      "gadugib\n",
      "gaesung\n",
      "gara\n",
      "garabd\n",
      "garait\n",
      "georgia\n",
      "georgiab\n",
      "georgiai\n",
      "georgiaz\n",
      "gigi\n",
      "gil_____\n",
      "gilb____\n",
      "gilbi___\n",
      "gilc____\n",
      "gili____\n",
      "gillubcd\n",
      "gilsanub\n",
      "glecb\n",
      "glsnecb\n",
      "gothic\n",
      "gothicb\n",
      "gothicbi\n",
      "gothici\n",
      "goudos\n",
      "goudosb\n",
      "goudosi\n",
      "goudysto\n",
      "h2gprm\n",
      "h2gsrb\n",
      "h2gtre\n",
      "h2gtrm\n",
      "h2hdrm\n",
      "h2mjre\n",
      "h2mjsm\n",
      "h2mkpb\n",
      "h2porl\n",
      "h2porm\n",
      "h2sa1m\n",
      "hanbaekb\n",
      "hanbaekm\n",
      "hanbatang\n",
      "hanbatangb\n",
      "hanbatangext\n",
      "hancooljazzb\n",
      "hancooljazzl\n",
      "hancooljazzm\n",
      "handotum\n",
      "handotumb\n",
      "handotumext\n",
      "hansaleb\n",
      "hansalem\n",
      "hansolb\n",
      "hansolm\n",
      "hansomab\n",
      "hansomam\n",
      "hanygo230\n",
      "hanygo240\n",
      "hanygo250\n",
      "hanyheadb\n",
      "hanyheadl\n",
      "hanyheadm\n",
      "harlowsi\n",
      "harngton\n",
      "harryp_\n",
      "hatten\n",
      "hbatang\n",
      "hdotum\n",
      "himalaya\n",
      "hmfmold\n",
      "hmfmpyun\n",
      "hmkba\n",
      "hmkbp\n",
      "hmkbs\n",
      "hmkla\n",
      "hmklp\n",
      "hmkls\n",
      "hmkma\n",
      "hmkmami\n",
      "hmkmg\n",
      "hmkmm\n",
      "hmkmmag\n",
      "hmkmold\n",
      "hmkmp\n",
      "hmkmrhd\n",
      "hmkms\n",
      "holomdl2\n",
      "htowert\n",
      "htowerti\n",
      "hybdal\n",
      "hybdam\n",
      "hybsrb\n",
      "hycysm\n",
      "hydnkb\n",
      "hydnkm\n",
      "hygprm\n",
      "hygsrb\n",
      "hygtre\n",
      "hyhwpeq\n",
      "hykanb\n",
      "hykanm\n",
      "hymjre\n",
      "hymprl\n",
      "hynamb\n",
      "hynaml\n",
      "hynamm\n",
      "hyporm\n",
      "hysanb\n",
      "hysnrl\n",
      "hysupb\n",
      "hysupm\n",
      "hytbrb\n",
      "hywulb\n",
      "hywulm\n",
      "impact\n",
      "imprisha\n",
      "infroman\n",
      "inkfree\n",
      "itcblkad\n",
      "itcedscr\n",
      "itckrist\n",
      "javatext\n",
      "jokerman\n",
      "juice___\n",
      "kunstler\n",
      "l_10646\n",
      "latinwd\n",
      "latoweb-bold\n",
      "latoweb-bolditalic\n",
      "latoweb-italic\n",
      "latoweb-light\n",
      "latoweb-lightitalic\n",
      "latoweb-regular\n",
      "latoweb-semibold\n",
      "latoweb-semibolditalic\n",
      "lbrite\n",
      "lbrited\n",
      "lbritedi\n",
      "lbritei\n",
      "lcallig\n",
      "leelauib\n",
      "leelawui\n",
      "leeluisl\n",
      "lfax\n",
      "lfaxd\n",
      "lfaxdi\n",
      "lfaxi\n",
      "lhandw\n",
      "lsans\n",
      "lsansd\n",
      "lsansdi\n",
      "lsansi\n",
      "ltype\n",
      "ltypeb\n",
      "ltypebo\n",
      "ltypeo\n",
      "lucon\n",
      "magnetob\n",
      "maian\n",
      "malgun\n",
      "malgunbd\n",
      "malgunsl\n",
      "maturasc\n",
      "mb\n",
      "mg\n",
      "mh\n",
      "micross\n",
      "mistral\n",
      "mj\n",
      "mk\n",
      "mm\n",
      "mmrtext\n",
      "mmrtextb\n",
      "mn\n",
      "mod20\n",
      "monbaiti\n",
      "mp\n",
      "msmincho\n",
      "msyi\n",
      "mt\n",
      "mtcorsva\n",
      "mtextra\n",
      "mvboli\n",
      "nanumgothicbold\n",
      "nanumgothicextrabold\n",
      "ngulim\n",
      "niageng\n",
      "niagsol\n",
      "nirmala\n",
      "nirmalab\n",
      "nirmalas\n",
      "ntailu\n",
      "ntailub\n",
      "ocraext\n",
      "offsym\n",
      "offsymb\n",
      "offsyml\n",
      "offsymsb\n",
      "offsymsl\n",
      "offsymxl\n",
      "oldengl\n",
      "onyx\n",
      "outlook\n",
      "pala\n",
      "palab\n",
      "palabi\n",
      "palai\n",
      "palscri\n",
      "papyrus\n",
      "parchm\n",
      "penhl\n",
      "per_____\n",
      "perb____\n",
      "perbi___\n",
      "peri____\n",
      "pertibd\n",
      "pertili\n",
      "phagspa\n",
      "phagspab\n",
      "playbill\n",
      "poorich\n",
      "pristina\n",
      "rage\n",
      "ravie\n",
      "refsan\n",
      "refspcl\n",
      "rocc____\n",
      "roccb___\n",
      "rock\n",
      "rockb\n",
      "rockbi\n",
      "rockeb\n",
      "rocki\n",
      "schlbkb\n",
      "schlbkbi\n",
      "schlbki\n",
      "scriptbl\n",
      "segmdl2\n",
      "segoepr\n",
      "segoeprb\n",
      "segoesc\n",
      "segoescb\n",
      "segoeui\n",
      "segoeuib\n",
      "segoeuii\n",
      "segoeuil\n",
      "segoeuisl\n",
      "segoeuiz\n",
      "seguibl\n",
      "seguibli\n",
      "seguiemj\n",
      "seguihis\n",
      "seguili\n",
      "seguisb\n",
      "seguisbi\n",
      "seguisli\n",
      "seguisym\n",
      "showg\n",
      "simsunb\n",
      "snap____\n",
      "sol\n",
      "stencil\n",
      "sylfaen\n",
      "symbol\n",
      "taenmr\n",
      "tahoma\n",
      "tahomabd\n",
      "taile\n",
      "taileb\n",
      "tcb_____\n",
      "tcbi____\n",
      "tccb____\n",
      "tcceb\n",
      "tccm____\n",
      "tcm_____\n",
      "tcmi____\n",
      "tempsitc\n",
      "times\n",
      "timesbd\n",
      "timesbi\n",
      "timesi\n",
      "trebuc\n",
      "trebucbd\n",
      "trebucbi\n",
      "trebucit\n",
      "uni_hsr\n",
      "verdana\n",
      "verdanab\n",
      "verdanai\n",
      "verdanaz\n",
      "vineritc\n",
      "vivaldii\n",
      "vladimir\n",
      "webdings\n",
      "wingding\n",
      "wingdng2\n",
      "wingdng3\n",
      "ybla05\n",
      "yblo05\n",
      "ybmg05\n",
      "ybuu02\n",
      "ychm08\n",
      "ydoo08\n",
      "ydug05\n",
      "ydwm05\n",
      "ygbi08\n",
      "ygge05\n",
      "yinj05\n",
      "yinp05\n",
      "ymae07\n",
      "ynch05\n",
      "yshn05\n",
      "ysos07\n",
      "ytte08\n",
      "ywda05\n"
     ]
    }
   ],
   "source": [
    "# 망할놈의 폰트\n",
    "from matplotlib import font_manager\n",
    "fonts = []\n",
    "for x in font_manager.win32InstalledFonts():\n",
    "    x = x[::-1]\n",
    "    dot = x.find('.')\n",
    "    slash = x.find('\\\\')\n",
    "    x = x[slash-1:dot:-1]\n",
    "    fonts += [x]\n",
    "fonts.sort()\n",
    "for x in fonts: print (x)"
   ]
  },
  {
   "cell_type": "code",
   "execution_count": 200,
   "metadata": {},
   "outputs": [
    {
     "name": "stdout",
     "output_type": "stream",
     "text": [
      "버전:  2.0.2\n",
      "설치 위치:  C:\\Python\\Anaconda3\\lib\\site-packages\\matplotlib\\__init__.py\n",
      "설정 위치:  C:\\Users\\Dellilah\\.matplotlib\n",
      "캐시 위치:  C:\\Users\\Dellilah\\.matplotlib\n",
      "['c:\\\\windows\\\\fonts\\\\rockb.ttf', 'c:\\\\windows\\\\fonts\\\\oldengl.ttf', 'c:\\\\windows\\\\fonts\\\\gillubcd.ttf', 'c:\\\\windows\\\\fonts\\\\framd.ttf', 'c:\\\\windows\\\\fonts\\\\seguihis.ttf', 'c:\\\\windows\\\\fonts\\\\lhandw.ttf', 'c:\\\\windows\\\\fonts\\\\alger.ttf', 'C:\\\\WINDOWS\\\\Fonts\\\\FRAHVIT.TTF', 'C:\\\\WINDOWS\\\\Fonts\\\\OFFSYM.TTF', 'c:\\\\windows\\\\fonts\\\\brlnsr.ttf', 'C:\\\\WINDOWS\\\\Fonts\\\\COPRGTB.TTF', 'c:\\\\windows\\\\fonts\\\\hancooljazzm.ttf', 'C:\\\\WINDOWS\\\\Fonts\\\\HANCooljazzL.ttf', 'C:\\\\WINDOWS\\\\Fonts\\\\CALIFR.TTF', 'c:\\\\windows\\\\fonts\\\\hynamm.ttf', 'c:\\\\windows\\\\fonts\\\\calibrii.ttf', 'c:\\\\windows\\\\fonts\\\\arialnb.ttf', 'C:\\\\WINDOWS\\\\Fonts\\\\YBUU02.TTF', 'c:\\\\windows\\\\fonts\\\\tahoma.ttf', 'C:\\\\WINDOWS\\\\Fonts\\\\UNI_HSR.TTF', 'c:\\\\windows\\\\fonts\\\\calibrib.ttf', 'c:\\\\windows\\\\fonts\\\\mtcorsva.ttf', 'c:\\\\windows\\\\fonts\\\\yinj05.ttf', 'C:\\\\WINDOWS\\\\Fonts\\\\ANTQUAI.TTF', 'c:\\\\windows\\\\fonts\\\\hydnkb.ttf', 'C:\\\\WINDOWS\\\\Fonts\\\\DUBAI-REGULAR.TTF', 'C:\\\\WINDOWS\\\\Fonts\\\\HMKMM.TTF', 'C:\\\\WINDOWS\\\\Fonts\\\\REFSPCL.TTF', 'c:\\\\windows\\\\fonts\\\\sylfaen.ttf', 'c:\\\\windows\\\\fonts\\\\calibriz.ttf', 'c:\\\\windows\\\\fonts\\\\hmkmmag.ttf', 'C:\\\\WINDOWS\\\\Fonts\\\\LeelawUI.ttf', 'c:\\\\windows\\\\fonts\\\\hybsrb.ttf', 'c:\\\\windows\\\\fonts\\\\dubai-regular.ttf', 'c:\\\\windows\\\\fonts\\\\timesbi.ttf', 'c:\\\\windows\\\\fonts\\\\nirmala.ttf', 'C:\\\\WINDOWS\\\\Fonts\\\\HYBDAM.TTF', 'c:\\\\windows\\\\fonts\\\\ravie.ttf', 'C:\\\\WINDOWS\\\\Fonts\\\\TCB_____.TTF', 'c:\\\\windows\\\\fonts\\\\hmkmrhd.ttf', 'C:\\\\WINDOWS\\\\Fonts\\\\Gabriola.ttf', 'C:\\\\WINDOWS\\\\Fonts\\\\LatoWeb-BoldItalic.ttf', 'c:\\\\windows\\\\fonts\\\\enbrush.ttf', 'c:\\\\windows\\\\fonts\\\\mm.ttf', 'c:\\\\windows\\\\fonts\\\\offsymsl.ttf', 'C:\\\\WINDOWS\\\\Fonts\\\\GOUDOS.TTF', 'C:\\\\WINDOWS\\\\Fonts\\\\ENS721LI.TTF', 'c:\\\\windows\\\\fonts\\\\msyi.ttf', 'c:\\\\windows\\\\fonts\\\\hmfmpyun.ttf', 'C:\\\\WINDOWS\\\\Fonts\\\\HMKMS.TTF', 'c:\\\\windows\\\\fonts\\\\lbrited.ttf', 'c:\\\\windows\\\\fonts\\\\leelauib.ttf', 'C:\\\\WINDOWS\\\\Fonts\\\\SCHLBKBI.TTF', 'C:\\\\WINDOWS\\\\Fonts\\\\HANYGO230.ttf', 'c:\\\\windows\\\\fonts\\\\tcm_____.ttf', 'c:\\\\windows\\\\fonts\\\\tccm____.ttf', 'c:\\\\windows\\\\fonts\\\\showg.ttf', 'c:\\\\windows\\\\fonts\\\\along.ttf', 'c:\\\\windows\\\\fonts\\\\outlook.ttf', 'C:\\\\WINDOWS\\\\Fonts\\\\ENGARM.TTF', 'c:\\\\windows\\\\fonts\\\\wingding.ttf', 'C:\\\\WINDOWS\\\\Fonts\\\\BOD_BI.TTF', 'C:\\\\WINDOWS\\\\Fonts\\\\PRISTINA.TTF', 'c:\\\\windows\\\\fonts\\\\gaesung.ttf', 'c:\\\\windows\\\\fonts\\\\lsans.ttf', 'C:\\\\WINDOWS\\\\Fonts\\\\BOD_CBI.TTF', 'C:\\\\WINDOWS\\\\Fonts\\\\ENGARMB.TTF', 'C:\\\\WINDOWS\\\\Fonts\\\\ENCR10B.TTF', 'c:\\\\windows\\\\fonts\\\\eraslght.ttf', 'c:\\\\windows\\\\fonts\\\\centaur.ttf', 'c:\\\\windows\\\\fonts\\\\pertibd.ttf', 'C:\\\\WINDOWS\\\\Fonts\\\\HANSolB.ttf', 'C:\\\\WINDOWS\\\\Fonts\\\\JOKERMAN.TTF', 'c:\\\\windows\\\\fonts\\\\infroman.ttf', 'C:\\\\WINDOWS\\\\Fonts\\\\HANBatangB.ttf', 'C:\\\\WINDOWS\\\\Fonts\\\\BSSYM7.TTF', 'c:\\\\windows\\\\fonts\\\\seguiemj.ttf', 'C:\\\\WINDOWS\\\\Fonts\\\\ROCC____.TTF', 'c:\\\\windows\\\\fonts\\\\palab.ttf', 'C:\\\\WINDOWS\\\\Fonts\\\\seguisli.ttf', 'c:\\\\windows\\\\fonts\\\\bernhc.ttf', 'C:\\\\WINDOWS\\\\Fonts\\\\YDWM05.TTF', 'C:\\\\WINDOWS\\\\Fonts\\\\ENLIBRTY.TTF', 'c:\\\\windows\\\\fonts\\\\enbodbi.ttf', 'C:\\\\WINDOWS\\\\Fonts\\\\comicbd.ttf', 'C:\\\\WINDOWS\\\\Fonts\\\\BOD_I.TTF', 'c:\\\\windows\\\\fonts\\\\hygsrb.ttf', 'C:\\\\WINDOWS\\\\Fonts\\\\ENSTEN.TTF', 'C:\\\\WINDOWS\\\\Fonts\\\\HANSomaM.ttf', 'c:\\\\windows\\\\fonts\\\\palabi.ttf', 'c:\\\\windows\\\\fonts\\\\lbritei.ttf', 'C:\\\\WINDOWS\\\\Fonts\\\\GILC____.TTF', 'C:\\\\WINDOWS\\\\Fonts\\\\ENOCRA.TTF', 'C:\\\\WINDOWS\\\\Fonts\\\\calibriz.ttf', 'c:\\\\windows\\\\fonts\\\\ysos07.ttf', 'c:\\\\windows\\\\fonts\\\\seguisb.ttf', 'C:\\\\WINDOWS\\\\Fonts\\\\HYSNRL.TTF', 'c:\\\\windows\\\\fonts\\\\bahnschrift.ttf', 'c:\\\\windows\\\\fonts\\\\erasmd.ttf', 'c:\\\\windows\\\\fonts\\\\harngton.ttf', 'C:\\\\WINDOWS\\\\Fonts\\\\PLAYBILL.TTF', 'c:\\\\windows\\\\fonts\\\\hygprm.ttf', 'c:\\\\windows\\\\fonts\\\\bod_blar.ttf', 'C:\\\\WINDOWS\\\\Fonts\\\\NIAGENG.TTF', 'C:\\\\WINDOWS\\\\Fonts\\\\YBMG05.TTF', 'c:\\\\windows\\\\fonts\\\\hansolm.ttf', 'C:\\\\WINDOWS\\\\Fonts\\\\CHILLER.TTF', 'c:\\\\windows\\\\fonts\\\\bookosbi.ttf', 'C:\\\\WINDOWS\\\\Fonts\\\\cambriai.ttf', 'C:\\\\WINDOWS\\\\Fonts\\\\ENPKAV.TTF', 'C:\\\\WINDOWS\\\\Fonts\\\\TAENMR.TTF', 'c:\\\\windows\\\\fonts\\\\lsansd.ttf', 'c:\\\\windows\\\\fonts\\\\endomca.ttf', 'c:\\\\windows\\\\fonts\\\\belli.ttf', 'C:\\\\WINDOWS\\\\Fonts\\\\HYKANM.TTF', 'C:\\\\WINDOWS\\\\Fonts\\\\ITCBLKAD.TTF', 'C:\\\\WINDOWS\\\\Fonts\\\\ENGR.TTF', 'C:\\\\WINDOWS\\\\Fonts\\\\timesbi.ttf', 'c:\\\\windows\\\\fonts\\\\simsunb.ttf', 'C:\\\\WINDOWS\\\\Fonts\\\\ENBODB.TTF', 'c:\\\\windows\\\\fonts\\\\mk.ttf', 'C:\\\\WINDOWS\\\\Fonts\\\\YSOS07.TTF', 'C:\\\\WINDOWS\\\\Fonts\\\\LATINWD.TTF', 'c:\\\\windows\\\\fonts\\\\engarmbi.ttf', 'c:\\\\windows\\\\fonts\\\\mb.ttf', 'c:\\\\windows\\\\fonts\\\\hanyheadl.ttf', 'c:\\\\windows\\\\fonts\\\\kunstler.ttf', 'c:\\\\windows\\\\fonts\\\\calistb.ttf', 'c:\\\\windows\\\\fonts\\\\ftltlt.ttf', 'c:\\\\windows\\\\fonts\\\\ybla05.ttf', 'C:\\\\WINDOWS\\\\Fonts\\\\OCRAEXT.TTF', 'c:\\\\windows\\\\fonts\\\\seguisli.ttf', 'C:\\\\WINDOWS\\\\Fonts\\\\times.ttf', 'c:\\\\windows\\\\fonts\\\\hanbatangext.ttf', 'C:\\\\WINDOWS\\\\Fonts\\\\HYHWPEQ.TTF', 'C:\\\\WINDOWS\\\\Fonts\\\\GIGI.TTF', 'C:\\\\WINDOWS\\\\Fonts\\\\mmrtext.ttf', 'C:\\\\WINDOWS\\\\Fonts\\\\BRADHITC.TTF', 'c:\\\\windows\\\\fonts\\\\hdotum.ttf', 'C:\\\\WINDOWS\\\\Fonts\\\\ARIALUNI.TTF', 'c:\\\\windows\\\\fonts\\\\latoweb-light.ttf', 'C:\\\\WINDOWS\\\\Fonts\\\\CALIFB.TTF', 'c:\\\\windows\\\\fonts\\\\htowert.ttf', 'C:\\\\WINDOWS\\\\Fonts\\\\Inkfree.ttf', 'C:\\\\WINDOWS\\\\Fonts\\\\AGENCYB.TTF', 'c:\\\\windows\\\\fonts\\\\hansomab.ttf', 'c:\\\\windows\\\\fonts\\\\hanygo250.ttf', 'c:\\\\windows\\\\fonts\\\\mn.ttf', 'c:\\\\windows\\\\fonts\\\\bellb.ttf', 'C:\\\\WINDOWS\\\\Fonts\\\\comici.ttf', 'c:\\\\windows\\\\fonts\\\\rage.ttf', 'C:\\\\WINDOWS\\\\Fonts\\\\ENCOBK.TTF', 'C:\\\\WINDOWS\\\\Fonts\\\\phagspab.ttf', 'C:\\\\WINDOWS\\\\Fonts\\\\SHOWG.TTF', 'c:\\\\windows\\\\fonts\\\\encr10bi.ttf', 'C:\\\\WINDOWS\\\\Fonts\\\\MP.TTF', 'c:\\\\windows\\\\fonts\\\\tccb____.ttf', 'c:\\\\windows\\\\fonts\\\\palscri.ttf', 'C:\\\\WINDOWS\\\\Fonts\\\\ENCOBKI.TTF', 'c:\\\\windows\\\\fonts\\\\bradhitc.ttf', 'c:\\\\windows\\\\fonts\\\\elephnt.ttf', 'C:\\\\WINDOWS\\\\Fonts\\\\HTOWERTI.TTF', 'c:\\\\windows\\\\fonts\\\\gili____.ttf', 'c:\\\\windows\\\\fonts\\\\couri.ttf', 'c:\\\\windows\\\\fonts\\\\comic.ttf', 'C:\\\\WINDOWS\\\\Fonts\\\\ENOCRB10.TTF', 'C:\\\\WINDOWS\\\\Fonts\\\\DXRMbxB-KSCpc-EUC-H.ttf', 'C:\\\\WINDOWS\\\\Fonts\\\\Gaesung.ttf', 'c:\\\\windows\\\\fonts\\\\nirmalab.ttf', 'c:\\\\windows\\\\fonts\\\\trebuc.ttf', 'c:\\\\windows\\\\fonts\\\\bod_cbi.ttf', 'C:\\\\WINDOWS\\\\Fonts\\\\ENCR10BI.TTF', 'c:\\\\windows\\\\fonts\\\\rocki.ttf', 'c:\\\\windows\\\\fonts\\\\ahn_b.ttf', 'C:\\\\WINDOWS\\\\Fonts\\\\STENCIL.TTF', 'c:\\\\windows\\\\fonts\\\\gothic.ttf', 'c:\\\\windows\\\\fonts\\\\bookosb.ttf', 'C:\\\\WINDOWS\\\\Fonts\\\\ENCSCHI.TTF', 'C:\\\\WINDOWS\\\\Fonts\\\\VINERITC.TTF', 'c:\\\\windows\\\\fonts\\\\schlbkb.ttf', 'C:\\\\WINDOWS\\\\Fonts\\\\H2GPRM.TTF', 'C:\\\\WINDOWS\\\\Fonts\\\\NIAGSOL.TTF', 'C:\\\\WINDOWS\\\\Fonts\\\\comicz.ttf', 'C:\\\\WINDOWS\\\\Fonts\\\\segoeprb.ttf', 'C:\\\\WINDOWS\\\\Fonts\\\\GILBI___.TTF', 'C:\\\\WINDOWS\\\\Fonts\\\\YTTE08.TTF', 'c:\\\\windows\\\\fonts\\\\hanygo230.ttf', 'c:\\\\windows\\\\fonts\\\\juice___.ttf', 'c:\\\\windows\\\\fonts\\\\hywulb.ttf', 'C:\\\\WINDOWS\\\\Fonts\\\\LBRITEDI.TTF', 'c:\\\\windows\\\\fonts\\\\enfreehd.ttf', 'c:\\\\windows\\\\fonts\\\\constani.ttf', 'c:\\\\windows\\\\fonts\\\\corbelz.ttf', 'C:\\\\WINDOWS\\\\Fonts\\\\HARLOWSI.TTF', 'C:\\\\WINDOWS\\\\Fonts\\\\HMKMMAG.TTF', 'c:\\\\windows\\\\fonts\\\\hysupb.ttf', 'c:\\\\windows\\\\fonts\\\\handotumext.ttf', 'C:\\\\WINDOWS\\\\Fonts\\\\HANYheadB.ttf', 'C:\\\\WINDOWS\\\\Fonts\\\\HYNAMB.TTF', 'C:\\\\WINDOWS\\\\Fonts\\\\constanz.ttf', 'C:\\\\WINDOWS\\\\Fonts\\\\HANDotumB.ttf', 'C:\\\\WINDOWS\\\\Fonts\\\\MH.TTF', 'C:\\\\WINDOWS\\\\Fonts\\\\YWDA05.TTF', 'c:\\\\windows\\\\fonts\\\\agencyb.ttf', 'c:\\\\windows\\\\fonts\\\\latoweb-bold.ttf', 'c:\\\\windows\\\\fonts\\\\enbodbki.ttf', 'C:\\\\WINDOWS\\\\Fonts\\\\OLDENGL.TTF', 'c:\\\\windows\\\\fonts\\\\poorich.ttf', 'C:\\\\WINDOWS\\\\Fonts\\\\BELLI.TTF', 'C:\\\\WINDOWS\\\\Fonts\\\\LFAX.TTF', 'C:\\\\WINDOWS\\\\Fonts\\\\palai.ttf', 'c:\\\\windows\\\\fonts\\\\yblo05.ttf', 'c:\\\\windows\\\\fonts\\\\ywda05.ttf', 'C:\\\\WINDOWS\\\\Fonts\\\\corbeli.ttf', 'C:\\\\WINDOWS\\\\Fonts\\\\MT.TTF', 'C:\\\\WINDOWS\\\\Fonts\\\\monbaiti.ttf', 'c:\\\\windows\\\\fonts\\\\pristina.ttf', 'C:\\\\WINDOWS\\\\Fonts\\\\H2GTRE.TTF', 'C:\\\\WINDOWS\\\\Fonts\\\\ROCKBI.TTF', 'c:\\\\windows\\\\fonts\\\\georgiai.ttf', 'C:\\\\WINDOWS\\\\Fonts\\\\JUICE___.TTF', 'C:\\\\WINDOWS\\\\Fonts\\\\HATTEN.TTF', 'C:\\\\WINDOWS\\\\Fonts\\\\CALISTBI.TTF', 'c:\\\\windows\\\\fonts\\\\hbatang.ttf', 'c:\\\\windows\\\\fonts\\\\constanz.ttf', 'c:\\\\windows\\\\fonts\\\\symbol.ttf', 'C:\\\\WINDOWS\\\\Fonts\\\\ALGER.TTF', 'C:\\\\WINDOWS\\\\Fonts\\\\Candara.ttf', 'c:\\\\windows\\\\fonts\\\\lcallig.ttf', 'c:\\\\windows\\\\fonts\\\\enocrb10.ttf', 'C:\\\\WINDOWS\\\\Fonts\\\\ENCSCHB.TTF', 'C:\\\\WINDOWS\\\\Fonts\\\\GARA.TTF', 'c:\\\\windows\\\\fonts\\\\vladimir.ttf', 'C:\\\\WINDOWS\\\\Fonts\\\\gadugib.ttf', 'c:\\\\windows\\\\fonts\\\\leelawui.ttf', 'C:\\\\WINDOWS\\\\Fonts\\\\ARIALNB.TTF', 'c:\\\\windows\\\\fonts\\\\offsymxl.ttf', 'C:\\\\WINDOWS\\\\Fonts\\\\arialbi.ttf', 'C:\\\\WINDOWS\\\\Fonts\\\\malgunbd.ttf', 'C:\\\\WINDOWS\\\\Fonts\\\\HYGTRE.TTF', 'c:\\\\windows\\\\fonts\\\\hmkba.ttf', 'c:\\\\windows\\\\fonts\\\\arialnbi.ttf', 'C:\\\\WINDOWS\\\\Fonts\\\\gadugi.ttf', 'C:\\\\WINDOWS\\\\Fonts\\\\constani.ttf', 'C:\\\\WINDOWS\\\\Fonts\\\\ENGDOS.TTF', 'c:\\\\windows\\\\fonts\\\\lfaxd.ttf', 'C:\\\\WINDOWS\\\\Fonts\\\\TCM_____.TTF', 'C:\\\\WINDOWS\\\\Fonts\\\\ENORAT10.TTF', 'c:\\\\windows\\\\fonts\\\\javatext.ttf', 'c:\\\\windows\\\\fonts\\\\pala.ttf', 'C:\\\\WINDOWS\\\\Fonts\\\\Easop.ttf', 'C:\\\\WINDOWS\\\\Fonts\\\\HMKBA.TTF', 'C:\\\\WINDOWS\\\\Fonts\\\\TCBI____.TTF', 'C:\\\\WINDOWS\\\\Fonts\\\\LeelaUIb.ttf', 'C:\\\\WINDOWS\\\\Fonts\\\\YDOO08.TTF', 'c:\\\\windows\\\\fonts\\\\arialbi.ttf', 'c:\\\\windows\\\\fonts\\\\candaraz.ttf', 'c:\\\\windows\\\\fonts\\\\tahomabd.ttf', 'c:\\\\windows\\\\fonts\\\\vineritc.ttf', 'c:\\\\windows\\\\fonts\\\\ynch05.ttf', 'c:\\\\windows\\\\fonts\\\\latoweb-bolditalic.ttf', 'c:\\\\windows\\\\fonts\\\\gadugib.ttf', 'c:\\\\windows\\\\fonts\\\\georgiaz.ttf', 'c:\\\\windows\\\\fonts\\\\monbaiti.ttf', 'C:\\\\WINDOWS\\\\Fonts\\\\cambriab.ttf', 'c:\\\\windows\\\\fonts\\\\seguili.ttf', 'C:\\\\WINDOWS\\\\Fonts\\\\HANSolM.ttf', 'C:\\\\WINDOWS\\\\Fonts\\\\IMPRISHA.TTF', 'c:\\\\windows\\\\fonts\\\\erasbd.ttf', 'c:\\\\windows\\\\fonts\\\\ntailub.ttf', 'C:\\\\WINDOWS\\\\Fonts\\\\LFAXD.TTF', 'C:\\\\WINDOWS\\\\Fonts\\\\HMKBP.TTF', 'C:\\\\WINDOWS\\\\Fonts\\\\ntailub.ttf', 'c:\\\\windows\\\\fonts\\\\gilsanub.ttf', 'C:\\\\WINDOWS\\\\Fonts\\\\H2HDRM.TTF', 'c:\\\\windows\\\\fonts\\\\courbi.ttf', 'C:\\\\WINDOWS\\\\Fonts\\\\OUTLOOK.TTF', 'C:\\\\WINDOWS\\\\Fonts\\\\BOD_R.TTF', 'c:\\\\windows\\\\fonts\\\\lsansi.ttf', 'c:\\\\windows\\\\fonts\\\\ydug05.ttf', 'c:\\\\windows\\\\fonts\\\\georgia.ttf', 'c:\\\\windows\\\\fonts\\\\hatten.ttf', 'C:\\\\WINDOWS\\\\Fonts\\\\HYNAML.TTF', 'c:\\\\windows\\\\fonts\\\\seguisbi.ttf', 'c:\\\\windows\\\\fonts\\\\holomdl2.ttf', 'c:\\\\windows\\\\fonts\\\\tcmi____.ttf', 'C:\\\\WINDOWS\\\\Fonts\\\\MOD20.TTF', 'C:\\\\WINDOWS\\\\Fonts\\\\TCCB____.TTF', 'c:\\\\windows\\\\fonts\\\\gara.ttf', 'C:\\\\WINDOWS\\\\Fonts\\\\ENDOMCA.TTF', 'C:\\\\WINDOWS\\\\Fonts\\\\HMKLA.TTF', 'C:\\\\WINDOWS\\\\Fonts\\\\BRLNSB.TTF', 'c:\\\\windows\\\\fonts\\\\frabk.ttf', 'c:\\\\windows\\\\fonts\\\\enitcnbk.ttf', 'C:\\\\WINDOWS\\\\Fonts\\\\HANBatangExt.ttf', 'C:\\\\WINDOWS\\\\Fonts\\\\Candarab.ttf', 'C:\\\\WINDOWS\\\\Fonts\\\\mvboli.ttf', 'C:\\\\WINDOWS\\\\Fonts\\\\verdanai.ttf', 'c:\\\\windows\\\\fonts\\\\segoeui.ttf', 'C:\\\\WINDOWS\\\\Fonts\\\\ENCSCH.TTF', 'c:\\\\windows\\\\fonts\\\\segoeuiz.ttf', 'c:\\\\windows\\\\fonts\\\\coopbl.ttf', 'C:\\\\WINDOWS\\\\Fonts\\\\wingding.ttf', 'c:\\\\windows\\\\fonts\\\\antquabi.ttf', 'c:\\\\windows\\\\fonts\\\\britanic.ttf', 'C:\\\\WINDOWS\\\\Fonts\\\\HMKMG.TTF', 'c:\\\\windows\\\\fonts\\\\coprgtb.ttf', 'C:\\\\WINDOWS\\\\Fonts\\\\HYSANB.TTF', 'c:\\\\windows\\\\fonts\\\\per_____.ttf', 'C:\\\\WINDOWS\\\\Fonts\\\\simsunb.ttf', 'c:\\\\windows\\\\fonts\\\\segoeuisl.ttf', 'c:\\\\windows\\\\fonts\\\\seguisym.ttf', 'c:\\\\windows\\\\fonts\\\\mmrtext.ttf', 'c:\\\\windows\\\\fonts\\\\consolaz.ttf', 'C:\\\\WINDOWS\\\\Fonts\\\\Sol.ttf', 'C:\\\\WINDOWS\\\\Fonts\\\\trebucbd.ttf', 'C:\\\\WINDOWS\\\\Fonts\\\\ENMUHB.TTF', 'c:\\\\windows\\\\fonts\\\\hytbrb.ttf', 'C:\\\\WINDOWS\\\\Fonts\\\\ENGARMBI.TTF', 'c:\\\\windows\\\\fonts\\\\constanb.ttf', 'c:\\\\windows\\\\fonts\\\\engdos.ttf', 'C:\\\\WINDOWS\\\\Fonts\\\\corbelb.ttf', 'c:\\\\windows\\\\fonts\\\\tcceb.ttf', 'C:\\\\WINDOWS\\\\Fonts\\\\calibrii.ttf', 'C:\\\\WINDOWS\\\\Fonts\\\\arial.ttf', 'C:\\\\WINDOWS\\\\Fonts\\\\webdings.ttf', 'c:\\\\windows\\\\fonts\\\\hanyheadm.ttf', 'c:\\\\windows\\\\fonts\\\\latoweb-lightitalic.ttf', 'C:\\\\WINDOWS\\\\Fonts\\\\BOD_BLAR.TTF', 'c:\\\\windows\\\\fonts\\\\encobk.ttf', 'c:\\\\windows\\\\fonts\\\\baskvill.ttf', 'c:\\\\windows\\\\fonts\\\\consola.ttf', 'c:\\\\windows\\\\fonts\\\\webdings.ttf', 'C:\\\\WINDOWS\\\\Fonts\\\\COPRGTL.TTF', 'C:\\\\WINDOWS\\\\Fonts\\\\TCCEB.TTF', 'c:\\\\windows\\\\fonts\\\\mj.ttf', 'C:\\\\WINDOWS\\\\Fonts\\\\MN.TTF', 'c:\\\\windows\\\\fonts\\\\goudosb.ttf', 'c:\\\\windows\\\\fonts\\\\ltypebo.ttf', 'C:\\\\WINDOWS\\\\Fonts\\\\BOOKOSB.TTF', 'C:\\\\WINDOWS\\\\Fonts\\\\PER_____.TTF', 'C:\\\\WINDOWS\\\\Fonts\\\\YINP05.TTF', 'C:\\\\WINDOWS\\\\Fonts\\\\ENBRUSH.TTF', 'c:\\\\windows\\\\fonts\\\\goudysto.ttf', 'c:\\\\windows\\\\fonts\\\\mh.ttf', 'C:\\\\WINDOWS\\\\Fonts\\\\H2GTRM.TTF', 'C:\\\\WINDOWS\\\\Fonts\\\\POORICH.TTF', 'c:\\\\windows\\\\fonts\\\\bod_i.ttf', 'c:\\\\windows\\\\fonts\\\\hymprl.ttf', 'C:\\\\WINDOWS\\\\Fonts\\\\micross.ttf', 'C:\\\\WINDOWS\\\\Fonts\\\\ROCKI.TTF', 'C:\\\\WINDOWS\\\\Fonts\\\\framd.ttf', 'C:\\\\WINDOWS\\\\Fonts\\\\mmrtextb.ttf', 'c:\\\\windows\\\\fonts\\\\dxrmbxb-kscpc-euc-h.ttf', 'c:\\\\windows\\\\fonts\\\\seguibli.ttf', 'C:\\\\WINDOWS\\\\Fonts\\\\palabi.ttf', 'c:\\\\windows\\\\fonts\\\\ntailu.ttf', 'c:\\\\windows\\\\fonts\\\\candarab.ttf', 'c:\\\\windows\\\\fonts\\\\segoeuib.ttf', 'c:\\\\windows\\\\fonts\\\\engarmb.ttf', 'c:\\\\windows\\\\fonts\\\\maian.ttf', 'C:\\\\WINDOWS\\\\Fonts\\\\HANYheadM.ttf', 'C:\\\\WINDOWS\\\\Fonts\\\\corbelz.ttf', 'C:\\\\WINDOWS\\\\Fonts\\\\HYCYSM.TTF', 'c:\\\\windows\\\\fonts\\\\h2mkpb.ttf', 'C:\\\\WINDOWS\\\\Fonts\\\\GILI____.TTF', 'c:\\\\windows\\\\fonts\\\\flat_officefontspreview.ttf', 'c:\\\\windows\\\\fonts\\\\goudos.ttf', 'C:\\\\WINDOWS\\\\Fonts\\\\PARCHM.TTF', 'c:\\\\windows\\\\fonts\\\\engr.ttf', 'c:\\\\windows\\\\fonts\\\\enbrodwy.ttf', 'c:\\\\windows\\\\fonts\\\\glecb.ttf', 'c:\\\\windows\\\\fonts\\\\hancooljazzl.ttf', 'c:\\\\windows\\\\fonts\\\\frabkit.ttf', 'c:\\\\windows\\\\fonts\\\\segoeuil.ttf', 'c:\\\\windows\\\\fonts\\\\gothicb.ttf', 'c:\\\\windows\\\\fonts\\\\hanygo240.ttf', 'c:\\\\windows\\\\fonts\\\\framdit.ttf', 'C:\\\\WINDOWS\\\\Fonts\\\\Candarai.ttf', 'C:\\\\WINDOWS\\\\Fonts\\\\Nirmala.ttf', 'c:\\\\windows\\\\fonts\\\\enlibrty.ttf', 'c:\\\\windows\\\\fonts\\\\enhobo.ttf', 'C:\\\\WINDOWS\\\\Fonts\\\\ENITCNBK.TTF', 'c:\\\\windows\\\\fonts\\\\hydnkm.ttf', 'C:\\\\WINDOWS\\\\Fonts\\\\segoeuil.ttf', 'c:\\\\windows\\\\fonts\\\\hanbaekb.ttf', 'c:\\\\windows\\\\fonts\\\\bod_r.ttf', 'c:\\\\windows\\\\fonts\\\\consolab.ttf', 'C:\\\\WINDOWS\\\\Fonts\\\\NanumGothicExtraBold.otf', 'C:\\\\WINDOWS\\\\Fonts\\\\palab.ttf', 'C:\\\\WINDOWS\\\\Fonts\\\\timesi.ttf', 'C:\\\\WINDOWS\\\\Fonts\\\\GILSANUB.TTF', 'C:\\\\WINDOWS\\\\Fonts\\\\malgunsl.ttf', 'C:\\\\WINDOWS\\\\Fonts\\\\calibrib.ttf', 'c:\\\\windows\\\\fonts\\\\century.ttf', 'C:\\\\WINDOWS\\\\Fonts\\\\ARIALNBI.TTF', 'c:\\\\windows\\\\fonts\\\\hansalem.ttf', 'C:\\\\WINDOWS\\\\Fonts\\\\calibrili.ttf', 'C:\\\\WINDOWS\\\\Fonts\\\\ENGARMI.TTF', 'c:\\\\windows\\\\fonts\\\\courbd.ttf', 'C:\\\\WINDOWS\\\\Fonts\\\\ANTQUABI.TTF', 'C:\\\\WINDOWS\\\\Fonts\\\\HYMPRL.TTF', 'C:\\\\WINDOWS\\\\Fonts\\\\HYSUPB.TTF', 'c:\\\\windows\\\\fonts\\\\malgunbd.ttf', 'c:\\\\windows\\\\fonts\\\\hykanm.ttf', 'C:\\\\WINDOWS\\\\Fonts\\\\MG.TTF', 'C:\\\\WINDOWS\\\\Fonts\\\\ENBASKVL.TTF', 'c:\\\\windows\\\\fonts\\\\wingdng2.ttf', 'c:\\\\windows\\\\fonts\\\\offsym.ttf', 'C:\\\\WINDOWS\\\\Fonts\\\\CENTURY.TTF', 'C:\\\\WINDOWS\\\\Fonts\\\\HMKLP.TTF', 'C:\\\\WINDOWS\\\\Fonts\\\\COOPBL.TTF', 'C:\\\\WINDOWS\\\\Fonts\\\\H2MJSM.TTF', 'C:\\\\WINDOWS\\\\Fonts\\\\HYDNKM.TTF', 'C:\\\\WINDOWS\\\\Fonts\\\\YNCH05.TTF', 'c:\\\\windows\\\\fonts\\\\califi.ttf', 'C:\\\\WINDOWS\\\\Fonts\\\\HYWULB.TTF', 'c:\\\\windows\\\\fonts\\\\elephnti.ttf', 'c:\\\\windows\\\\fonts\\\\censcbk.ttf', 'c:\\\\windows\\\\fonts\\\\mod20.ttf', 'c:\\\\windows\\\\fonts\\\\garait.ttf', 'C:\\\\WINDOWS\\\\Fonts\\\\GOTHICI.TTF', 'c:\\\\windows\\\\fonts\\\\pertili.ttf', 'c:\\\\windows\\\\fonts\\\\hmkmami.ttf', 'C:\\\\WINDOWS\\\\Fonts\\\\COLONNA.TTF', 'C:\\\\WINDOWS\\\\Fonts\\\\seguisym.ttf', 'C:\\\\WINDOWS\\\\Fonts\\\\PERI____.TTF', 'C:\\\\WINDOWS\\\\Fonts\\\\LHANDW.TTF', 'c:\\\\windows\\\\fonts\\\\candarai.ttf', 'c:\\\\windows\\\\fonts\\\\h2porm.ttf', 'C:\\\\WINDOWS\\\\Fonts\\\\VLADIMIR.TTF', 'c:\\\\windows\\\\fonts\\\\palai.ttf', 'c:\\\\windows\\\\fonts\\\\hmkmp.ttf', 'C:\\\\WINDOWS\\\\Fonts\\\\YGBI08.TTF', 'C:\\\\WINDOWS\\\\Fonts\\\\GARAIT.TTF', 'C:\\\\WINDOWS\\\\Fonts\\\\DUBAI-MEDIUM.TTF', 'C:\\\\WINDOWS\\\\Fonts\\\\HMKMRHD.TTF', 'C:\\\\WINDOWS\\\\Fonts\\\\ENORBITB.TTF', 'C:\\\\WINDOWS\\\\Fonts\\\\LatoWeb-LightItalic.ttf', 'c:\\\\windows\\\\fonts\\\\calistbi.ttf', 'C:\\\\WINDOWS\\\\Fonts\\\\segoeuib.ttf', 'C:\\\\WINDOWS\\\\Fonts\\\\trebuc.ttf', 'c:\\\\windows\\\\fonts\\\\hysanb.ttf', 'C:\\\\WINDOWS\\\\Fonts\\\\KUNSTLER.TTF', 'C:\\\\WINDOWS\\\\Fonts\\\\ebrimabd.ttf', 'C:\\\\WINDOWS\\\\Fonts\\\\YINJ05.TTF', 'c:\\\\windows\\\\fonts\\\\encobki.ttf', 'c:\\\\windows\\\\fonts\\\\peri____.ttf', 'c:\\\\windows\\\\fonts\\\\trebucbi.ttf', 'c:\\\\windows\\\\fonts\\\\perb____.ttf', 'C:\\\\WINDOWS\\\\Fonts\\\\LTYPE.TTF', 'C:\\\\WINDOWS\\\\Fonts\\\\symbol.ttf', 'C:\\\\WINDOWS\\\\Fonts\\\\MB.TTF', 'C:\\\\WINDOWS\\\\Fonts\\\\BRLNSDB.TTF', 'C:\\\\WINDOWS\\\\Fonts\\\\H2MJRE.TTF', 'c:\\\\windows\\\\fonts\\\\timesi.ttf', 'c:\\\\windows\\\\fonts\\\\rocc____.ttf', 'C:\\\\WINDOWS\\\\Fonts\\\\consolab.ttf', 'c:\\\\windows\\\\fonts\\\\ebrimabd.ttf', 'C:\\\\WINDOWS\\\\Fonts\\\\H2PORM.TTF', 'c:\\\\windows\\\\fonts\\\\perbi___.ttf', 'c:\\\\windows\\\\fonts\\\\antquab.ttf', 'C:\\\\WINDOWS\\\\Fonts\\\\LeelUIsl.ttf', 'c:\\\\windows\\\\fonts\\\\dubai-bold.ttf', 'C:\\\\WINDOWS\\\\Fonts\\\\FRABKIT.TTF', 'c:\\\\windows\\\\fonts\\\\scriptbl.ttf', 'C:\\\\WINDOWS\\\\Fonts\\\\ahn_b.ttf', 'C:\\\\WINDOWS\\\\Fonts\\\\MSMINCHO.TTF', 'c:\\\\windows\\\\fonts\\\\hmkmm.ttf', 'c:\\\\windows\\\\fonts\\\\brlnsb.ttf', 'c:\\\\windows\\\\fonts\\\\enmuhb.ttf', 'c:\\\\windows\\\\fonts\\\\ocraext.ttf', 'c:\\\\windows\\\\fonts\\\\gigi.ttf', 'c:\\\\windows\\\\fonts\\\\brlnsdb.ttf', 'c:\\\\windows\\\\fonts\\\\htowerti.ttf', 'c:\\\\windows\\\\fonts\\\\engdosbi.ttf', 'C:\\\\WINDOWS\\\\Fonts\\\\consolaz.ttf', 'c:\\\\windows\\\\fonts\\\\maturasc.ttf', 'c:\\\\windows\\\\fonts\\\\gilb____.ttf', 'C:\\\\WINDOWS\\\\Fonts\\\\BOD_B.TTF', 'C:\\\\WINDOWS\\\\Fonts\\\\FRADMIT.TTF', 'C:\\\\WINDOWS\\\\Fonts\\\\ROCKEB.TTF', 'C:\\\\WINDOWS\\\\Fonts\\\\OFFSYMSL.TTF', 'c:\\\\windows\\\\fonts\\\\verdanab.ttf', 'c:\\\\windows\\\\fonts\\\\ltypeb.ttf', 'C:\\\\WINDOWS\\\\Fonts\\\\ERASMD.TTF', 'C:\\\\WINDOWS\\\\Fonts\\\\OFFSYML.TTF', 'c:\\\\windows\\\\fonts\\\\enbodbk.ttf', 'C:\\\\WINDOWS\\\\Fonts\\\\HMKMA.TTF', 'C:\\\\WINDOWS\\\\Fonts\\\\LTYPEBO.TTF', 'c:\\\\windows\\\\fonts\\\\hansaleb.ttf', 'C:\\\\WINDOWS\\\\Fonts\\\\GILLUBCD.TTF', 'C:\\\\WINDOWS\\\\Fonts\\\\OFFSYMXL.TTF', 'C:\\\\WINDOWS\\\\Fonts\\\\ENFREEHD.TTF', 'C:\\\\WINDOWS\\\\Fonts\\\\timesbd.ttf', 'c:\\\\windows\\\\fonts\\\\frscript.ttf', 'C:\\\\WINDOWS\\\\Fonts\\\\georgiai.ttf', 'c:\\\\windows\\\\fonts\\\\ybuu02.ttf', 'C:\\\\WINDOWS\\\\Fonts\\\\TCMI____.TTF', 'c:\\\\windows\\\\fonts\\\\coprgtl.ttf', 'c:\\\\windows\\\\fonts\\\\segoepr.ttf', 'c:\\\\windows\\\\fonts\\\\dubai-medium.ttf', 'C:\\\\WINDOWS\\\\Fonts\\\\MAIAN.TTF', 'C:\\\\WINDOWS\\\\Fonts\\\\GARABD.TTF', 'C:\\\\WINDOWS\\\\Fonts\\\\AGENCYR.TTF', 'C:\\\\WINDOWS\\\\Fonts\\\\GLSNECB.TTF', 'c:\\\\windows\\\\fonts\\\\hymjre.ttf', 'c:\\\\windows\\\\fonts\\\\hmkbs.ttf', 'c:\\\\windows\\\\fonts\\\\hmklp.ttf', 'c:\\\\windows\\\\fonts\\\\tcbi____.ttf', 'c:\\\\windows\\\\fonts\\\\timesbd.ttf', 'C:\\\\WINDOWS\\\\Fonts\\\\FRAHV.TTF', 'c:\\\\windows\\\\fonts\\\\verdana.ttf', 'C:\\\\WINDOWS\\\\Fonts\\\\ROCCB___.TTF', 'C:\\\\WINDOWS\\\\Fonts\\\\MJ.TTF', 'C:\\\\WINDOWS\\\\Fonts\\\\BKANT.TTF', 'C:\\\\WINDOWS\\\\Fonts\\\\GOTHICB.TTF', 'C:\\\\WINDOWS\\\\Fonts\\\\BASKVILL.TTF', 'c:\\\\windows\\\\fonts\\\\mp.ttf', 'C:\\\\WINDOWS\\\\Fonts\\\\H2MKPB.TTF', 'c:\\\\windows\\\\fonts\\\\times.ttf', 'C:\\\\WINDOWS\\\\Fonts\\\\GIL_____.TTF', 'c:\\\\windows\\\\fonts\\\\calibril.ttf', 'c:\\\\windows\\\\fonts\\\\enblbk.ttf', 'c:\\\\windows\\\\fonts\\\\handotum.ttf', 'c:\\\\windows\\\\fonts\\\\ltypeo.ttf', 'c:\\\\windows\\\\fonts\\\\corbeli.ttf', 'c:\\\\windows\\\\fonts\\\\lfaxdi.ttf', 'C:\\\\WINDOWS\\\\Fonts\\\\PAPYRUS.TTF', 'c:\\\\windows\\\\fonts\\\\papyrus.ttf', 'C:\\\\WINDOWS\\\\Fonts\\\\FTLTLT.TTF', 'C:\\\\WINDOWS\\\\Fonts\\\\courbd.ttf', 'C:\\\\WINDOWS\\\\Fonts\\\\BOD_CR.TTF', 'c:\\\\windows\\\\fonts\\\\taileb.ttf', 'c:\\\\windows\\\\fonts\\\\hansolb.ttf', 'c:\\\\windows\\\\fonts\\\\hmfmold.ttf', 'C:\\\\WINDOWS\\\\Fonts\\\\HYDNKB.TTF', 'c:\\\\windows\\\\fonts\\\\bod_cr.ttf', 'c:\\\\windows\\\\fonts\\\\yinp05.ttf', 'C:\\\\WINDOWS\\\\Fonts\\\\FRSCRIPT.TTF', 'c:\\\\windows\\\\fonts\\\\corbel.ttf', 'c:\\\\windows\\\\fonts\\\\enbaskvl.ttf', 'c:\\\\windows\\\\fonts\\\\onyx.ttf', 'c:\\\\windows\\\\fonts\\\\inkfree.ttf', 'c:\\\\windows\\\\fonts\\\\playbill.ttf', 'C:\\\\WINDOWS\\\\Fonts\\\\ariblk.ttf', 'C:\\\\WINDOWS\\\\Fonts\\\\HYKANB.TTF', 'C:\\\\WINDOWS\\\\Fonts\\\\cambriaz.ttf', 'c:\\\\windows\\\\fonts\\\\lucon.ttf', 'c:\\\\windows\\\\fonts\\\\bell.ttf', 'c:\\\\windows\\\\fonts\\\\imprisha.ttf', 'C:\\\\WINDOWS\\\\Fonts\\\\calibril.ttf', 'C:\\\\WINDOWS\\\\Fonts\\\\ENBLBK.TTF', 'C:\\\\WINDOWS\\\\Fonts\\\\BOD_CB.TTF', 'C:\\\\WINDOWS\\\\Fonts\\\\TEMPSITC.TTF', 'C:\\\\WINDOWS\\\\Fonts\\\\FRAMDCN.TTF', 'C:\\\\WINDOWS\\\\Fonts\\\\BOOKOSI.TTF', 'C:\\\\WINDOWS\\\\Fonts\\\\GOUDOSI.TTF', 'C:\\\\WINDOWS\\\\Fonts\\\\LBRITED.TTF', 'C:\\\\WINDOWS\\\\Fonts\\\\ERASBD.TTF', 'c:\\\\windows\\\\fonts\\\\gil_____.ttf', 'C:\\\\WINDOWS\\\\Fonts\\\\HANBaekM.ttf', 'C:\\\\WINDOWS\\\\Fonts\\\\HANDotumExt.ttf', 'c:\\\\windows\\\\fonts\\\\seguibl.ttf', 'C:\\\\WINDOWS\\\\Fonts\\\\ROCK.TTF', 'C:\\\\WINDOWS\\\\Fonts\\\\segoeuisl.ttf', 'c:\\\\windows\\\\fonts\\\\ydwm05.ttf', 'c:\\\\windows\\\\fonts\\\\arialbd.ttf', 'C:\\\\WINDOWS\\\\Fonts\\\\BERNHC.TTF', 'C:\\\\WINDOWS\\\\Fonts\\\\ITCKRIST.TTF', 'C:\\\\WINDOWS\\\\Fonts\\\\NGULIM.TTF', 'c:\\\\windows\\\\fonts\\\\enfutubk.ttf', 'C:\\\\WINDOWS\\\\Fonts\\\\NirmalaS.ttf', 'c:\\\\windows\\\\fonts\\\\ahn_l.ttf', 'C:\\\\WINDOWS\\\\Fonts\\\\segoeui.ttf', 'c:\\\\windows\\\\fonts\\\\framdcn.ttf', 'c:\\\\windows\\\\fonts\\\\roccb___.ttf', 'C:\\\\WINDOWS\\\\Fonts\\\\LSANS.TTF', 'c:\\\\windows\\\\fonts\\\\bauhs93.ttf', 'C:\\\\WINDOWS\\\\Fonts\\\\CALISTB.TTF', 'C:\\\\WINDOWS\\\\Fonts\\\\Along.ttf', 'c:\\\\windows\\\\fonts\\\\arlrdbd.ttf', 'C:\\\\WINDOWS\\\\Fonts\\\\ONYX.TTF', 'C:\\\\WINDOWS\\\\Fonts\\\\courbi.ttf', 'C:\\\\WINDOWS\\\\Fonts\\\\ENCSCHBI.TTF', 'C:\\\\WINDOWS\\\\Fonts\\\\FREESCPT.TTF', 'C:\\\\WINDOWS\\\\Fonts\\\\taileb.ttf', 'c:\\\\windows\\\\fonts\\\\arialni.ttf', 'C:\\\\WINDOWS\\\\Fonts\\\\ROCKB.TTF', 'C:\\\\WINDOWS\\\\Fonts\\\\ntailu.ttf', 'C:\\\\WINDOWS\\\\Fonts\\\\YBLO05.TTF', 'C:\\\\WINDOWS\\\\Fonts\\\\HYGSRB.TTF', 'C:\\\\WINDOWS\\\\Fonts\\\\seguiemj.ttf', 'c:\\\\windows\\\\fonts\\\\uni_hsr.ttf', 'c:\\\\windows\\\\fonts\\\\ebrima.ttf', 'C:\\\\WINDOWS\\\\Fonts\\\\PALSCRI.TTF', 'c:\\\\windows\\\\fonts\\\\encschi.ttf', 'C:\\\\WINDOWS\\\\Fonts\\\\HYMJRE.TTF', 'c:\\\\windows\\\\fonts\\\\hynaml.ttf', 'C:\\\\WINDOWS\\\\Fonts\\\\seguili.ttf', 'c:\\\\windows\\\\fonts\\\\malgunsl.ttf', 'c:\\\\windows\\\\fonts\\\\segoesc.ttf', 'c:\\\\windows\\\\fonts\\\\engarmi.ttf', 'c:\\\\windows\\\\fonts\\\\itcedscr.ttf', 'C:\\\\WINDOWS\\\\Fonts\\\\HYNAMM.TTF', 'C:\\\\WINDOWS\\\\Fonts\\\\VIVALDII.TTF', 'C:\\\\WINDOWS\\\\Fonts\\\\YGGE05.TTF', 'c:\\\\windows\\\\fonts\\\\georgiab.ttf', 'c:\\\\windows\\\\fonts\\\\sol.ttf', 'C:\\\\WINDOWS\\\\Fonts\\\\constanb.ttf', 'C:\\\\WINDOWS\\\\Fonts\\\\GOTHICBI.TTF', 'C:\\\\WINDOWS\\\\Fonts\\\\HANYGO240.ttf', 'C:\\\\WINDOWS\\\\Fonts\\\\ARIALNI.TTF', 'c:\\\\windows\\\\fonts\\\\latoweb-regular.ttf', 'C:\\\\WINDOWS\\\\Fonts\\\\georgia.ttf', 'c:\\\\windows\\\\fonts\\\\malgun.ttf', 'c:\\\\windows\\\\fonts\\\\bookosi.ttf', 'C:\\\\WINDOWS\\\\Fonts\\\\bahnschrift.ttf', 'C:\\\\WINDOWS\\\\Fonts\\\\YDUG05.TTF', 'c:\\\\windows\\\\fonts\\\\ltype.ttf', 'C:\\\\WINDOWS\\\\Fonts\\\\ELEPHNT.TTF', 'C:\\\\WINDOWS\\\\Fonts\\\\NirmalaB.ttf', 'C:\\\\WINDOWS\\\\Fonts\\\\HANCooljazzB.ttf', 'c:\\\\windows\\\\fonts\\\\lsansdi.ttf', 'c:\\\\windows\\\\fonts\\\\mt.ttf', 'C:\\\\WINDOWS\\\\Fonts\\\\arialbd.ttf', 'C:\\\\WINDOWS\\\\Fonts\\\\ENBRODWY.TTF', 'c:\\\\windows\\\\fonts\\\\comici.ttf', 'C:\\\\WINDOWS\\\\Fonts\\\\CENTAUR.TTF', 'c:\\\\windows\\\\fonts\\\\ariali.ttf', 'C:\\\\WINDOWS\\\\Fonts\\\\FRADM.TTF', 'C:\\\\WINDOWS\\\\Fonts\\\\YSHN05.TTF', 'C:\\\\WINDOWS\\\\Fonts\\\\ENFUTUBK.TTF', 'C:\\\\WINDOWS\\\\Fonts\\\\Art.ttf', 'c:\\\\windows\\\\fonts\\\\msmincho.ttf', 'C:\\\\WINDOWS\\\\Fonts\\\\GILB____.TTF', 'c:\\\\windows\\\\fonts\\\\engdosi.ttf', 'C:\\\\WINDOWS\\\\Fonts\\\\ENCOSCPT.TTF', 'c:\\\\windows\\\\fonts\\\\hansomam.ttf', 'C:\\\\WINDOWS\\\\Fonts\\\\GLECB.TTF', 'C:\\\\WINDOWS\\\\Fonts\\\\GOUDOSB.TTF', 'C:\\\\WINDOWS\\\\Fonts\\\\HANYGO250.ttf', 'C:\\\\WINDOWS\\\\Fonts\\\\HANBatang.ttf', 'C:\\\\WINDOWS\\\\Fonts\\\\ENBODBKI.TTF', 'c:\\\\windows\\\\fonts\\\\encoscpt.ttf', 'C:\\\\WINDOWS\\\\Fonts\\\\ENGDOSB.TTF', 'c:\\\\windows\\\\fonts\\\\cour.ttf', 'c:\\\\windows\\\\fonts\\\\parchm.ttf', 'C:\\\\WINDOWS\\\\Fonts\\\\HYGPRM.TTF', 'c:\\\\windows\\\\fonts\\\\segoeuii.ttf', 'c:\\\\windows\\\\fonts\\\\segmdl2.ttf', 'c:\\\\windows\\\\fonts\\\\ens721li.ttf', 'C:\\\\WINDOWS\\\\Fonts\\\\BRLNSR.TTF', 'C:\\\\WINDOWS\\\\Fonts\\\\consolai.ttf', 'C:\\\\WINDOWS\\\\Fonts\\\\LTYPEB.TTF', 'C:\\\\WINDOWS\\\\Fonts\\\\LatoWeb-Bold.ttf', 'C:\\\\WINDOWS\\\\Fonts\\\\segoescb.ttf', 'C:\\\\WINDOWS\\\\Fonts\\\\HMKMAMI.TTF', 'c:\\\\windows\\\\fonts\\\\fradmcn.ttf', 'c:\\\\windows\\\\fonts\\\\hanbatang.ttf', 'C:\\\\WINDOWS\\\\Fonts\\\\MTCORSVA.TTF', 'c:\\\\windows\\\\fonts\\\\enorat10.ttf', 'C:\\\\WINDOWS\\\\Fonts\\\\ELEPHNTI.TTF', 'C:\\\\WINDOWS\\\\Fonts\\\\taile.ttf', 'c:\\\\windows\\\\fonts\\\\comicz.ttf', 'c:\\\\windows\\\\fonts\\\\agencyr.ttf', 'c:\\\\windows\\\\fonts\\\\handotumb.ttf', 'c:\\\\windows\\\\fonts\\\\hmkms.ttf', 'c:\\\\windows\\\\fonts\\\\yshn05.ttf', 'c:\\\\windows\\\\fonts\\\\bookos.ttf', 'c:\\\\windows\\\\fonts\\\\harlowsi.ttf', 'C:\\\\WINDOWS\\\\Fonts\\\\HDOTUM.TTF', 'c:\\\\windows\\\\fonts\\\\impact.ttf', 'c:\\\\windows\\\\fonts\\\\schlbki.ttf', 'C:\\\\WINDOWS\\\\Fonts\\\\HYSUPM.TTF', 'C:\\\\WINDOWS\\\\Fonts\\\\HMFMOLD.TTF', 'c:\\\\windows\\\\fonts\\\\ensten.ttf', 'c:\\\\windows\\\\fonts\\\\itckrist.ttf', 'c:\\\\windows\\\\fonts\\\\calisti.ttf', 'C:\\\\WINDOWS\\\\Fonts\\\\RAVIE.TTF', 'c:\\\\windows\\\\fonts\\\\hanyheadb.ttf', 'C:\\\\WINDOWS\\\\Fonts\\\\MISTRAL.TTF', 'c:\\\\windows\\\\fonts\\\\ybmg05.ttf', 'C:\\\\WINDOWS\\\\Fonts\\\\constan.ttf', 'C:\\\\WINDOWS\\\\Fonts\\\\PERBI___.TTF', 'c:\\\\windows\\\\fonts\\\\trebucit.ttf', 'c:\\\\windows\\\\fonts\\\\encr10b.ttf', 'c:\\\\windows\\\\fonts\\\\constan.ttf', 'C:\\\\WINDOWS\\\\Fonts\\\\REFSAN.TTF', 'C:\\\\WINDOWS\\\\Fonts\\\\ENBERNF.TTF', 'C:\\\\WINDOWS\\\\Fonts\\\\ITCEDSCR.TTF', 'c:\\\\windows\\\\fonts\\\\castelar.ttf', 'C:\\\\WINDOWS\\\\Fonts\\\\phagspa.ttf', 'C:\\\\WINDOWS\\\\Fonts\\\\segmdl2.ttf', 'c:\\\\windows\\\\fonts\\\\nanumgothicextrabold.otf', 'c:\\\\windows\\\\fonts\\\\colonna.ttf', 'C:\\\\WINDOWS\\\\Fonts\\\\HANCooljazzM.ttf', 'c:\\\\windows\\\\fonts\\\\taenmr.ttf', 'C:\\\\WINDOWS\\\\Fonts\\\\HANSomaB.ttf', 'C:\\\\WINDOWS\\\\Fonts\\\\javatext.ttf', 'C:\\\\WINDOWS\\\\Fonts\\\\WINGDNG3.TTF', 'c:\\\\windows\\\\fonts\\\\engarm.ttf', 'c:\\\\windows\\\\fonts\\\\ydoo08.ttf', 'c:\\\\windows\\\\fonts\\\\enocra.ttf', 'c:\\\\windows\\\\fonts\\\\latoweb-semibolditalic.ttf', 'c:\\\\windows\\\\fonts\\\\calibrili.ttf', 'C:\\\\WINDOWS\\\\Fonts\\\\HYBSRB.TTF', 'c:\\\\windows\\\\fonts\\\\gadugi.ttf', 'c:\\\\windows\\\\fonts\\\\rockeb.ttf', 'c:\\\\windows\\\\fonts\\\\h2porl.ttf', 'c:\\\\windows\\\\fonts\\\\enbernf.ttf', 'c:\\\\windows\\\\fonts\\\\hybdal.ttf', 'C:\\\\WINDOWS\\\\Fonts\\\\seguisb.ttf', 'c:\\\\windows\\\\fonts\\\\offsymb.ttf', 'C:\\\\WINDOWS\\\\Fonts\\\\ariali.ttf', 'C:\\\\WINDOWS\\\\Fonts\\\\HBATANG.TTF', 'C:\\\\WINDOWS\\\\Fonts\\\\DUBAI-LIGHT.TTF', 'C:\\\\WINDOWS\\\\Fonts\\\\trebucbi.ttf', 'C:\\\\WINDOWS\\\\Fonts\\\\SamsungIF_Rg.ttf', 'C:\\\\WINDOWS\\\\Fonts\\\\MK.TTF', 'c:\\\\windows\\\\fonts\\\\tcb_____.ttf', 'c:\\\\windows\\\\fonts\\\\bod_b.ttf', 'c:\\\\windows\\\\fonts\\\\stencil.ttf', 'c:\\\\windows\\\\fonts\\\\goudosi.ttf', 'C:\\\\WINDOWS\\\\Fonts\\\\H2GSRB.TTF', 'C:\\\\WINDOWS\\\\Fonts\\\\seguibli.ttf', 'C:\\\\WINDOWS\\\\Fonts\\\\HYTBRB.TTF', 'c:\\\\windows\\\\fonts\\\\refsan.ttf', 'C:\\\\WINDOWS\\\\Fonts\\\\YBLA05.TTF', 'c:\\\\windows\\\\fonts\\\\ariblk.ttf', 'c:\\\\windows\\\\fonts\\\\easop.ttf', 'C:\\\\WINDOWS\\\\Fonts\\\\DUBAI-BOLD.TTF', 'c:\\\\windows\\\\fonts\\\\nirmalas.ttf', 'c:\\\\windows\\\\fonts\\\\bod_ci.ttf', 'c:\\\\windows\\\\fonts\\\\erasdemi.ttf', 'c:\\\\windows\\\\fonts\\\\antquai.ttf', 'C:\\\\WINDOWS\\\\Fonts\\\\BAUHS93.TTF', 'C:\\\\WINDOWS\\\\Fonts\\\\RAGE.TTF', 'c:\\\\windows\\\\fonts\\\\fzsong_super.ttf', 'C:\\\\WINDOWS\\\\Fonts\\\\INFROMAN.TTF', 'c:\\\\windows\\\\fonts\\\\arialn.ttf', 'c:\\\\windows\\\\fonts\\\\gilbi___.ttf', 'C:\\\\WINDOWS\\\\Fonts\\\\BOD_PSTC.TTF', 'c:\\\\windows\\\\fonts\\\\harryp_.ttf', 'C:\\\\WINDOWS\\\\Fonts\\\\H2PORL.TTF', 'C:\\\\WINDOWS\\\\Fonts\\\\HANYheadL.ttf', 'C:\\\\WINDOWS\\\\Fonts\\\\LatoWeb-SemiboldItalic.ttf', 'C:\\\\WINDOWS\\\\Fonts\\\\flat_officeFontsPreview.ttf', 'c:\\\\windows\\\\fonts\\\\cambriaz.ttf', 'c:\\\\windows\\\\fonts\\\\hywulm.ttf', 'c:\\\\windows\\\\fonts\\\\felixti.ttf', 'c:\\\\windows\\\\fonts\\\\latoweb-italic.ttf', 'C:\\\\WINDOWS\\\\Fonts\\\\PERTIBD.TTF', 'c:\\\\windows\\\\fonts\\\\enbodb.ttf', 'C:\\\\WINDOWS\\\\Fonts\\\\CALISTI.TTF', 'C:\\\\WINDOWS\\\\Fonts\\\\LatoWeb-Light.ttf', 'C:\\\\WINDOWS\\\\Fonts\\\\ENGDOSBI.TTF', 'c:\\\\windows\\\\fonts\\\\gothicbi.ttf', 'c:\\\\windows\\\\fonts\\\\hmkmg.ttf', 'c:\\\\windows\\\\fonts\\\\h2hdrm.ttf', 'C:\\\\WINDOWS\\\\Fonts\\\\SCRIPTBL.TTF', 'c:\\\\windows\\\\fonts\\\\segoeprb.ttf', 'c:\\\\windows\\\\fonts\\\\verdanaz.ttf', 'c:\\\\windows\\\\fonts\\\\h2gprm.ttf', 'C:\\\\WINDOWS\\\\Fonts\\\\LTYPEO.TTF', 'c:\\\\windows\\\\fonts\\\\niagsol.ttf', 'C:\\\\WINDOWS\\\\Fonts\\\\LFAXDI.TTF', 'c:\\\\windows\\\\fonts\\\\encsch.ttf', 'c:\\\\windows\\\\fonts\\\\encschb.ttf', 'c:\\\\windows\\\\fonts\\\\califr.ttf', 'c:\\\\windows\\\\fonts\\\\frahvit.ttf', 'C:\\\\WINDOWS\\\\Fonts\\\\segoepr.ttf', 'C:\\\\WINDOWS\\\\Fonts\\\\FRADMCN.TTF', 'C:\\\\WINDOWS\\\\Fonts\\\\calibri.ttf', 'c:\\\\windows\\\\fonts\\\\ychm08.ttf', 'c:\\\\windows\\\\fonts\\\\bod_bi.ttf', 'C:\\\\WINDOWS\\\\Fonts\\\\LBRITEI.TTF', 'C:\\\\WINDOWS\\\\Fonts\\\\ahn_l.ttf', 'c:\\\\windows\\\\fonts\\\\nanumgothicbold.ttf', 'c:\\\\windows\\\\fonts\\\\latoweb-semibold.ttf', 'c:\\\\windows\\\\fonts\\\\bod_pstc.ttf', 'C:\\\\WINDOWS\\\\Fonts\\\\comic.ttf', 'C:\\\\WINDOWS\\\\Fonts\\\\segoeuii.ttf', 'C:\\\\WINDOWS\\\\Fonts\\\\LFAXI.TTF', 'C:\\\\WINDOWS\\\\Fonts\\\\HMKMOLD.TTF', 'c:\\\\windows\\\\fonts\\\\phagspab.ttf', 'c:\\\\windows\\\\fonts\\\\penhl.ttf', 'c:\\\\windows\\\\fonts\\\\hyhwpeq.ttf', 'c:\\\\windows\\\\fonts\\\\hysupm.ttf', 'c:\\\\windows\\\\fonts\\\\lfax.ttf', 'C:\\\\WINDOWS\\\\Fonts\\\\segoeuiz.ttf', 'c:\\\\windows\\\\fonts\\\\rock.ttf', 'c:\\\\windows\\\\fonts\\\\h2gtre.ttf', 'C:\\\\WINDOWS\\\\Fonts\\\\FORTE.TTF', 'C:\\\\WINDOWS\\\\Fonts\\\\FELIXTI.TTF', 'c:\\\\windows\\\\fonts\\\\himalaya.ttf', 'c:\\\\windows\\\\fonts\\\\snap____.ttf', 'c:\\\\windows\\\\fonts\\\\lfaxi.ttf', 'c:\\\\windows\\\\fonts\\\\rockbi.ttf', 'C:\\\\WINDOWS\\\\Fonts\\\\corbel.ttf', 'c:\\\\windows\\\\fonts\\\\tempsitc.ttf', 'c:\\\\windows\\\\fonts\\\\enorbitb.ttf', 'C:\\\\WINDOWS\\\\Fonts\\\\FZSong_Super.TTF', 'C:\\\\WINDOWS\\\\Fonts\\\\BOOKOSBI.TTF', 'C:\\\\WINDOWS\\\\Fonts\\\\GOTHIC.TTF', 'c:\\\\windows\\\\fonts\\\\hybdam.ttf', 'C:\\\\WINDOWS\\\\Fonts\\\\georgiaz.ttf', 'C:\\\\WINDOWS\\\\Fonts\\\\HANSaleB.ttf', 'C:\\\\WINDOWS\\\\Fonts\\\\HARRYP_.TTF', 'c:\\\\windows\\\\fonts\\\\ahn_m.ttf', 'c:\\\\windows\\\\fonts\\\\offsymsb.ttf', 'c:\\\\windows\\\\fonts\\\\lbritedi.ttf', 'C:\\\\WINDOWS\\\\Fonts\\\\framdit.ttf', 'C:\\\\WINDOWS\\\\Fonts\\\\consola.ttf', 'C:\\\\WINDOWS\\\\Fonts\\\\SCHLBKI.TTF', 'C:\\\\WINDOWS\\\\Fonts\\\\HYBDAL.TTF', 'c:\\\\windows\\\\fonts\\\\candara.ttf', 'C:\\\\WINDOWS\\\\Fonts\\\\PERB____.TTF', 'c:\\\\windows\\\\fonts\\\\gilc____.ttf', 'C:\\\\WINDOWS\\\\Fonts\\\\CENSCBK.TTF', 'c:\\\\windows\\\\fonts\\\\hygtre.ttf', 'C:\\\\WINDOWS\\\\Fonts\\\\BELL.TTF', 'C:\\\\WINDOWS\\\\Fonts\\\\ENSW721L.TTF', 'c:\\\\windows\\\\fonts\\\\cambriab.ttf', 'c:\\\\windows\\\\fonts\\\\brushsci.ttf', 'C:\\\\WINDOWS\\\\Fonts\\\\cour.ttf', 'C:\\\\WINDOWS\\\\Fonts\\\\ERASLGHT.TTF', 'C:\\\\WINDOWS\\\\Fonts\\\\himalaya.ttf', 'C:\\\\WINDOWS\\\\Fonts\\\\verdana.ttf', 'c:\\\\windows\\\\fonts\\\\art.ttf', 'c:\\\\windows\\\\fonts\\\\latinwd.ttf', 'c:\\\\windows\\\\fonts\\\\hancooljazzb.ttf', 'c:\\\\windows\\\\fonts\\\\mmrtextb.ttf', 'c:\\\\windows\\\\fonts\\\\forte.ttf', 'c:\\\\windows\\\\fonts\\\\offsyml.ttf', 'C:\\\\WINDOWS\\\\Fonts\\\\LatoWeb-Semibold.ttf', 'C:\\\\WINDOWS\\\\Fonts\\\\ahn_m.ttf', 'c:\\\\windows\\\\fonts\\\\niageng.ttf', 'C:\\\\WINDOWS\\\\Fonts\\\\marlett.ttf', 'c:\\\\windows\\\\fonts\\\\h2gsrb.ttf', 'c:\\\\windows\\\\fonts\\\\h2mjsm.ttf', 'C:\\\\WINDOWS\\\\Fonts\\\\BOOKOS.TTF', 'C:\\\\WINDOWS\\\\Fonts\\\\MATURASC.TTF', 'c:\\\\windows\\\\fonts\\\\hynamb.ttf', 'c:\\\\windows\\\\fonts\\\\encschbi.ttf', 'C:\\\\WINDOWS\\\\Fonts\\\\ENBODBI.TTF', 'C:\\\\WINDOWS\\\\Fonts\\\\malgun.ttf', 'C:\\\\WINDOWS\\\\Fonts\\\\CALIFI.TTF', 'c:\\\\windows\\\\fonts\\\\phagspa.ttf', 'c:\\\\windows\\\\fonts\\\\taile.ttf', 'C:\\\\WINDOWS\\\\Fonts\\\\CASTELAR.TTF', 'C:\\\\WINDOWS\\\\Fonts\\\\Candaraz.ttf', 'c:\\\\windows\\\\fonts\\\\fradmit.ttf', 'C:\\\\WINDOWS\\\\Fonts\\\\seguisbi.ttf', 'c:\\\\windows\\\\fonts\\\\jokerman.ttf', 'c:\\\\windows\\\\fonts\\\\fradm.ttf', 'C:\\\\WINDOWS\\\\Fonts\\\\HMKBS.TTF', 'c:\\\\windows\\\\fonts\\\\calibri.ttf', 'c:\\\\windows\\\\fonts\\\\engdosb.ttf', 'C:\\\\WINDOWS\\\\Fonts\\\\BOD_CI.TTF', 'c:\\\\windows\\\\fonts\\\\lbrite.ttf', 'c:\\\\windows\\\\fonts\\\\trebucbd.ttf', 'C:\\\\WINDOWS\\\\Fonts\\\\HMFMPYUN.TTF', 'c:\\\\windows\\\\fonts\\\\wingdng3.ttf', 'c:\\\\windows\\\\fonts\\\\ngulim.ttf', 'C:\\\\WINDOWS\\\\Fonts\\\\HMKLS.TTF', 'C:\\\\WINDOWS\\\\Fonts\\\\holomdl2.ttf', 'C:\\\\WINDOWS\\\\Fonts\\\\TCCM____.TTF', 'C:\\\\WINDOWS\\\\Fonts\\\\verdanab.ttf', 'C:\\\\WINDOWS\\\\Fonts\\\\GOUDYSTO.TTF', 'C:\\\\WINDOWS\\\\Fonts\\\\sylfaen.ttf', 'C:\\\\WINDOWS\\\\Fonts\\\\YMAE07.TTF', 'c:\\\\windows\\\\fonts\\\\ymae07.ttf', 'c:\\\\windows\\\\fonts\\\\mistral.ttf', 'C:\\\\WINDOWS\\\\Fonts\\\\ENBODBK.TTF', 'c:\\\\windows\\\\fonts\\\\bkant.ttf', 'c:\\\\windows\\\\fonts\\\\refspcl.ttf', 'c:\\\\windows\\\\fonts\\\\broadw.ttf', 'c:\\\\windows\\\\fonts\\\\glsnecb.ttf', 'C:\\\\WINDOWS\\\\Fonts\\\\ERASDEMI.TTF', 'c:\\\\windows\\\\fonts\\\\gothici.ttf', 'C:\\\\WINDOWS\\\\Fonts\\\\OFFSYMSB.TTF', 'C:\\\\WINDOWS\\\\Fonts\\\\NanumGothicBold.ttf', 'C:\\\\WINDOWS\\\\Fonts\\\\l_10646.ttf', 'C:\\\\WINDOWS\\\\Fonts\\\\MAGNETOB.TTF', 'C:\\\\WINDOWS\\\\Fonts\\\\SNAP____.TTF', 'c:\\\\windows\\\\fonts\\\\micross.ttf', 'c:\\\\windows\\\\fonts\\\\hyporm.ttf', 'C:\\\\WINDOWS\\\\Fonts\\\\tahomabd.ttf', 'C:\\\\WINDOWS\\\\Fonts\\\\lucon.ttf', 'C:\\\\WINDOWS\\\\Fonts\\\\HTOWERT.TTF', 'c:\\\\windows\\\\fonts\\\\segoescb.ttf', 'c:\\\\windows\\\\fonts\\\\hykanb.ttf', 'C:\\\\WINDOWS\\\\Fonts\\\\PERTILI.TTF', 'C:\\\\WINDOWS\\\\Fonts\\\\SamsungIF_Md.ttf', 'C:\\\\WINDOWS\\\\Fonts\\\\verdanaz.ttf', 'c:\\\\windows\\\\fonts\\\\enpkav.ttf', 'c:\\\\windows\\\\fonts\\\\hmkls.ttf', 'C:\\\\WINDOWS\\\\Fonts\\\\georgiab.ttf', 'C:\\\\WINDOWS\\\\Fonts\\\\ENGDOSI.TTF', 'C:\\\\WINDOWS\\\\Fonts\\\\segoesc.ttf', 'c:\\\\windows\\\\fonts\\\\hanbatangb.ttf', 'c:\\\\windows\\\\fonts\\\\h2gtrm.ttf', 'c:\\\\windows\\\\fonts\\\\vivaldii.ttf', 'c:\\\\windows\\\\fonts\\\\curlz___.ttf', 'C:\\\\WINDOWS\\\\Fonts\\\\ANTQUAB.TTF', 'c:\\\\windows\\\\fonts\\\\garabd.ttf', 'c:\\\\windows\\\\fonts\\\\corbelb.ttf', 'C:\\\\WINDOWS\\\\Fonts\\\\SCHLBKB.TTF', 'c:\\\\windows\\\\fonts\\\\ytte08.ttf', 'c:\\\\windows\\\\fonts\\\\leeluisl.ttf', 'c:\\\\windows\\\\fonts\\\\gabriola.ttf', 'C:\\\\WINDOWS\\\\Fonts\\\\msyi.ttf', 'C:\\\\WINDOWS\\\\Fonts\\\\trebucit.ttf', 'C:\\\\WINDOWS\\\\Fonts\\\\LCALLIG.TTF', 'c:\\\\windows\\\\fonts\\\\calist.ttf', 'c:\\\\windows\\\\fonts\\\\comicbd.ttf', 'c:\\\\windows\\\\fonts\\\\h2sa1m.ttf', 'c:\\\\windows\\\\fonts\\\\dubai-light.ttf', 'c:\\\\windows\\\\fonts\\\\h2mjre.ttf', 'C:\\\\WINDOWS\\\\Fonts\\\\seguibl.ttf', 'C:\\\\WINDOWS\\\\Fonts\\\\WINGDNG2.TTF', 'C:\\\\WINDOWS\\\\Fonts\\\\BELLB.TTF', 'C:\\\\WINDOWS\\\\Fonts\\\\BOD_BLAI.TTF', 'C:\\\\WINDOWS\\\\Fonts\\\\PENHL.TTF', 'C:\\\\WINDOWS\\\\Fonts\\\\FRABK.TTF', 'C:\\\\WINDOWS\\\\Fonts\\\\BRITANIC.TTF', 'c:\\\\windows\\\\fonts\\\\hanbaekm.ttf', 'c:\\\\windows\\\\fonts\\\\bod_cb.ttf', 'c:\\\\windows\\\\fonts\\\\cambriai.ttf', 'c:\\\\windows\\\\fonts\\\\bod_blai.ttf', 'C:\\\\WINDOWS\\\\Fonts\\\\LatoWeb-Regular.ttf', 'c:\\\\windows\\\\fonts\\\\arialuni.ttf', 'c:\\\\windows\\\\fonts\\\\schlbkbi.ttf', 'C:\\\\WINDOWS\\\\Fonts\\\\CALIST.TTF', 'C:\\\\WINDOWS\\\\Fonts\\\\ARIALN.TTF', 'c:\\\\windows\\\\fonts\\\\mg.ttf', 'C:\\\\WINDOWS\\\\Fonts\\\\YCHM08.TTF', 'c:\\\\windows\\\\fonts\\\\bssym7.ttf', 'C:\\\\WINDOWS\\\\Fonts\\\\impact.ttf', 'C:\\\\WINDOWS\\\\Fonts\\\\LSANSI.TTF', 'c:\\\\windows\\\\fonts\\\\mvboli.ttf', 'C:\\\\WINDOWS\\\\Fonts\\\\H2SA1M.TTF', 'C:\\\\WINDOWS\\\\Fonts\\\\BROADW.TTF', 'c:\\\\windows\\\\fonts\\\\hmkla.ttf', 'C:\\\\WINDOWS\\\\Fonts\\\\LSANSD.TTF', 'C:\\\\WINDOWS\\\\Fonts\\\\MM.TTF', 'C:\\\\WINDOWS\\\\Fonts\\\\seguihis.ttf', 'c:\\\\windows\\\\fonts\\\\hycysm.ttf', 'c:\\\\windows\\\\fonts\\\\ygge05.ttf', 'C:\\\\WINDOWS\\\\Fonts\\\\pala.ttf', 'c:\\\\windows\\\\fonts\\\\chiller.ttf', 'C:\\\\WINDOWS\\\\Fonts\\\\BRUSHSCI.TTF', 'c:\\\\windows\\\\fonts\\\\hysnrl.ttf', 'C:\\\\WINDOWS\\\\Fonts\\\\CURLZ___.TTF', 'C:\\\\WINDOWS\\\\Fonts\\\\HANDotum.ttf', 'c:\\\\windows\\\\fonts\\\\hmkbp.ttf', 'c:\\\\windows\\\\fonts\\\\ensw721l.ttf', 'c:\\\\windows\\\\fonts\\\\ygbi08.ttf', 'C:\\\\WINDOWS\\\\Fonts\\\\HARNGTON.TTF', 'C:\\\\WINDOWS\\\\Fonts\\\\HYPORM.TTF', 'c:\\\\windows\\\\fonts\\\\l_10646.ttf', 'c:\\\\windows\\\\fonts\\\\magnetob.ttf', 'c:\\\\windows\\\\fonts\\\\frahv.ttf', 'c:\\\\windows\\\\fonts\\\\consolai.ttf', 'C:\\\\WINDOWS\\\\Fonts\\\\LSANSDI.TTF', 'C:\\\\WINDOWS\\\\Fonts\\\\OFFSYMB.TTF', 'c:\\\\windows\\\\fonts\\\\arial.ttf', 'C:\\\\WINDOWS\\\\Fonts\\\\ebrima.ttf', 'C:\\\\WINDOWS\\\\Fonts\\\\tahoma.ttf', 'C:\\\\WINDOWS\\\\Fonts\\\\ARLRDBD.TTF', 'C:\\\\WINDOWS\\\\Fonts\\\\LatoWeb-Italic.ttf', 'C:\\\\WINDOWS\\\\Fonts\\\\couri.ttf', 'c:\\\\windows\\\\fonts\\\\freescpt.ttf', 'C:\\\\WINDOWS\\\\Fonts\\\\HANBaekB.ttf', 'C:\\\\WINDOWS\\\\Fonts\\\\HANSaleM.ttf', 'C:\\\\WINDOWS\\\\Fonts\\\\LBRITE.TTF', 'c:\\\\windows\\\\fonts\\\\verdanai.ttf', 'c:\\\\windows\\\\fonts\\\\hmkma.ttf', 'C:\\\\WINDOWS\\\\Fonts\\\\ENHOBO.TTF', 'C:\\\\WINDOWS\\\\Fonts\\\\HMKMP.TTF', 'C:\\\\WINDOWS\\\\Fonts\\\\HYWULM.TTF', 'c:\\\\windows\\\\fonts\\\\itcblkad.ttf', 'c:\\\\windows\\\\fonts\\\\hmkmold.ttf', 'c:\\\\windows\\\\fonts\\\\califb.ttf']\n"
     ]
    }
   ],
   "source": [
    "import matplotlib as mpl\n",
    "import matplotlib.font_manager as fm\n",
    "\n",
    "print ('버전: ', mpl.__version__)\n",
    "print ('설치 위치: ', mpl.__file__)\n",
    "print ('설정 위치: ', mpl.get_configdir())\n",
    "print ('캐시 위치: ', mpl.get_cachedir())\n",
    "fp = 'Python/Anaconda3/lib/site-packages/matplotlib/mpl-data/matplotlibrc' + mpl.matplotlib_fname()\n",
    "font_list = fm.findSystemFonts(fontpaths=None, fontext='ttf')\n",
    "print (font_list)"
   ]
  },
  {
   "cell_type": "code",
   "execution_count": 217,
   "metadata": {
    "colab": {
     "autoexec": {
      "startup": false,
      "wait_interval": 0
     }
    },
    "colab_type": "code",
    "id": "hOdI7ksoq-Ou"
   },
   "outputs": [
    {
     "name": "stderr",
     "output_type": "stream",
     "text": [
      "C:\\Python\\Anaconda3\\lib\\site-packages\\matplotlib\\font_manager.py:1297: UserWarning: findfont: Font family ['Nanum Gothic Extra Bold'] not found. Falling back to DejaVu Sans\n",
      "  (prop.get_family(), self.defaultFamily[fontext]))\n"
     ]
    },
    {
     "data": {
      "image/png": "[encoded data removed]",
      "text/plain": [
       "<matplotlib.figure.Figure at 0x1bde0ad7c18>"
      ]
     },
     "metadata": {},
     "output_type": "display_data"
    }
   ],
   "source": [
    "df_king['life'].plot(kind='bar')\n",
    "plt.rcParams[\"font.family\"] = \"Nanum Gothic Extra Bold\" # 안돼잖아\n",
    "plt.show()"
   ]
  },
  {
   "cell_type": "code",
   "execution_count": 218,
   "metadata": {
    "colab": {
     "autoexec": {
      "startup": false,
      "wait_interval": 0
     }
    },
    "colab_type": "code",
    "id": "HyLFCNoLpxtS"
   },
   "outputs": [
    {
     "name": "stderr",
     "output_type": "stream",
     "text": [
      "C:\\Python\\Anaconda3\\lib\\site-packages\\matplotlib\\font_manager.py:1297: UserWarning: findfont: Font family ['Nanum Gothic Extra Bold'] not found. Falling back to DejaVu Sans\n",
      "  (prop.get_family(), self.defaultFamily[fontext]))\n"
     ]
    },
    {
     "data": {
      "image/png": "[encoded data removed]",
      "text/plain": [
       "<matplotlib.figure.Figure at 0x1bde0ab6320>"
      ]
     },
     "metadata": {},
     "output_type": "display_data"
    }
   ],
   "source": [
    "df_king['life'].hist()\n",
    "plt.show()"
   ]
  },
  {
   "cell_type": "code",
   "execution_count": 219,
   "metadata": {
    "colab": {
     "autoexec": {
      "startup": false,
      "wait_interval": 0
     }
    },
    "colab_type": "code",
    "id": "jRsfMFhyqlmp"
   },
   "outputs": [
    {
     "name": "stderr",
     "output_type": "stream",
     "text": [
      "C:\\Python\\Anaconda3\\lib\\site-packages\\matplotlib\\font_manager.py:1297: UserWarning: findfont: Font family ['Nanum Gothic Extra Bold'] not found. Falling back to DejaVu Sans\n",
      "  (prop.get_family(), self.defaultFamily[fontext]))\n"
     ]
    },
    {
     "data": {
      "image/png": "[encoded data removed]",
      "text/plain": [
       "<matplotlib.figure.Figure at 0x1bde0867860>"
      ]
     },
     "metadata": {},
     "output_type": "display_data"
    }
   ],
   "source": [
    "df_king['period'].hist(stacked=True, bins=10)\n",
    "plt.show()"
   ]
  },
  {
   "cell_type": "markdown",
   "metadata": {
    "colab_type": "text",
    "id": "vJukxr-7X7Ky"
   },
   "source": [
    "# 화장지 불량률"
   ]
  },
  {
   "cell_type": "code",
   "execution_count": 105,
   "metadata": {
    "colab": {
     "autoexec": {
      "startup": false,
      "wait_interval": 0
     }
    },
    "colab_type": "code",
    "id": "MS73LcoFX0fV"
   },
   "outputs": [
    {
     "data": {
      "text/html": [
       "<div>\n",
       "<style scoped>\n",
       "    .dataframe tbody tr th:only-of-type {\n",
       "        vertical-align: middle;\n",
       "    }\n",
       "\n",
       "    .dataframe tbody tr th {\n",
       "        vertical-align: top;\n",
       "    }\n",
       "\n",
       "    .dataframe thead th {\n",
       "        text-align: right;\n",
       "    }\n",
       "</style>\n",
       "<table border=\"1\" class=\"dataframe\">\n",
       "  <thead>\n",
       "    <tr style=\"text-align: right;\">\n",
       "      <th></th>\n",
       "      <th>화장지 불량 종류</th>\n",
       "    </tr>\n",
       "  </thead>\n",
       "  <tbody>\n",
       "    <tr>\n",
       "      <th>0</th>\n",
       "      <td>크기 불량</td>\n",
       "    </tr>\n",
       "    <tr>\n",
       "      <th>1</th>\n",
       "      <td>찢어짐</td>\n",
       "    </tr>\n",
       "    <tr>\n",
       "      <th>2</th>\n",
       "      <td>구멍뚫림</td>\n",
       "    </tr>\n",
       "    <tr>\n",
       "      <th>3</th>\n",
       "      <td>찢어짐</td>\n",
       "    </tr>\n",
       "    <tr>\n",
       "      <th>4</th>\n",
       "      <td>잘못접혀짐</td>\n",
       "    </tr>\n",
       "  </tbody>\n",
       "</table>\n",
       "</div>"
      ],
      "text/plain": [
       "  화장지 불량 종류\n",
       "0     크기 불량\n",
       "1       찢어짐\n",
       "2      구멍뚫림\n",
       "3       찢어짐\n",
       "4     잘못접혀짐"
      ]
     },
     "execution_count": 105,
     "metadata": {},
     "output_type": "execute_result"
    }
   ],
   "source": [
    "df_tp = get_df('화장지 불량률').reset_index(level=0)\n",
    "df_tp.head()"
   ]
  },
  {
   "cell_type": "code",
   "execution_count": 128,
   "metadata": {
    "colab": {
     "autoexec": {
      "startup": false,
      "wait_interval": 0
     }
    },
    "colab_type": "code",
    "id": "Xz8jaA0UX0Se"
   },
   "outputs": [
    {
     "name": "stderr",
     "output_type": "stream",
     "text": [
      "C:\\Python\\Anaconda3\\lib\\site-packages\\seaborn\\categorical.py:1428: FutureWarning: remove_na is deprecated and is a private function. Do not use.\n",
      "  stat_data = remove_na(group_data)\n",
      "C:\\Python\\Anaconda3\\lib\\site-packages\\matplotlib\\font_manager.py:1297: UserWarning: findfont: Font family ['Nanum Brush Script OTF'] not found. Falling back to DejaVu Sans\n",
      "  (prop.get_family(), self.defaultFamily[fontext]))\n"
     ]
    },
    {
     "data": {
      "image/png": "[encoded data removed]",
      "text/plain": [
       "<matplotlib.figure.Figure at 0x1bde0af4c18>"
      ]
     },
     "metadata": {},
     "output_type": "display_data"
    }
   ],
   "source": [
    "# df_tp_count = df_tp['화장지 불량 종류'].value_counts()\n",
    "\n",
    "sns.countplot(data=df_tp, x = \"화장지 불량 종류\")\n",
    "plt.show()"
   ]
  },
  {
   "cell_type": "markdown",
   "metadata": {
    "colab_type": "text",
    "id": "3fqgSVz6TzIM"
   },
   "source": [
    "# GNP"
   ]
  },
  {
   "cell_type": "code",
   "execution_count": 220,
   "metadata": {
    "colab": {
     "autoexec": {
      "startup": false,
      "wait_interval": 0
     }
    },
    "colab_type": "code",
    "id": "jXeZO3p4T83S"
   },
   "outputs": [
    {
     "data": {
      "text/html": [
       "<div>\n",
       "<style scoped>\n",
       "    .dataframe tbody tr th:only-of-type {\n",
       "        vertical-align: middle;\n",
       "    }\n",
       "\n",
       "    .dataframe tbody tr th {\n",
       "        vertical-align: top;\n",
       "    }\n",
       "\n",
       "    .dataframe thead th {\n",
       "        text-align: right;\n",
       "    }\n",
       "</style>\n",
       "<table border=\"1\" class=\"dataframe\">\n",
       "  <thead>\n",
       "    <tr style=\"text-align: right;\">\n",
       "      <th></th>\n",
       "      <th>국가</th>\n",
       "      <th>GNP대비 교육비 지출 비율</th>\n",
       "    </tr>\n",
       "  </thead>\n",
       "  <tbody>\n",
       "    <tr>\n",
       "      <th>0</th>\n",
       "      <td>한국</td>\n",
       "      <td>4.4</td>\n",
       "    </tr>\n",
       "    <tr>\n",
       "      <th>1</th>\n",
       "      <td>일본</td>\n",
       "      <td>4.0</td>\n",
       "    </tr>\n",
       "    <tr>\n",
       "      <th>2</th>\n",
       "      <td>미국</td>\n",
       "      <td>5.3</td>\n",
       "    </tr>\n",
       "    <tr>\n",
       "      <th>3</th>\n",
       "      <td>타이완</td>\n",
       "      <td>5.7</td>\n",
       "    </tr>\n",
       "    <tr>\n",
       "      <th>4</th>\n",
       "      <td>캐나다</td>\n",
       "      <td>7.6</td>\n",
       "    </tr>\n",
       "  </tbody>\n",
       "</table>\n",
       "</div>"
      ],
      "text/plain": [
       "    국가  GNP대비 교육비 지출 비율\n",
       "0   한국              4.4\n",
       "1   일본              4.0\n",
       "2   미국              5.3\n",
       "3  타이완              5.7\n",
       "4  캐나다              7.6"
      ]
     },
     "execution_count": 220,
     "metadata": {},
     "output_type": "execute_result"
    }
   ],
   "source": [
    "df_gnp = get_df('GNP')\n",
    "df_gnp.head()"
   ]
  },
  {
   "cell_type": "markdown",
   "metadata": {
    "colab_type": "text",
    "id": "SW_Utig3T9n2"
   },
   "source": [
    "# 집 값"
   ]
  },
  {
   "cell_type": "code",
   "execution_count": 221,
   "metadata": {
    "colab": {
     "autoexec": {
      "startup": false,
      "wait_interval": 0
     }
    },
    "colab_type": "code",
    "id": "GCdy2vBzUIAL"
   },
   "outputs": [
    {
     "data": {
      "text/html": [
       "<div>\n",
       "<style scoped>\n",
       "    .dataframe tbody tr th:only-of-type {\n",
       "        vertical-align: middle;\n",
       "    }\n",
       "\n",
       "    .dataframe tbody tr th {\n",
       "        vertical-align: top;\n",
       "    }\n",
       "\n",
       "    .dataframe thead th {\n",
       "        text-align: right;\n",
       "    }\n",
       "</style>\n",
       "<table border=\"1\" class=\"dataframe\">\n",
       "  <thead>\n",
       "    <tr style=\"text-align: right;\">\n",
       "      <th></th>\n",
       "      <th>도심&amp;외각</th>\n",
       "      <th>주택가격</th>\n",
       "    </tr>\n",
       "  </thead>\n",
       "  <tbody>\n",
       "    <tr>\n",
       "      <th>0</th>\n",
       "      <td>outer</td>\n",
       "      <td>24.0</td>\n",
       "    </tr>\n",
       "    <tr>\n",
       "      <th>1</th>\n",
       "      <td>outer</td>\n",
       "      <td>21.6</td>\n",
       "    </tr>\n",
       "    <tr>\n",
       "      <th>2</th>\n",
       "      <td>outer</td>\n",
       "      <td>34.7</td>\n",
       "    </tr>\n",
       "    <tr>\n",
       "      <th>3</th>\n",
       "      <td>outer</td>\n",
       "      <td>33.4</td>\n",
       "    </tr>\n",
       "    <tr>\n",
       "      <th>4</th>\n",
       "      <td>outer</td>\n",
       "      <td>36.2</td>\n",
       "    </tr>\n",
       "  </tbody>\n",
       "</table>\n",
       "</div>"
      ],
      "text/plain": [
       "   도심&외각  주택가격\n",
       "0  outer  24.0\n",
       "1  outer  21.6\n",
       "2  outer  34.7\n",
       "3  outer  33.4\n",
       "4  outer  36.2"
      ]
     },
     "execution_count": 221,
     "metadata": {},
     "output_type": "execute_result"
    }
   ],
   "source": [
    "df_hp = get_df('집 값')\n",
    "df_hp.head()"
   ]
  },
  {
   "cell_type": "markdown",
   "metadata": {
    "colab_type": "text",
    "id": "MZzdNlWEUCE_"
   },
   "source": [
    "# 포유류"
   ]
  },
  {
   "cell_type": "code",
   "execution_count": 222,
   "metadata": {
    "colab": {
     "autoexec": {
      "startup": false,
      "wait_interval": 0
     }
    },
    "colab_type": "code",
    "id": "nIi_Bo7SUHHl"
   },
   "outputs": [
    {
     "data": {
      "text/html": [
       "<div>\n",
       "<style scoped>\n",
       "    .dataframe tbody tr th:only-of-type {\n",
       "        vertical-align: middle;\n",
       "    }\n",
       "\n",
       "    .dataframe tbody tr th {\n",
       "        vertical-align: top;\n",
       "    }\n",
       "\n",
       "    .dataframe thead th {\n",
       "        text-align: right;\n",
       "    }\n",
       "</style>\n",
       "<table border=\"1\" class=\"dataframe\">\n",
       "  <thead>\n",
       "    <tr style=\"text-align: right;\">\n",
       "      <th></th>\n",
       "      <th>몸무게</th>\n",
       "      <th>뇌무게</th>\n",
       "    </tr>\n",
       "  </thead>\n",
       "  <tbody>\n",
       "    <tr>\n",
       "      <th>0</th>\n",
       "      <td>3.385</td>\n",
       "      <td>44.5</td>\n",
       "    </tr>\n",
       "    <tr>\n",
       "      <th>1</th>\n",
       "      <td>0.480</td>\n",
       "      <td>15.5</td>\n",
       "    </tr>\n",
       "    <tr>\n",
       "      <th>2</th>\n",
       "      <td>1.350</td>\n",
       "      <td>8.1</td>\n",
       "    </tr>\n",
       "    <tr>\n",
       "      <th>3</th>\n",
       "      <td>465.000</td>\n",
       "      <td>423.0</td>\n",
       "    </tr>\n",
       "    <tr>\n",
       "      <th>4</th>\n",
       "      <td>36.330</td>\n",
       "      <td>119.5</td>\n",
       "    </tr>\n",
       "  </tbody>\n",
       "</table>\n",
       "</div>"
      ],
      "text/plain": [
       "       몸무게    뇌무게\n",
       "0    3.385   44.5\n",
       "1    0.480   15.5\n",
       "2    1.350    8.1\n",
       "3  465.000  423.0\n",
       "4   36.330  119.5"
      ]
     },
     "execution_count": 222,
     "metadata": {},
     "output_type": "execute_result"
    }
   ],
   "source": [
    "df_mam = get_df('포유류')\n",
    "df_mam.head()"
   ]
  },
  {
   "cell_type": "markdown",
   "metadata": {
    "colab_type": "text",
    "id": "VuBj0N6wpyox"
   },
   "source": [
    "# 타이타닉"
   ]
  },
  {
   "cell_type": "code",
   "execution_count": 223,
   "metadata": {
    "colab": {
     "autoexec": {
      "startup": false,
      "wait_interval": 0
     }
    },
    "colab_type": "code",
    "id": "AIleTOPdlKra"
   },
   "outputs": [
    {
     "name": "stdout",
     "output_type": "stream",
     "text": [
      "(101, 2)\n"
     ]
    },
    {
     "data": {
      "text/html": [
       "<div>\n",
       "<style scoped>\n",
       "    .dataframe tbody tr th:only-of-type {\n",
       "        vertical-align: middle;\n",
       "    }\n",
       "\n",
       "    .dataframe tbody tr th {\n",
       "        vertical-align: top;\n",
       "    }\n",
       "\n",
       "    .dataframe thead th {\n",
       "        text-align: right;\n",
       "    }\n",
       "</style>\n",
       "<table border=\"1\" class=\"dataframe\">\n",
       "  <thead>\n",
       "    <tr style=\"text-align: right;\">\n",
       "      <th></th>\n",
       "      <th>Class</th>\n",
       "      <th>생존여부</th>\n",
       "    </tr>\n",
       "  </thead>\n",
       "  <tbody>\n",
       "    <tr>\n",
       "      <th>0</th>\n",
       "      <td>crew</td>\n",
       "      <td>no</td>\n",
       "    </tr>\n",
       "    <tr>\n",
       "      <th>1</th>\n",
       "      <td>3등급</td>\n",
       "      <td>no</td>\n",
       "    </tr>\n",
       "    <tr>\n",
       "      <th>2</th>\n",
       "      <td>crew</td>\n",
       "      <td>no</td>\n",
       "    </tr>\n",
       "    <tr>\n",
       "      <th>3</th>\n",
       "      <td>crew</td>\n",
       "      <td>no</td>\n",
       "    </tr>\n",
       "    <tr>\n",
       "      <th>4</th>\n",
       "      <td>1등급</td>\n",
       "      <td>yes</td>\n",
       "    </tr>\n",
       "  </tbody>\n",
       "</table>\n",
       "</div>"
      ],
      "text/plain": [
       "  Class 생존여부\n",
       "0  crew   no\n",
       "1   3등급   no\n",
       "2  crew   no\n",
       "3  crew   no\n",
       "4   1등급  yes"
      ]
     },
     "execution_count": 223,
     "metadata": {},
     "output_type": "execute_result"
    }
   ],
   "source": [
    "df_titanic = get_df('타이타닉')\n",
    "print(df_titanic.shape)\n",
    "# 상위 5개의 데이터를 가져옵니다.\n",
    "df_titanic.head()"
   ]
  },
  {
   "cell_type": "code",
   "execution_count": 224,
   "metadata": {
    "colab": {
     "autoexec": {
      "startup": false,
      "wait_interval": 0
     }
    },
    "colab_type": "code",
    "id": "YKKFIPGQZ1Tt"
   },
   "outputs": [
    {
     "data": {
      "text/plain": [
       "Index(['Class', '생존여부'], dtype='object')"
      ]
     },
     "execution_count": 224,
     "metadata": {},
     "output_type": "execute_result"
    }
   ],
   "source": [
    "# 어떤 컬럼이 있는지 보여줍니다.\n",
    "df_titanic.columns"
   ]
  },
  {
   "cell_type": "code",
   "execution_count": 225,
   "metadata": {
    "colab": {
     "autoexec": {
      "startup": false,
      "wait_interval": 0
     }
    },
    "colab_type": "code",
    "id": "AZa4ciw4l33E"
   },
   "outputs": [
    {
     "name": "stdout",
     "output_type": "stream",
     "text": [
      "<class 'pandas.core.frame.DataFrame'>\n",
      "RangeIndex: 101 entries, 0 to 100\n",
      "Data columns (total 2 columns):\n",
      "Class    101 non-null object\n",
      "생존여부     101 non-null object\n",
      "dtypes: object(2)\n",
      "memory usage: 1.7+ KB\n"
     ]
    }
   ],
   "source": [
    "# 컬럼 정보를 보여줍니다.\n",
    "df_titanic.info()"
   ]
  },
  {
   "cell_type": "code",
   "execution_count": 226,
   "metadata": {
    "colab": {
     "autoexec": {
      "startup": false,
      "wait_interval": 0
     }
    },
    "colab_type": "code",
    "id": "S-QZdW8Hl4Tf"
   },
   "outputs": [
    {
     "data": {
      "text/html": [
       "<div>\n",
       "<style scoped>\n",
       "    .dataframe tbody tr th:only-of-type {\n",
       "        vertical-align: middle;\n",
       "    }\n",
       "\n",
       "    .dataframe tbody tr th {\n",
       "        vertical-align: top;\n",
       "    }\n",
       "\n",
       "    .dataframe thead th {\n",
       "        text-align: right;\n",
       "    }\n",
       "</style>\n",
       "<table border=\"1\" class=\"dataframe\">\n",
       "  <thead>\n",
       "    <tr style=\"text-align: right;\">\n",
       "      <th></th>\n",
       "      <th>Class</th>\n",
       "      <th>생존여부</th>\n",
       "    </tr>\n",
       "  </thead>\n",
       "  <tbody>\n",
       "    <tr>\n",
       "      <th>count</th>\n",
       "      <td>101</td>\n",
       "      <td>101</td>\n",
       "    </tr>\n",
       "    <tr>\n",
       "      <th>unique</th>\n",
       "      <td>4</td>\n",
       "      <td>2</td>\n",
       "    </tr>\n",
       "    <tr>\n",
       "      <th>top</th>\n",
       "      <td>crew</td>\n",
       "      <td>no</td>\n",
       "    </tr>\n",
       "    <tr>\n",
       "      <th>freq</th>\n",
       "      <td>36</td>\n",
       "      <td>54</td>\n",
       "    </tr>\n",
       "  </tbody>\n",
       "</table>\n",
       "</div>"
      ],
      "text/plain": [
       "       Class 생존여부\n",
       "count    101  101\n",
       "unique     4    2\n",
       "top     crew   no\n",
       "freq      36   54"
      ]
     },
     "execution_count": 226,
     "metadata": {},
     "output_type": "execute_result"
    }
   ],
   "source": [
    "# 자료의 요약을 보여줍니다.\n",
    "df_titanic.describe()"
   ]
  },
  {
   "cell_type": "code",
   "execution_count": 227,
   "metadata": {
    "colab": {
     "autoexec": {
      "startup": false,
      "wait_interval": 0
     }
    },
    "colab_type": "code",
    "id": "ql9I3BkkL23U"
   },
   "outputs": [
    {
     "data": {
      "text/plain": [
       "crew    36\n",
       "3등급     33\n",
       "2등급     19\n",
       "1등급     13\n",
       "Name: Class, dtype: int64"
      ]
     },
     "execution_count": 227,
     "metadata": {},
     "output_type": "execute_result"
    }
   ],
   "source": [
    "df_titanic['Class'].value_counts()"
   ]
  },
  {
   "cell_type": "code",
   "execution_count": 228,
   "metadata": {
    "colab": {
     "autoexec": {
      "startup": false,
      "wait_interval": 0
     }
    },
    "colab_type": "code",
    "id": "-EZ59H4PZNGT"
   },
   "outputs": [
    {
     "data": {
      "text/plain": [
       "no     54\n",
       "yes    47\n",
       "Name: 생존여부, dtype: int64"
      ]
     },
     "execution_count": 228,
     "metadata": {},
     "output_type": "execute_result"
    }
   ],
   "source": [
    "df_titanic['생존여부'].value_counts()"
   ]
  },
  {
   "cell_type": "code",
   "execution_count": 0,
   "metadata": {
    "colab": {
     "autoexec": {
      "startup": false,
      "wait_interval": 0
     }
    },
    "colab_type": "code",
    "collapsed": true,
    "id": "waACbeuNaAXU"
   },
   "outputs": [],
   "source": []
  },
  {
   "cell_type": "code",
   "execution_count": 0,
   "metadata": {
    "colab": {
     "autoexec": {
      "startup": false,
      "wait_interval": 0
     }
    },
    "colab_type": "code",
    "collapsed": true,
    "id": "KzQDLGPnUDV8"
   },
   "outputs": [],
   "source": []
  }
 ],
 "metadata": {
  "colab": {
   "collapsed_sections": [],
   "default_view": {},
   "name": "TIL_20180713.ipynb",
   "provenance": [
    {
     "file_id": "1OQicO0LwnrXl4nR28rY-9liRmJNA78tI",
     "timestamp": 1531445386822
    },
    {
     "file_id": "1-pkHko3PvG4rxUbupr-vAaOhVYAVSTIp",
     "timestamp": 1531235260405
    }
   ],
   "version": "0.3.2",
   "views": {}
  },
  "kernelspec": {
   "display_name": "Python 3",
   "language": "python",
   "name": "python3"
  },
  "language_info": {
   "codemirror_mode": {
    "name": "ipython",
    "version": 3
   },
   "file_extension": ".py",
   "mimetype": "text/x-python",
   "name": "python",
   "nbconvert_exporter": "python",
   "pygments_lexer": "ipython3",
   "version": "3.6.1"
  }
 },
 "nbformat": 4,
 "nbformat_minor": 1
}
