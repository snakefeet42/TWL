{
 "cells": [
  {
   "cell_type": "code",
   "execution_count": 5,
   "metadata": {
    "colab": {
     "autoexec": {
      "startup": false,
      "wait_interval": 0
     }
    },
    "colab_type": "code",
    "collapsed": true,
    "id": "kHTLi2WyXx8n"
   },
   "outputs": [],
   "source": [
    "import pandas as pd\n",
    "from urllib import request\n",
    "from bs4 import BeautifulSoup as bs\n",
    "from random import shuffle\n",
    "from re import sub"
   ]
  },
  {
   "cell_type": "code",
   "execution_count": 6,
   "metadata": {
    "colab": {
     "autoexec": {
      "startup": false,
      "wait_interval": 0
     }
    },
    "colab_type": "code",
    "collapsed": true,
    "id": "EhUshY1FXx8t"
   },
   "outputs": [],
   "source": [
    "def get_soup(url):\n",
    "    '''url을 받아 소스코드를 긁어온 후 \n",
    "    BeautifulSoup로 파싱한 것을 반환합니다.\n",
    "    '''\n",
    "    with request.urlopen(url) as f:\n",
    "        html = f.read().decode('utf-8')\n",
    "    soup = bs(html, 'html5lib')\n",
    "    return soup"
   ]
  },
  {
   "cell_type": "code",
   "execution_count": 7,
   "metadata": {
    "colab": {
     "autoexec": {
      "startup": false,
      "wait_interval": 0
     }
    },
    "colab_type": "code",
    "collapsed": true,
    "id": "ULUTR9iEXx8y"
   },
   "outputs": [],
   "source": [
    "def get_pets(soup):\n",
    "    '''BeautifulSoup로 파싱된 소스코드를 받아 \n",
    "    해당 페이지의 하단 청원목록 항목들을 리스트로 반환합니다\n",
    "    '''\n",
    "    pet_body = soup.select(\"div.bl_body ul\")\n",
    "    pet_list = pet_body[1]\n",
    "    pet_items = pet_list.select(\"li div.bl_wrap\")\n",
    "    return pet_items"
   ]
  },
  {
   "cell_type": "code",
   "execution_count": 8,
   "metadata": {
    "colab": {
     "autoexec": {
      "startup": false,
      "wait_interval": 0
     }
    },
    "colab_type": "code",
    "collapsed": true,
    "id": "svXXlm3YXx82"
   },
   "outputs": [],
   "source": [
    "def get_text(elem, choice):\n",
    "    '''청원목록 항목 내의 태그(elem)와 노드 위치(choice)를 받아\n",
    "    태그의 텍스트 노드를 찾아 텍스트를 반환합니다. \n",
    "    '''\n",
    "    elem_children = list(elem.children)\n",
    "    elem_text = elem_children[choice]\n",
    "    elem_trim = elem_text.strip()\n",
    "    return elem_trim"
   ]
  },
  {
   "cell_type": "code",
   "execution_count": 9,
   "metadata": {
    "colab": {
     "autoexec": {
      "startup": false,
      "wait_interval": 0
     }
    },
    "colab_type": "code",
    "collapsed": true,
    "id": "xpWhK0ZiXx87"
   },
   "outputs": [],
   "source": [
    "def get_item_info(item, choice=[1, 1, 1, 2]):\n",
    "    '''청원목록의 한 항목을 받아 \n",
    "    항목의 번호, 분류, 제목, 참여인원을 리스트로 반환합니다.\n",
    "    잘못된 텍스트 노드가 반환될 경우 choice를 0|1|2로 직접 설정해보시기 바랍니다. \n",
    "    '''\n",
    "    num_choice, category_choice, title_choice, votes_choice = choice\n",
    "    num_raw = item.select(\"div.bl_no\")[0]\n",
    "    category_raw = item.select(\"div.bl_category\")[0]\n",
    "    title_raw = item.select(\"div.bl_subject a\")[0]\n",
    "    votes_raw = item.select(\"div.bl_agree\")[0]\n",
    "    \n",
    "    item_info = [get_text(num_raw, num_choice), get_text(category_raw, category_choice), \n",
    "                 get_text(title_raw, title_choice), get_text(votes_raw, votes_choice)]\n",
    "    return item_info\n"
   ]
  },
  {
   "cell_type": "code",
   "execution_count": 10,
   "metadata": {
    "colab": {
     "autoexec": {
      "startup": false,
      "wait_interval": 0
     }
    },
    "colab_type": "code",
    "collapsed": true,
    "id": "X3GJlmCAXx8_"
   },
   "outputs": [],
   "source": [
    "def crawl_page(url, mode='df'):\n",
    "    '''청원목록 페이지 url을 받아 \n",
    "    페이지의 항목(15개)를 추출해 데이터프레임 형태로 반환합니다.\n",
    "    mode='list'를 parameter로 입력할 시 데이터프레임 대신 리스트를 반환합니다.\n",
    "    '''\n",
    "    soup = get_soup(url)\n",
    "    pet_items = get_pets(soup)\n",
    "    lst = []\n",
    "    for i in pet_items:\n",
    "        lst.append(get_item_info(i))\n",
    "        \n",
    "    if mode == 'df':    \n",
    "        df = pd.DataFrame(lst, columns=['번호', '분류', '제목', '참여인원'])\n",
    "        df['참여인원'] = df['참여인원'].str.replace('명', '').astype(\"int64\") \n",
    "        return df\n",
    "    else: \n",
    "        return lst"
   ]
  },
  {
   "cell_type": "code",
   "execution_count": 11,
   "metadata": {
    "colab": {
     "autoexec": {
      "startup": false,
      "wait_interval": 0
     }
    },
    "colab_type": "code",
    "collapsed": true,
    "id": "WQC0akmXXx9D"
   },
   "outputs": [],
   "source": [
    "def get_top_id():\n",
    "    '''가장 최근에 등록된 청원의 번호(id)를 int로 반환합니다\n",
    "    '''\n",
    "    url = \"https://www1.president.go.kr/petitions\"\n",
    "    soup = get_soup(url)\n",
    "    pet_top = get_pets(soup)[0]\n",
    "    pet_top_id = int(get_item_info(pet_top)[0])\n",
    "    return pet_top_id"
   ]
  },
  {
   "cell_type": "code",
   "execution_count": 12,
   "metadata": {
    "colab": {
     "autoexec": {
      "startup": false,
      "wait_interval": 0
     }
    },
    "colab_type": "code",
    "collapsed": true,
    "id": "5ebaxIcqXx9I"
   },
   "outputs": [],
   "source": [
    "def crawl_pet(petnum):\n",
    "    '''청원글 본문 번호를 받아 해당 청원글의 제목과 본문을 추출,\n",
    "    리스트로 반환.\n",
    "    '''\n",
    "    url = \"https://www1.president.go.kr/petitions/\" + str(petnum)\n",
    "    soup = get_soup(url)\n",
    "    title = soup.find(\"h3\", class_=\"petitionsView_title\").text\n",
    "    content_raw = soup.find(\"div\", class_=\"View_write\").text\n",
    "    content = sub(\"\\n\\t+\", '', content_raw)\n",
    "    return ([title, content])"
   ]
  },
  {
   "cell_type": "markdown",
   "metadata": {
    "colab_type": "text",
    "id": "g0qXwXxnXx9Q"
   },
   "source": [
    "# 기본과제\n",
    "\n",
    "국민청원 첫 페이지 하단의 **청원 목록**에서 **번호, 분류, 제목, 참여인원**을 추출하여 **DataFrame**에 담아주세요."
   ]
  },
  {
   "cell_type": "code",
   "execution_count": 9,
   "metadata": {
    "colab": {
     "autoexec": {
      "startup": false,
      "wait_interval": 0
     },
     "base_uri": "https://localhost:8080/",
     "height": 514
    },
    "colab_type": "code",
    "executionInfo": {
     "elapsed": 2891,
     "status": "ok",
     "timestamp": 1532394170639,
     "user": {
      "displayName": "YeEun Kim",
      "photoUrl": "//lh5.googleusercontent.com/-RTRfysn0kac/AAAAAAAAAAI/AAAAAAAAAAc/Ntcb80nA1gw/s50-c-k-no/photo.jpg",
      "userId": "106248399916331756161"
     },
     "user_tz": -540
    },
    "id": "lCC9d4ZHXx9R",
    "outputId": "be315db4-a78d-45ec-d24a-07ab972005f3"
   },
   "outputs": [
    {
     "data": {
      "text/html": [
       "<div>\n",
       "<style scoped>\n",
       "    .dataframe tbody tr th:only-of-type {\n",
       "        vertical-align: middle;\n",
       "    }\n",
       "\n",
       "    .dataframe tbody tr th {\n",
       "        vertical-align: top;\n",
       "    }\n",
       "\n",
       "    .dataframe thead th {\n",
       "        text-align: right;\n",
       "    }\n",
       "</style>\n",
       "<table border=\"1\" class=\"dataframe\">\n",
       "  <thead>\n",
       "    <tr style=\"text-align: right;\">\n",
       "      <th></th>\n",
       "      <th>번호</th>\n",
       "      <th>분류</th>\n",
       "      <th>제목</th>\n",
       "      <th>참여인원</th>\n",
       "    </tr>\n",
       "  </thead>\n",
       "  <tbody>\n",
       "    <tr>\n",
       "      <th>0</th>\n",
       "      <td>244595</td>\n",
       "      <td>정치개혁</td>\n",
       "      <td>언론에서 8만명 강조하고있다 이재명 관련</td>\n",
       "      <td>0</td>\n",
       "    </tr>\n",
       "    <tr>\n",
       "      <th>1</th>\n",
       "      <td>244594</td>\n",
       "      <td>행정</td>\n",
       "      <td>인력사무소 여행사 환전소 에대한 청산이필요</td>\n",
       "      <td>0</td>\n",
       "    </tr>\n",
       "    <tr>\n",
       "      <th>2</th>\n",
       "      <td>244593</td>\n",
       "      <td>정치개혁</td>\n",
       "      <td>제발 뒤로가기좀 해주세요..아~~진짜 답답하다...</td>\n",
       "      <td>0</td>\n",
       "    </tr>\n",
       "    <tr>\n",
       "      <th>3</th>\n",
       "      <td>244592</td>\n",
       "      <td>정치개혁</td>\n",
       "      <td>이재명경기도지사 청원 참여 가장 많은 곳으로 링크 ...</td>\n",
       "      <td>7</td>\n",
       "    </tr>\n",
       "    <tr>\n",
       "      <th>4</th>\n",
       "      <td>244591</td>\n",
       "      <td>반려동물</td>\n",
       "      <td>반려동물  키우는 사람들!!!</td>\n",
       "      <td>1</td>\n",
       "    </tr>\n",
       "    <tr>\n",
       "      <th>5</th>\n",
       "      <td>244590</td>\n",
       "      <td>정치개혁</td>\n",
       "      <td>한 국회의원을 보낸 국회와 정치계에 청원함</td>\n",
       "      <td>0</td>\n",
       "    </tr>\n",
       "    <tr>\n",
       "      <th>6</th>\n",
       "      <td>244589</td>\n",
       "      <td>기타</td>\n",
       "      <td>자동차 led규제 개선</td>\n",
       "      <td>4</td>\n",
       "    </tr>\n",
       "    <tr>\n",
       "      <th>7</th>\n",
       "      <td>244588</td>\n",
       "      <td>행정</td>\n",
       "      <td>폭염으로 인한 제안</td>\n",
       "      <td>1</td>\n",
       "    </tr>\n",
       "    <tr>\n",
       "      <th>8</th>\n",
       "      <td>244587</td>\n",
       "      <td>인권/성평등</td>\n",
       "      <td>유해드라마 미스터 선샤인 방영금지 해주세요</td>\n",
       "      <td>0</td>\n",
       "    </tr>\n",
       "    <tr>\n",
       "      <th>9</th>\n",
       "      <td>244586</td>\n",
       "      <td>기타</td>\n",
       "      <td>쇄빙선건조</td>\n",
       "      <td>0</td>\n",
       "    </tr>\n",
       "    <tr>\n",
       "      <th>10</th>\n",
       "      <td>244585</td>\n",
       "      <td>기타</td>\n",
       "      <td>공공기관 호봉제 폐지 공무원, 교사부터 시행하라</td>\n",
       "      <td>1</td>\n",
       "    </tr>\n",
       "    <tr>\n",
       "      <th>11</th>\n",
       "      <td>244584</td>\n",
       "      <td>인권/성평등</td>\n",
       "      <td>일간베스트 사이트 조사및 폐지</td>\n",
       "      <td>11</td>\n",
       "    </tr>\n",
       "    <tr>\n",
       "      <th>12</th>\n",
       "      <td>244583</td>\n",
       "      <td>기타</td>\n",
       "      <td>제가 사는 대한민국에 아버지같은 문재인 대통령 뵙고 ...</td>\n",
       "      <td>0</td>\n",
       "    </tr>\n",
       "    <tr>\n",
       "      <th>13</th>\n",
       "      <td>244582</td>\n",
       "      <td>정치개혁</td>\n",
       "      <td>대한민국 언론을 청산해 주시길 바랍니다~</td>\n",
       "      <td>1</td>\n",
       "    </tr>\n",
       "    <tr>\n",
       "      <th>14</th>\n",
       "      <td>244581</td>\n",
       "      <td>기타</td>\n",
       "      <td>문재인 대통령 님을 뵙고 꼭 말씀 드리고 싶습니다.</td>\n",
       "      <td>0</td>\n",
       "    </tr>\n",
       "  </tbody>\n",
       "</table>\n",
       "</div>"
      ],
      "text/plain": [
       "        번호      분류                                제목  참여인원\n",
       "0   244595    정치개혁            언론에서 8만명 강조하고있다 이재명 관련     0\n",
       "1   244594      행정           인력사무소 여행사 환전소 에대한 청산이필요     0\n",
       "2   244593    정치개혁      제발 뒤로가기좀 해주세요..아~~진짜 답답하다...     0\n",
       "3   244592    정치개혁   이재명경기도지사 청원 참여 가장 많은 곳으로 링크 ...     7\n",
       "4   244591    반려동물                  반려동물  키우는 사람들!!!     1\n",
       "5   244590    정치개혁           한 국회의원을 보낸 국회와 정치계에 청원함     0\n",
       "6   244589      기타                      자동차 led규제 개선     4\n",
       "7   244588      행정                        폭염으로 인한 제안     1\n",
       "8   244587  인권/성평등           유해드라마 미스터 선샤인 방영금지 해주세요     0\n",
       "9   244586      기타                             쇄빙선건조     0\n",
       "10  244585      기타        공공기관 호봉제 폐지 공무원, 교사부터 시행하라     1\n",
       "11  244584  인권/성평등                  일간베스트 사이트 조사및 폐지    11\n",
       "12  244583      기타  제가 사는 대한민국에 아버지같은 문재인 대통령 뵙고 ...     0\n",
       "13  244582    정치개혁            대한민국 언론을 청산해 주시길 바랍니다~     1\n",
       "14  244581      기타      문재인 대통령 님을 뵙고 꼭 말씀 드리고 싶습니다.     0"
      ]
     },
     "execution_count": 9,
     "metadata": {
      "tags": []
     },
     "output_type": "execute_result"
    }
   ],
   "source": [
    "url = \"https://www1.president.go.kr/petitions\"\n",
    "df = crawl_page(url)\n",
    "df "
   ]
  },
  {
   "cell_type": "markdown",
   "metadata": {
    "colab_type": "text",
    "id": "_xC8AXQbXx9b"
   },
   "source": [
    "# 선택과제 1\n",
    "\n",
    "국민청원 목록 첫 페이지 주소는 https://www1.president.go.kr/petitions?page=1 입니다. 두번째 페이지 주소는 https://www1.president.go.kr/petitions?page=2 입니다. **처음 10개 페이지**에 순차적으로 방문하여 **번호, 분류, 제목, 참여인원**을 추출하고 그 결과를 **DataFrame**에 담아주세요."
   ]
  },
  {
   "cell_type": "markdown",
   "metadata": {
    "colab_type": "text",
    "id": "Dyez-D99128m"
   },
   "source": [
    "애란쌤 피드백을 참조해서 데이터프레임을 만드는 방식을 바꾸어 보았습니다.\n",
    "\n",
    "> Iteratively appending rows to a DataFrame can be more computationally intensive than a single concatenate. A better solution is to append those rows to a list and then concatenate the list with the original DataFrame all at once.\n",
    "\n",
    "- 첫 번째 코드는 제가 처음 만들었던, 빈 데이터프레임을 우선 생성한 후 루프를 돌리며 크롤링한 데이터를 매번 DataFrame타입으로 변환하여 반복적으로  DataFrame에 append 하는 방식을 사용했으며\n",
    "\n",
    "- 두 번째 코드는 애란쌤 피드백을 참조해서 빈 리스트를 우선 생성한 후 루프를 돌리며 크롤링한 데이터를 리스트에 append해 다 크롤링한 후 DataFrame으로 만들어주는 방식을 사용했습니다.\n",
    "\n",
    "\n",
    "어느쪽이 더 효율적인지 측정하기 위해 처리에 걸리는 시간을 비교해봅니다."
   ]
  },
  {
   "cell_type": "code",
   "execution_count": 13,
   "metadata": {
    "colab": {
     "autoexec": {
      "startup": false,
      "wait_interval": 0
     }
    },
    "colab_type": "code",
    "collapsed": true,
    "id": "nOTdCg060ZRb"
   },
   "outputs": [],
   "source": [
    "from time import time"
   ]
  },
  {
   "cell_type": "code",
   "execution_count": 16,
   "metadata": {
    "colab": {
     "autoexec": {
      "startup": false,
      "wait_interval": 0
     },
     "base_uri": "https://localhost:8080/",
     "height": 215
    },
    "colab_type": "code",
    "executionInfo": {
     "elapsed": 19367,
     "status": "ok",
     "timestamp": 1532394190049,
     "user": {
      "displayName": "YeEun Kim",
      "photoUrl": "//lh5.googleusercontent.com/-RTRfysn0kac/AAAAAAAAAAI/AAAAAAAAAAc/Ntcb80nA1gw/s50-c-k-no/photo.jpg",
      "userId": "106248399916331756161"
     },
     "user_tz": -540
    },
    "id": "9rNK3XmLXx9c",
    "outputId": "d4ece545-62db-4d34-92fb-029bfad1a708"
   },
   "outputs": [
    {
     "name": "stdout",
     "output_type": "stream",
     "text": [
      "페이지 1를 크롤링 중입니다\n",
      "페이지 2를 크롤링 중입니다\n",
      "페이지 3를 크롤링 중입니다\n",
      "페이지 4를 크롤링 중입니다\n",
      "페이지 5를 크롤링 중입니다\n",
      "페이지 6를 크롤링 중입니다\n",
      "페이지 7를 크롤링 중입니다\n",
      "페이지 8를 크롤링 중입니다\n",
      "페이지 9를 크롤링 중입니다\n",
      "페이지 10를 크롤링 중입니다\n",
      "크롤링 완료.\n",
      "걸린 시간:  7.343382358551025\n"
     ]
    }
   ],
   "source": [
    "# PLAN 1\n",
    "tic = time()\n",
    "\n",
    "url_base = \"https://www1.president.go.kr/petitions?page=\"\n",
    "df = pd.DataFrame([], columns=['번호', '분류', '제목', '참여인원'])\n",
    "\n",
    "for i in range(1,11):\n",
    "    url_temp = url_base + str(i)\n",
    "    df_temp = crawl_page(url_temp)\n",
    "    df = df.append(df_temp, ignore_index=True)\n",
    "    print(\"페이지 %d를 크롤링 중입니다\"%i)\n",
    "    \n",
    "print(\"크롤링 완료.\")    \n",
    "\n",
    "toc = time()\n",
    "print('걸린 시간: ', toc - tic)"
   ]
  },
  {
   "cell_type": "code",
   "execution_count": 17,
   "metadata": {
    "colab": {
     "autoexec": {
      "startup": false,
      "wait_interval": 0
     }
    },
    "colab_type": "code",
    "id": "fgG6DjyQ0VI5"
   },
   "outputs": [
    {
     "name": "stdout",
     "output_type": "stream",
     "text": [
      "페이지 1를 크롤링 중입니다\n",
      "페이지 2를 크롤링 중입니다\n",
      "페이지 3를 크롤링 중입니다\n",
      "페이지 4를 크롤링 중입니다\n",
      "페이지 5를 크롤링 중입니다\n",
      "페이지 6를 크롤링 중입니다\n",
      "페이지 7를 크롤링 중입니다\n",
      "페이지 8를 크롤링 중입니다\n",
      "페이지 9를 크롤링 중입니다\n",
      "페이지 10를 크롤링 중입니다\n",
      "크롤링 완료.\n",
      "걸린 시간:  7.555988311767578\n"
     ]
    }
   ],
   "source": [
    "# PLAN 2\n",
    "tic = time()\n",
    "\n",
    "url_base = \"https://www1.president.go.kr/petitions?page=\"\n",
    "article_lst = []\n",
    "\n",
    "for i in range(1,11):\n",
    "    url_temp = url_base + str(i)\n",
    "    df_temp = crawl_page(url_temp, mode=\"list\")[1: ]\n",
    "    article_lst.append(df_temp)\n",
    "    print(\"페이지 %d를 크롤링 중입니다\"%i)\n",
    "\n",
    "df = pd.DataFrame(article_lst[0], columns=['번호', '분류', '제목', '참여인원'])\n",
    "df['참여인원'] = df['참여인원'].str.replace('명', '').astype(\"int64\")\n",
    "print(\"크롤링 완료.\")    \n",
    "\n",
    "toc = time()\n",
    "print('걸린 시간: ', toc - tic)"
   ]
  },
  {
   "cell_type": "code",
   "execution_count": 11,
   "metadata": {
    "colab": {
     "autoexec": {
      "startup": false,
      "wait_interval": 0
     },
     "base_uri": "https://localhost:8080/",
     "height": 532
    },
    "colab_type": "code",
    "executionInfo": {
     "elapsed": 680,
     "status": "ok",
     "timestamp": 1532394190767,
     "user": {
      "displayName": "YeEun Kim",
      "photoUrl": "//lh5.googleusercontent.com/-RTRfysn0kac/AAAAAAAAAAI/AAAAAAAAAAc/Ntcb80nA1gw/s50-c-k-no/photo.jpg",
      "userId": "106248399916331756161"
     },
     "user_tz": -540
    },
    "id": "D9A6-tfbXx9g",
    "outputId": "7e242591-3576-4bf2-8042-2aab68e31224"
   },
   "outputs": [
    {
     "name": "stdout",
     "output_type": "stream",
     "text": [
      "(150, 4)\n"
     ]
    },
    {
     "data": {
      "text/html": [
       "<div>\n",
       "<style scoped>\n",
       "    .dataframe tbody tr th:only-of-type {\n",
       "        vertical-align: middle;\n",
       "    }\n",
       "\n",
       "    .dataframe tbody tr th {\n",
       "        vertical-align: top;\n",
       "    }\n",
       "\n",
       "    .dataframe thead th {\n",
       "        text-align: right;\n",
       "    }\n",
       "</style>\n",
       "<table border=\"1\" class=\"dataframe\">\n",
       "  <thead>\n",
       "    <tr style=\"text-align: right;\">\n",
       "      <th></th>\n",
       "      <th>번호</th>\n",
       "      <th>분류</th>\n",
       "      <th>제목</th>\n",
       "      <th>참여인원</th>\n",
       "    </tr>\n",
       "  </thead>\n",
       "  <tbody>\n",
       "    <tr>\n",
       "      <th>95</th>\n",
       "      <td>244502</td>\n",
       "      <td>성장동력</td>\n",
       "      <td>연금통합</td>\n",
       "      <td>1</td>\n",
       "    </tr>\n",
       "    <tr>\n",
       "      <th>56</th>\n",
       "      <td>244541</td>\n",
       "      <td>정치개혁</td>\n",
       "      <td>노회찬의원을 살려내라.</td>\n",
       "      <td>5</td>\n",
       "    </tr>\n",
       "    <tr>\n",
       "      <th>149</th>\n",
       "      <td>244448</td>\n",
       "      <td>안전/환경</td>\n",
       "      <td>화재안전특별조사의 자료정리방식에 관하여</td>\n",
       "      <td>0</td>\n",
       "    </tr>\n",
       "    <tr>\n",
       "      <th>43</th>\n",
       "      <td>244554</td>\n",
       "      <td>교통/건축/국토</td>\n",
       "      <td>전기 누진세제도 폐지 부탁합니다.</td>\n",
       "      <td>13</td>\n",
       "    </tr>\n",
       "    <tr>\n",
       "      <th>116</th>\n",
       "      <td>244481</td>\n",
       "      <td>보건복지</td>\n",
       "      <td>저소득층 국민을 위한 폭서기, 폭한기 대책을 청원합 ...</td>\n",
       "      <td>2</td>\n",
       "    </tr>\n",
       "    <tr>\n",
       "      <th>39</th>\n",
       "      <td>244558</td>\n",
       "      <td>보건복지</td>\n",
       "      <td>장애인차량 주차 표지판 개선을 부탁 드립니다</td>\n",
       "      <td>11</td>\n",
       "    </tr>\n",
       "    <tr>\n",
       "      <th>120</th>\n",
       "      <td>244477</td>\n",
       "      <td>기타</td>\n",
       "      <td>전기요금 누진제 폐지</td>\n",
       "      <td>14</td>\n",
       "    </tr>\n",
       "    <tr>\n",
       "      <th>12</th>\n",
       "      <td>244584</td>\n",
       "      <td>인권/성평등</td>\n",
       "      <td>일간베스트 사이트 조사및 폐지</td>\n",
       "      <td>11</td>\n",
       "    </tr>\n",
       "    <tr>\n",
       "      <th>62</th>\n",
       "      <td>244535</td>\n",
       "      <td>기타</td>\n",
       "      <td>국립경찰병원의료진개선</td>\n",
       "      <td>0</td>\n",
       "    </tr>\n",
       "    <tr>\n",
       "      <th>29</th>\n",
       "      <td>244568</td>\n",
       "      <td>정치개혁</td>\n",
       "      <td>붕괴3rd 한국서버를 중국서버로 이전해주세요</td>\n",
       "      <td>2</td>\n",
       "    </tr>\n",
       "    <tr>\n",
       "      <th>133</th>\n",
       "      <td>244464</td>\n",
       "      <td>정치개혁</td>\n",
       "      <td>공직자 윤리법을 개정하여 주십시요,</td>\n",
       "      <td>1</td>\n",
       "    </tr>\n",
       "    <tr>\n",
       "      <th>53</th>\n",
       "      <td>244544</td>\n",
       "      <td>인권/성평등</td>\n",
       "      <td>임시공휴일도 법적공휴일로 지정해주세요</td>\n",
       "      <td>1</td>\n",
       "    </tr>\n",
       "    <tr>\n",
       "      <th>45</th>\n",
       "      <td>244552</td>\n",
       "      <td>안전/환경</td>\n",
       "      <td>전기세 누진제를 폐지또는 개정 부탁드립니다</td>\n",
       "      <td>6</td>\n",
       "    </tr>\n",
       "    <tr>\n",
       "      <th>114</th>\n",
       "      <td>244483</td>\n",
       "      <td>경제민주화</td>\n",
       "      <td>한국 증권시장 이럴거면 문닫아라</td>\n",
       "      <td>5</td>\n",
       "    </tr>\n",
       "    <tr>\n",
       "      <th>87</th>\n",
       "      <td>244510</td>\n",
       "      <td>기타</td>\n",
       "      <td>북한문제 쉬운길이 있는데 왜 못찾는가?</td>\n",
       "      <td>1</td>\n",
       "    </tr>\n",
       "  </tbody>\n",
       "</table>\n",
       "</div>"
      ],
      "text/plain": [
       "         번호        분류                                제목 참여인원\n",
       "95   244502      성장동력                              연금통합    1\n",
       "56   244541      정치개혁                      노회찬의원을 살려내라.    5\n",
       "149  244448     안전/환경             화재안전특별조사의 자료정리방식에 관하여    0\n",
       "43   244554  교통/건축/국토                전기 누진세제도 폐지 부탁합니다.   13\n",
       "116  244481      보건복지  저소득층 국민을 위한 폭서기, 폭한기 대책을 청원합 ...    2\n",
       "39   244558      보건복지          장애인차량 주차 표지판 개선을 부탁 드립니다   11\n",
       "120  244477        기타                       전기요금 누진제 폐지   14\n",
       "12   244584    인권/성평등                  일간베스트 사이트 조사및 폐지   11\n",
       "62   244535        기타                       국립경찰병원의료진개선    0\n",
       "29   244568      정치개혁          붕괴3rd 한국서버를 중국서버로 이전해주세요    2\n",
       "133  244464      정치개혁               공직자 윤리법을 개정하여 주십시요,    1\n",
       "53   244544    인권/성평등              임시공휴일도 법적공휴일로 지정해주세요    1\n",
       "45   244552     안전/환경           전기세 누진제를 폐지또는 개정 부탁드립니다    6\n",
       "114  244483     경제민주화                 한국 증권시장 이럴거면 문닫아라    5\n",
       "87   244510        기타             북한문제 쉬운길이 있는데 왜 못찾는가?    1"
      ]
     },
     "execution_count": 11,
     "metadata": {
      "tags": []
     },
     "output_type": "execute_result"
    }
   ],
   "source": [
    "print(df.shape)\n",
    "df.sample(15)"
   ]
  },
  {
   "cell_type": "markdown",
   "metadata": {
    "colab_type": "text",
    "id": "UCSSPXjUXx9l"
   },
   "source": [
    "# 선택과제 2\n",
    "\n",
    "2018년 7월 17일 현재 국민청원의 글 번호는 1번부터 238663번까지 부여되어 있습니다. 하지만 중간중간 *삭제된 청원*이 있어서 실제 청원 수는 238663개보다 적습니다. 309510번 청원글 본문의 URL은 https://www1.president.go.kr/petitions/309510 입니다.\n",
    "URL에서 글번호만 바꾸면 해당 청원의 본문으로 이동할 수 있습니다. **이러한 URL 패턴의 특성을 활용**하여 전체 청원 중 **임의로 100개** 청원의 **제목과 본문**을 추출하여 **DataFrame**에 담아주세요."
   ]
  },
  {
   "cell_type": "code",
   "execution_count": 0,
   "metadata": {
    "colab": {
     "autoexec": {
      "startup": false,
      "wait_interval": 0
     },
     "base_uri": "https://localhost:8080/",
     "height": 215
    },
    "colab_type": "code",
    "id": "Rpd_CIi3Xx9l",
    "outputId": "1b5ab3fd-6a0e-4e81-858d-ae0c383a7c9e"
   },
   "outputs": [
    {
     "name": "stdout",
     "output_type": "stream",
     "text": [
      "삭제된 청원입니다. 글 번호: 241278, 총 크롤링 수: 0\n",
      "삭제된 청원입니다. 글 번호: 221304, 총 크롤링 수: 6\n",
      "삭제된 청원입니다. 글 번호: 203122, 총 크롤링 수: 12\n",
      "삭제된 청원입니다. 글 번호: 234467, 총 크롤링 수: 12\n",
      "삭제된 청원입니다. 글 번호: 117660, 총 크롤링 수: 18\n",
      "삭제된 청원입니다. 글 번호: 87820, 총 크롤링 수: 18\n",
      "삭제된 청원입니다. 글 번호: 225492, 총 크롤링 수: 18\n",
      "삭제된 청원입니다. 글 번호: 86934, 총 크롤링 수: 26\n",
      "삭제된 청원입니다. 글 번호: 233178, 총 크롤링 수: 26\n",
      "삭제된 청원입니다. 글 번호: 8565, 총 크롤링 수: 30\n",
      "삭제된 청원입니다. 글 번호: 77870, 총 크롤링 수: 35\n"
     ]
    }
   ],
   "source": [
    "url_base = \"https://www1.president.go.kr/petitions/\"\n",
    "topid = get_top_id()\n",
    "pool = list(range(1, topid+1))\n",
    "shuffle(pool)\n",
    "picked = []\n",
    "article_lst = []\n",
    "\n",
    "while len(picked) < 100:\n",
    "    pet = pool.pop()\n",
    "    try:\n",
    "        article = crawl_pet(pet)\n",
    "        article_lst.append(article)\n",
    "        picked.append(pet)\n",
    "    except:\n",
    "        print('삭제된 청원입니다. 글 번호: %d, 총 크롤링 수: %d'%(pet, len(article_lst)) )\n",
    "    \n",
    "df = pd.DataFrame(article_lst, columns=[\"제목\", \"본문\"])\n",
    "print(\"청원 크롤링이 완료되었습니다. 총 크롤링 수: %d\" %len(df))"
   ]
  },
  {
   "cell_type": "code",
   "execution_count": 13,
   "metadata": {
    "colab": {
     "autoexec": {
      "startup": false,
      "wait_interval": 0
     },
     "base_uri": "https://localhost:8080/",
     "height": 513
    },
    "colab_type": "code",
    "executionInfo": {
     "elapsed": 677,
     "status": "ok",
     "timestamp": 1532394389366,
     "user": {
      "displayName": "YeEun Kim",
      "photoUrl": "//lh5.googleusercontent.com/-RTRfysn0kac/AAAAAAAAAAI/AAAAAAAAAAc/Ntcb80nA1gw/s50-c-k-no/photo.jpg",
      "userId": "106248399916331756161"
     },
     "user_tz": -540
    },
    "id": "MYDP3LoyXx9s",
    "outputId": "28da9a61-6c3f-4da3-b098-00f756237c39"
   },
   "outputs": [
    {
     "name": "stdout",
     "output_type": "stream",
     "text": [
      "(100, 2)\n"
     ]
    },
    {
     "data": {
      "text/html": [
       "<div>\n",
       "<style scoped>\n",
       "    .dataframe tbody tr th:only-of-type {\n",
       "        vertical-align: middle;\n",
       "    }\n",
       "\n",
       "    .dataframe tbody tr th {\n",
       "        vertical-align: top;\n",
       "    }\n",
       "\n",
       "    .dataframe thead th {\n",
       "        text-align: right;\n",
       "    }\n",
       "</style>\n",
       "<table border=\"1\" class=\"dataframe\">\n",
       "  <thead>\n",
       "    <tr style=\"text-align: right;\">\n",
       "      <th></th>\n",
       "      <th>제목</th>\n",
       "      <th>본문</th>\n",
       "    </tr>\n",
       "  </thead>\n",
       "  <tbody>\n",
       "    <tr>\n",
       "      <th>5</th>\n",
       "      <td>문체부에서 '리메즈 엔터테이먼트'의  음원순위조작 의혹을 해소해주세요</td>\n",
       "      <td>4월 12 오전 1시경에 가수 '닐로' 의 지나오다의 곡이 음원최대 사이트 멜론에서...</td>\n",
       "    </tr>\n",
       "    <tr>\n",
       "      <th>43</th>\n",
       "      <td>청소년보호법폐지</td>\n",
       "      <td>청원합니다</td>\n",
       "    </tr>\n",
       "    <tr>\n",
       "      <th>3</th>\n",
       "      <td>강원랜드 특검 드루킹특검 이유미조작사건 특검다같이합시다</td>\n",
       "      <td>국회의원들  특히 자한당 바미당이좋아하는 특검 국민들이 의구심있는  강원랜드  이유...</td>\n",
       "    </tr>\n",
       "    <tr>\n",
       "      <th>95</th>\n",
       "      <td>이명박근혜 패거리들의 천인공노 할 만행을 낱낱히 밝혀야 나라가 바로섭니다</td>\n",
       "      <td>나라 말아 먹고도 여기저기 싸돌아 댕기는 이명박 출국금지</td>\n",
       "    </tr>\n",
       "    <tr>\n",
       "      <th>39</th>\n",
       "      <td>자유한국당정신치매해산</td>\n",
       "      <td>안녕하세요^^시민들성질폭발합니다.노무현재단괴롭다,문재인님너무힘들요,국가운영너무잘함,...</td>\n",
       "    </tr>\n",
       "    <tr>\n",
       "      <th>20</th>\n",
       "      <td>청소년 보호법 폐지 꼭 이루어졌으면</td>\n",
       "      <td>저 5명때문에 다른 청소년들이 피해를 받을 것을 생각하면 좀 그렇지만, 걔네들 5명...</td>\n",
       "    </tr>\n",
       "    <tr>\n",
       "      <th>46</th>\n",
       "      <td>지방선거떄 보자</td>\n",
       "      <td>현 정부가 촛불로 탄생한 이유가 니들이 잘나서가 아니라 저들이 못 나서 그런건데 현...</td>\n",
       "    </tr>\n",
       "    <tr>\n",
       "      <th>10</th>\n",
       "      <td>모든 범죄에 대한 형벌의 기준을 바로 잡아 주세요. (년 이하 -&gt; 년 이상)</td>\n",
       "      <td>우리나라의 형벌 기준은 ~년 이하의 징역, ~만원 이하의 벌금 등으로 이루어져 있습...</td>\n",
       "    </tr>\n",
       "    <tr>\n",
       "      <th>63</th>\n",
       "      <td>이번 개헌 때 \"대통령 사면권 폐지\" 청원합니다</td>\n",
       "      <td>대한민국 대통령은 \"사면권\"이라는 특별한 권한을 가지고 있습니다 대한민국은 법치국가...</td>\n",
       "    </tr>\n",
       "    <tr>\n",
       "      <th>37</th>\n",
       "      <td>염순덕상사의 죽음에 대해 진실을 밝혀주세요</td>\n",
       "      <td>4월 24일과 31일에 방영된 sbs그것이알고싶다를 통해 세상에 알려진 억울하게 돌...</td>\n",
       "    </tr>\n",
       "  </tbody>\n",
       "</table>\n",
       "</div>"
      ],
      "text/plain": [
       "                                             제목  \\\n",
       "5        문체부에서 '리메즈 엔터테이먼트'의  음원순위조작 의혹을 해소해주세요   \n",
       "43                                     청소년보호법폐지   \n",
       "3                강원랜드 특검 드루킹특검 이유미조작사건 특검다같이합시다   \n",
       "95     이명박근혜 패거리들의 천인공노 할 만행을 낱낱히 밝혀야 나라가 바로섭니다   \n",
       "39                                  자유한국당정신치매해산   \n",
       "20                          청소년 보호법 폐지 꼭 이루어졌으면   \n",
       "46                                     지방선거떄 보자   \n",
       "10  모든 범죄에 대한 형벌의 기준을 바로 잡아 주세요. (년 이하 -> 년 이상)   \n",
       "63                   이번 개헌 때 \"대통령 사면권 폐지\" 청원합니다   \n",
       "37                      염순덕상사의 죽음에 대해 진실을 밝혀주세요   \n",
       "\n",
       "                                                   본문  \n",
       "5   4월 12 오전 1시경에 가수 '닐로' 의 지나오다의 곡이 음원최대 사이트 멜론에서...  \n",
       "43                                             청원합니다   \n",
       "3   국회의원들  특히 자한당 바미당이좋아하는 특검 국민들이 의구심있는  강원랜드  이유...  \n",
       "95                   나라 말아 먹고도 여기저기 싸돌아 댕기는 이명박 출국금지   \n",
       "39  안녕하세요^^시민들성질폭발합니다.노무현재단괴롭다,문재인님너무힘들요,국가운영너무잘함,...  \n",
       "20  저 5명때문에 다른 청소년들이 피해를 받을 것을 생각하면 좀 그렇지만, 걔네들 5명...  \n",
       "46  현 정부가 촛불로 탄생한 이유가 니들이 잘나서가 아니라 저들이 못 나서 그런건데 현...  \n",
       "10  우리나라의 형벌 기준은 ~년 이하의 징역, ~만원 이하의 벌금 등으로 이루어져 있습...  \n",
       "63  대한민국 대통령은 \"사면권\"이라는 특별한 권한을 가지고 있습니다 대한민국은 법치국가...  \n",
       "37  4월 24일과 31일에 방영된 sbs그것이알고싶다를 통해 세상에 알려진 억울하게 돌...  "
      ]
     },
     "execution_count": 13,
     "metadata": {
      "tags": []
     },
     "output_type": "execute_result"
    }
   ],
   "source": [
    "print(df.shape)\n",
    "df.sample(10)"
   ]
  },
  {
   "cell_type": "code",
   "execution_count": 0,
   "metadata": {
    "colab": {
     "autoexec": {
      "startup": false,
      "wait_interval": 0
     }
    },
    "colab_type": "code",
    "collapsed": true,
    "id": "-SfR0zRIXx9z"
   },
   "outputs": [],
   "source": []
  },
  {
   "cell_type": "code",
   "execution_count": 0,
   "metadata": {
    "colab": {
     "autoexec": {
      "startup": false,
      "wait_interval": 0
     }
    },
    "colab_type": "code",
    "collapsed": true,
    "id": "4Dm36aWnXx93"
   },
   "outputs": [],
   "source": []
  }
 ],
 "metadata": {
  "colab": {
   "default_view": {},
   "name": "김예은_국민청원.ipynb",
   "provenance": [],
   "version": "0.3.2",
   "views": {}
  },
  "kernelspec": {
   "display_name": "Python 3",
   "language": "python",
   "name": "python3"
  },
  "language_info": {
   "codemirror_mode": {
    "name": "ipython",
    "version": 3
   },
   "file_extension": ".py",
   "mimetype": "text/x-python",
   "name": "python",
   "nbconvert_exporter": "python",
   "pygments_lexer": "ipython3",
   "version": "3.6.1"
  }
 },
 "nbformat": 4,
 "nbformat_minor": 1
}
